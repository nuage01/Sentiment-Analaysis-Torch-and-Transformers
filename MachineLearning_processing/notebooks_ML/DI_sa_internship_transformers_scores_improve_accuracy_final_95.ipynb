{
  "nbformat": 4,
  "nbformat_minor": 0,
  "metadata": {
    "colab": {
      "name": "DI_sa_internship_transformers_scores_improve_accuracy_final_95.ipynb",
      "provenance": [],
      "collapsed_sections": []
    },
    "kernelspec": {
      "name": "python3",
      "display_name": "Python 3"
    },
    "accelerator": "GPU",
    "widgets": {
      "application/vnd.jupyter.widget-state+json": {
        "152155855fad46fa9236c702e0c93712": {
          "model_module": "@jupyter-widgets/controls",
          "model_name": "HBoxModel",
          "state": {
            "_view_name": "HBoxView",
            "_dom_classes": [],
            "_model_name": "HBoxModel",
            "_view_module": "@jupyter-widgets/controls",
            "_model_module_version": "1.5.0",
            "_view_count": null,
            "_view_module_version": "1.5.0",
            "box_style": "",
            "layout": "IPY_MODEL_bb534581c3804b2f8d5f8e25e7872aa2",
            "_model_module": "@jupyter-widgets/controls",
            "children": [
              "IPY_MODEL_86b826d6ad8141c9aac1142c1b301896",
              "IPY_MODEL_042fb41c210543909262a7b9cf43d7a0"
            ]
          }
        },
        "bb534581c3804b2f8d5f8e25e7872aa2": {
          "model_module": "@jupyter-widgets/base",
          "model_name": "LayoutModel",
          "state": {
            "_view_name": "LayoutView",
            "grid_template_rows": null,
            "right": null,
            "justify_content": null,
            "_view_module": "@jupyter-widgets/base",
            "overflow": null,
            "_model_module_version": "1.2.0",
            "_view_count": null,
            "flex_flow": null,
            "width": null,
            "min_width": null,
            "border": null,
            "align_items": null,
            "bottom": null,
            "_model_module": "@jupyter-widgets/base",
            "top": null,
            "grid_column": null,
            "overflow_y": null,
            "overflow_x": null,
            "grid_auto_flow": null,
            "grid_area": null,
            "grid_template_columns": null,
            "flex": null,
            "_model_name": "LayoutModel",
            "justify_items": null,
            "grid_row": null,
            "max_height": null,
            "align_content": null,
            "visibility": null,
            "align_self": null,
            "height": null,
            "min_height": null,
            "padding": null,
            "grid_auto_rows": null,
            "grid_gap": null,
            "max_width": null,
            "order": null,
            "_view_module_version": "1.2.0",
            "grid_template_areas": null,
            "object_position": null,
            "object_fit": null,
            "grid_auto_columns": null,
            "margin": null,
            "display": null,
            "left": null
          }
        },
        "86b826d6ad8141c9aac1142c1b301896": {
          "model_module": "@jupyter-widgets/controls",
          "model_name": "FloatProgressModel",
          "state": {
            "_view_name": "ProgressView",
            "style": "IPY_MODEL_3b3c5ebaf7d44de886d4bda7b5177de9",
            "_dom_classes": [],
            "description": "Downloading: 100%",
            "_model_name": "FloatProgressModel",
            "bar_style": "success",
            "max": 231508,
            "_view_module": "@jupyter-widgets/controls",
            "_model_module_version": "1.5.0",
            "value": 231508,
            "_view_count": null,
            "_view_module_version": "1.5.0",
            "orientation": "horizontal",
            "min": 0,
            "description_tooltip": null,
            "_model_module": "@jupyter-widgets/controls",
            "layout": "IPY_MODEL_45348b6b832d48bd95b182de1394624e"
          }
        },
        "042fb41c210543909262a7b9cf43d7a0": {
          "model_module": "@jupyter-widgets/controls",
          "model_name": "HTMLModel",
          "state": {
            "_view_name": "HTMLView",
            "style": "IPY_MODEL_91637e9214ff409e8f9f33de8e14a9ed",
            "_dom_classes": [],
            "description": "",
            "_model_name": "HTMLModel",
            "placeholder": "​",
            "_view_module": "@jupyter-widgets/controls",
            "_model_module_version": "1.5.0",
            "value": " 232k/232k [00:00&lt;00:00, 770kB/s]",
            "_view_count": null,
            "_view_module_version": "1.5.0",
            "description_tooltip": null,
            "_model_module": "@jupyter-widgets/controls",
            "layout": "IPY_MODEL_4a9f4b5b5d6947e0ae4acf62be0290f1"
          }
        },
        "3b3c5ebaf7d44de886d4bda7b5177de9": {
          "model_module": "@jupyter-widgets/controls",
          "model_name": "ProgressStyleModel",
          "state": {
            "_view_name": "StyleView",
            "_model_name": "ProgressStyleModel",
            "description_width": "initial",
            "_view_module": "@jupyter-widgets/base",
            "_model_module_version": "1.5.0",
            "_view_count": null,
            "_view_module_version": "1.2.0",
            "bar_color": null,
            "_model_module": "@jupyter-widgets/controls"
          }
        },
        "45348b6b832d48bd95b182de1394624e": {
          "model_module": "@jupyter-widgets/base",
          "model_name": "LayoutModel",
          "state": {
            "_view_name": "LayoutView",
            "grid_template_rows": null,
            "right": null,
            "justify_content": null,
            "_view_module": "@jupyter-widgets/base",
            "overflow": null,
            "_model_module_version": "1.2.0",
            "_view_count": null,
            "flex_flow": null,
            "width": null,
            "min_width": null,
            "border": null,
            "align_items": null,
            "bottom": null,
            "_model_module": "@jupyter-widgets/base",
            "top": null,
            "grid_column": null,
            "overflow_y": null,
            "overflow_x": null,
            "grid_auto_flow": null,
            "grid_area": null,
            "grid_template_columns": null,
            "flex": null,
            "_model_name": "LayoutModel",
            "justify_items": null,
            "grid_row": null,
            "max_height": null,
            "align_content": null,
            "visibility": null,
            "align_self": null,
            "height": null,
            "min_height": null,
            "padding": null,
            "grid_auto_rows": null,
            "grid_gap": null,
            "max_width": null,
            "order": null,
            "_view_module_version": "1.2.0",
            "grid_template_areas": null,
            "object_position": null,
            "object_fit": null,
            "grid_auto_columns": null,
            "margin": null,
            "display": null,
            "left": null
          }
        },
        "91637e9214ff409e8f9f33de8e14a9ed": {
          "model_module": "@jupyter-widgets/controls",
          "model_name": "DescriptionStyleModel",
          "state": {
            "_view_name": "StyleView",
            "_model_name": "DescriptionStyleModel",
            "description_width": "",
            "_view_module": "@jupyter-widgets/base",
            "_model_module_version": "1.5.0",
            "_view_count": null,
            "_view_module_version": "1.2.0",
            "_model_module": "@jupyter-widgets/controls"
          }
        },
        "4a9f4b5b5d6947e0ae4acf62be0290f1": {
          "model_module": "@jupyter-widgets/base",
          "model_name": "LayoutModel",
          "state": {
            "_view_name": "LayoutView",
            "grid_template_rows": null,
            "right": null,
            "justify_content": null,
            "_view_module": "@jupyter-widgets/base",
            "overflow": null,
            "_model_module_version": "1.2.0",
            "_view_count": null,
            "flex_flow": null,
            "width": null,
            "min_width": null,
            "border": null,
            "align_items": null,
            "bottom": null,
            "_model_module": "@jupyter-widgets/base",
            "top": null,
            "grid_column": null,
            "overflow_y": null,
            "overflow_x": null,
            "grid_auto_flow": null,
            "grid_area": null,
            "grid_template_columns": null,
            "flex": null,
            "_model_name": "LayoutModel",
            "justify_items": null,
            "grid_row": null,
            "max_height": null,
            "align_content": null,
            "visibility": null,
            "align_self": null,
            "height": null,
            "min_height": null,
            "padding": null,
            "grid_auto_rows": null,
            "grid_gap": null,
            "max_width": null,
            "order": null,
            "_view_module_version": "1.2.0",
            "grid_template_areas": null,
            "object_position": null,
            "object_fit": null,
            "grid_auto_columns": null,
            "margin": null,
            "display": null,
            "left": null
          }
        },
        "407aca28340a436983022c33b8acf0ad": {
          "model_module": "@jupyter-widgets/controls",
          "model_name": "HBoxModel",
          "state": {
            "_view_name": "HBoxView",
            "_dom_classes": [],
            "_model_name": "HBoxModel",
            "_view_module": "@jupyter-widgets/controls",
            "_model_module_version": "1.5.0",
            "_view_count": null,
            "_view_module_version": "1.5.0",
            "box_style": "",
            "layout": "IPY_MODEL_4723e596c8714969a743cb84d123d18e",
            "_model_module": "@jupyter-widgets/controls",
            "children": [
              "IPY_MODEL_607da8470e084900866fa9f791f67f52",
              "IPY_MODEL_1239b733d3784137a3e90a921b60d58b"
            ]
          }
        },
        "4723e596c8714969a743cb84d123d18e": {
          "model_module": "@jupyter-widgets/base",
          "model_name": "LayoutModel",
          "state": {
            "_view_name": "LayoutView",
            "grid_template_rows": null,
            "right": null,
            "justify_content": null,
            "_view_module": "@jupyter-widgets/base",
            "overflow": null,
            "_model_module_version": "1.2.0",
            "_view_count": null,
            "flex_flow": null,
            "width": null,
            "min_width": null,
            "border": null,
            "align_items": null,
            "bottom": null,
            "_model_module": "@jupyter-widgets/base",
            "top": null,
            "grid_column": null,
            "overflow_y": null,
            "overflow_x": null,
            "grid_auto_flow": null,
            "grid_area": null,
            "grid_template_columns": null,
            "flex": null,
            "_model_name": "LayoutModel",
            "justify_items": null,
            "grid_row": null,
            "max_height": null,
            "align_content": null,
            "visibility": null,
            "align_self": null,
            "height": null,
            "min_height": null,
            "padding": null,
            "grid_auto_rows": null,
            "grid_gap": null,
            "max_width": null,
            "order": null,
            "_view_module_version": "1.2.0",
            "grid_template_areas": null,
            "object_position": null,
            "object_fit": null,
            "grid_auto_columns": null,
            "margin": null,
            "display": null,
            "left": null
          }
        },
        "607da8470e084900866fa9f791f67f52": {
          "model_module": "@jupyter-widgets/controls",
          "model_name": "FloatProgressModel",
          "state": {
            "_view_name": "ProgressView",
            "style": "IPY_MODEL_e7699cada6764c12a193d2e5145f2700",
            "_dom_classes": [],
            "description": "Downloading: 100%",
            "_model_name": "FloatProgressModel",
            "bar_style": "success",
            "max": 433,
            "_view_module": "@jupyter-widgets/controls",
            "_model_module_version": "1.5.0",
            "value": 433,
            "_view_count": null,
            "_view_module_version": "1.5.0",
            "orientation": "horizontal",
            "min": 0,
            "description_tooltip": null,
            "_model_module": "@jupyter-widgets/controls",
            "layout": "IPY_MODEL_6e70c90d2a1c4ea4b6cd0c04a28e2206"
          }
        },
        "1239b733d3784137a3e90a921b60d58b": {
          "model_module": "@jupyter-widgets/controls",
          "model_name": "HTMLModel",
          "state": {
            "_view_name": "HTMLView",
            "style": "IPY_MODEL_939ed81685cd418e8b8429f41addf811",
            "_dom_classes": [],
            "description": "",
            "_model_name": "HTMLModel",
            "placeholder": "​",
            "_view_module": "@jupyter-widgets/controls",
            "_model_module_version": "1.5.0",
            "value": " 433/433 [00:00&lt;00:00, 938B/s]",
            "_view_count": null,
            "_view_module_version": "1.5.0",
            "description_tooltip": null,
            "_model_module": "@jupyter-widgets/controls",
            "layout": "IPY_MODEL_7d95fd53b10e48f59e8283b7f41b1c8d"
          }
        },
        "e7699cada6764c12a193d2e5145f2700": {
          "model_module": "@jupyter-widgets/controls",
          "model_name": "ProgressStyleModel",
          "state": {
            "_view_name": "StyleView",
            "_model_name": "ProgressStyleModel",
            "description_width": "initial",
            "_view_module": "@jupyter-widgets/base",
            "_model_module_version": "1.5.0",
            "_view_count": null,
            "_view_module_version": "1.2.0",
            "bar_color": null,
            "_model_module": "@jupyter-widgets/controls"
          }
        },
        "6e70c90d2a1c4ea4b6cd0c04a28e2206": {
          "model_module": "@jupyter-widgets/base",
          "model_name": "LayoutModel",
          "state": {
            "_view_name": "LayoutView",
            "grid_template_rows": null,
            "right": null,
            "justify_content": null,
            "_view_module": "@jupyter-widgets/base",
            "overflow": null,
            "_model_module_version": "1.2.0",
            "_view_count": null,
            "flex_flow": null,
            "width": null,
            "min_width": null,
            "border": null,
            "align_items": null,
            "bottom": null,
            "_model_module": "@jupyter-widgets/base",
            "top": null,
            "grid_column": null,
            "overflow_y": null,
            "overflow_x": null,
            "grid_auto_flow": null,
            "grid_area": null,
            "grid_template_columns": null,
            "flex": null,
            "_model_name": "LayoutModel",
            "justify_items": null,
            "grid_row": null,
            "max_height": null,
            "align_content": null,
            "visibility": null,
            "align_self": null,
            "height": null,
            "min_height": null,
            "padding": null,
            "grid_auto_rows": null,
            "grid_gap": null,
            "max_width": null,
            "order": null,
            "_view_module_version": "1.2.0",
            "grid_template_areas": null,
            "object_position": null,
            "object_fit": null,
            "grid_auto_columns": null,
            "margin": null,
            "display": null,
            "left": null
          }
        },
        "939ed81685cd418e8b8429f41addf811": {
          "model_module": "@jupyter-widgets/controls",
          "model_name": "DescriptionStyleModel",
          "state": {
            "_view_name": "StyleView",
            "_model_name": "DescriptionStyleModel",
            "description_width": "",
            "_view_module": "@jupyter-widgets/base",
            "_model_module_version": "1.5.0",
            "_view_count": null,
            "_view_module_version": "1.2.0",
            "_model_module": "@jupyter-widgets/controls"
          }
        },
        "7d95fd53b10e48f59e8283b7f41b1c8d": {
          "model_module": "@jupyter-widgets/base",
          "model_name": "LayoutModel",
          "state": {
            "_view_name": "LayoutView",
            "grid_template_rows": null,
            "right": null,
            "justify_content": null,
            "_view_module": "@jupyter-widgets/base",
            "overflow": null,
            "_model_module_version": "1.2.0",
            "_view_count": null,
            "flex_flow": null,
            "width": null,
            "min_width": null,
            "border": null,
            "align_items": null,
            "bottom": null,
            "_model_module": "@jupyter-widgets/base",
            "top": null,
            "grid_column": null,
            "overflow_y": null,
            "overflow_x": null,
            "grid_auto_flow": null,
            "grid_area": null,
            "grid_template_columns": null,
            "flex": null,
            "_model_name": "LayoutModel",
            "justify_items": null,
            "grid_row": null,
            "max_height": null,
            "align_content": null,
            "visibility": null,
            "align_self": null,
            "height": null,
            "min_height": null,
            "padding": null,
            "grid_auto_rows": null,
            "grid_gap": null,
            "max_width": null,
            "order": null,
            "_view_module_version": "1.2.0",
            "grid_template_areas": null,
            "object_position": null,
            "object_fit": null,
            "grid_auto_columns": null,
            "margin": null,
            "display": null,
            "left": null
          }
        },
        "6670d267fb4f46e3bd134e6ccf7c2386": {
          "model_module": "@jupyter-widgets/controls",
          "model_name": "HBoxModel",
          "state": {
            "_view_name": "HBoxView",
            "_dom_classes": [],
            "_model_name": "HBoxModel",
            "_view_module": "@jupyter-widgets/controls",
            "_model_module_version": "1.5.0",
            "_view_count": null,
            "_view_module_version": "1.5.0",
            "box_style": "",
            "layout": "IPY_MODEL_0d7e211ba0e249a1817c62bc09330dd5",
            "_model_module": "@jupyter-widgets/controls",
            "children": [
              "IPY_MODEL_c939ae697c694907a2f535b1ec26b501",
              "IPY_MODEL_d5824dd5030349ebac1d3ad88e3ea59e"
            ]
          }
        },
        "0d7e211ba0e249a1817c62bc09330dd5": {
          "model_module": "@jupyter-widgets/base",
          "model_name": "LayoutModel",
          "state": {
            "_view_name": "LayoutView",
            "grid_template_rows": null,
            "right": null,
            "justify_content": null,
            "_view_module": "@jupyter-widgets/base",
            "overflow": null,
            "_model_module_version": "1.2.0",
            "_view_count": null,
            "flex_flow": null,
            "width": null,
            "min_width": null,
            "border": null,
            "align_items": null,
            "bottom": null,
            "_model_module": "@jupyter-widgets/base",
            "top": null,
            "grid_column": null,
            "overflow_y": null,
            "overflow_x": null,
            "grid_auto_flow": null,
            "grid_area": null,
            "grid_template_columns": null,
            "flex": null,
            "_model_name": "LayoutModel",
            "justify_items": null,
            "grid_row": null,
            "max_height": null,
            "align_content": null,
            "visibility": null,
            "align_self": null,
            "height": null,
            "min_height": null,
            "padding": null,
            "grid_auto_rows": null,
            "grid_gap": null,
            "max_width": null,
            "order": null,
            "_view_module_version": "1.2.0",
            "grid_template_areas": null,
            "object_position": null,
            "object_fit": null,
            "grid_auto_columns": null,
            "margin": null,
            "display": null,
            "left": null
          }
        },
        "c939ae697c694907a2f535b1ec26b501": {
          "model_module": "@jupyter-widgets/controls",
          "model_name": "FloatProgressModel",
          "state": {
            "_view_name": "ProgressView",
            "style": "IPY_MODEL_7a4ee6b6469d4646803ec2ff5e9546da",
            "_dom_classes": [],
            "description": "Downloading: 100%",
            "_model_name": "FloatProgressModel",
            "bar_style": "success",
            "max": 440473133,
            "_view_module": "@jupyter-widgets/controls",
            "_model_module_version": "1.5.0",
            "value": 440473133,
            "_view_count": null,
            "_view_module_version": "1.5.0",
            "orientation": "horizontal",
            "min": 0,
            "description_tooltip": null,
            "_model_module": "@jupyter-widgets/controls",
            "layout": "IPY_MODEL_bf6eef8fc6ab44779cfb6e0ef4ca540c"
          }
        },
        "d5824dd5030349ebac1d3ad88e3ea59e": {
          "model_module": "@jupyter-widgets/controls",
          "model_name": "HTMLModel",
          "state": {
            "_view_name": "HTMLView",
            "style": "IPY_MODEL_9255619dc7d34616b953daa4af96378b",
            "_dom_classes": [],
            "description": "",
            "_model_name": "HTMLModel",
            "placeholder": "​",
            "_view_module": "@jupyter-widgets/controls",
            "_model_module_version": "1.5.0",
            "value": " 440M/440M [52:23&lt;00:00, 140kB/s]",
            "_view_count": null,
            "_view_module_version": "1.5.0",
            "description_tooltip": null,
            "_model_module": "@jupyter-widgets/controls",
            "layout": "IPY_MODEL_f0c1cd47ed13493fa59d63c4b99b3f1c"
          }
        },
        "7a4ee6b6469d4646803ec2ff5e9546da": {
          "model_module": "@jupyter-widgets/controls",
          "model_name": "ProgressStyleModel",
          "state": {
            "_view_name": "StyleView",
            "_model_name": "ProgressStyleModel",
            "description_width": "initial",
            "_view_module": "@jupyter-widgets/base",
            "_model_module_version": "1.5.0",
            "_view_count": null,
            "_view_module_version": "1.2.0",
            "bar_color": null,
            "_model_module": "@jupyter-widgets/controls"
          }
        },
        "bf6eef8fc6ab44779cfb6e0ef4ca540c": {
          "model_module": "@jupyter-widgets/base",
          "model_name": "LayoutModel",
          "state": {
            "_view_name": "LayoutView",
            "grid_template_rows": null,
            "right": null,
            "justify_content": null,
            "_view_module": "@jupyter-widgets/base",
            "overflow": null,
            "_model_module_version": "1.2.0",
            "_view_count": null,
            "flex_flow": null,
            "width": null,
            "min_width": null,
            "border": null,
            "align_items": null,
            "bottom": null,
            "_model_module": "@jupyter-widgets/base",
            "top": null,
            "grid_column": null,
            "overflow_y": null,
            "overflow_x": null,
            "grid_auto_flow": null,
            "grid_area": null,
            "grid_template_columns": null,
            "flex": null,
            "_model_name": "LayoutModel",
            "justify_items": null,
            "grid_row": null,
            "max_height": null,
            "align_content": null,
            "visibility": null,
            "align_self": null,
            "height": null,
            "min_height": null,
            "padding": null,
            "grid_auto_rows": null,
            "grid_gap": null,
            "max_width": null,
            "order": null,
            "_view_module_version": "1.2.0",
            "grid_template_areas": null,
            "object_position": null,
            "object_fit": null,
            "grid_auto_columns": null,
            "margin": null,
            "display": null,
            "left": null
          }
        },
        "9255619dc7d34616b953daa4af96378b": {
          "model_module": "@jupyter-widgets/controls",
          "model_name": "DescriptionStyleModel",
          "state": {
            "_view_name": "StyleView",
            "_model_name": "DescriptionStyleModel",
            "description_width": "",
            "_view_module": "@jupyter-widgets/base",
            "_model_module_version": "1.5.0",
            "_view_count": null,
            "_view_module_version": "1.2.0",
            "_model_module": "@jupyter-widgets/controls"
          }
        },
        "f0c1cd47ed13493fa59d63c4b99b3f1c": {
          "model_module": "@jupyter-widgets/base",
          "model_name": "LayoutModel",
          "state": {
            "_view_name": "LayoutView",
            "grid_template_rows": null,
            "right": null,
            "justify_content": null,
            "_view_module": "@jupyter-widgets/base",
            "overflow": null,
            "_model_module_version": "1.2.0",
            "_view_count": null,
            "flex_flow": null,
            "width": null,
            "min_width": null,
            "border": null,
            "align_items": null,
            "bottom": null,
            "_model_module": "@jupyter-widgets/base",
            "top": null,
            "grid_column": null,
            "overflow_y": null,
            "overflow_x": null,
            "grid_auto_flow": null,
            "grid_area": null,
            "grid_template_columns": null,
            "flex": null,
            "_model_name": "LayoutModel",
            "justify_items": null,
            "grid_row": null,
            "max_height": null,
            "align_content": null,
            "visibility": null,
            "align_self": null,
            "height": null,
            "min_height": null,
            "padding": null,
            "grid_auto_rows": null,
            "grid_gap": null,
            "max_width": null,
            "order": null,
            "_view_module_version": "1.2.0",
            "grid_template_areas": null,
            "object_position": null,
            "object_fit": null,
            "grid_auto_columns": null,
            "margin": null,
            "display": null,
            "left": null
          }
        }
      }
    }
  },
  "cells": [
    {
      "cell_type": "markdown",
      "metadata": {
        "id": "PGnlRWvkY-2c"
      },
      "source": [
        "### Making Sentiment Classification (score predicition positive or negeative ( 1 or 0) on reviews using torch and transformers libraries, and State of the Art Models.\n",
        "\n",
        "### Method 1: Making our own script to Finetune BERT case Model, using our data from deifferent retailers (Amazon, Asda..), right our  sentiment prediction Class and the output Layer (full code using torch)\n",
        "\n",
        "### Method 2: make score prediction using  directly a model finetuned with Reviews Data, multi langual (french and english with 68% precision on exact Rating value (5 stars, 4 starts...) and about 98% on score (positif or negative) by https://www.nlp.town/blog/, Code using EasySequenceClassifier from adaptnlp \n",
        "\n",
        "#### huggingface link: https://huggingface.co/nlptown/bert-base-multilingual-uncased-sentiment?text=excellent+ordered+second+time+already+great+price\n",
        "\n",
        "\n",
        "#### Author: Elyes Khalfaoui, DataImpact"
      ]
    },
    {
      "cell_type": "markdown",
      "metadata": {
        "id": "kYptKe3q8N2s"
      },
      "source": [
        "### <font color='green'>1. Installing Libs, importing modules and set configurations </font> "
      ]
    },
    {
      "cell_type": "code",
      "metadata": {
        "id": "dUn_Pdt4wMWD"
      },
      "source": [
        "# libraires install and configurations\n",
        "!pip install adaptnlp\n",
        "!pip install -q -U watermark\n",
        "!pip install -qq transformers\n"
      ],
      "execution_count": 141,
      "outputs": []
    },
    {
      "cell_type": "code",
      "metadata": {
        "colab": {
          "base_uri": "https://localhost:8080/"
        },
        "id": "N67pkbmC8i-M",
        "outputId": "42fb6595-8f04-47e5-a883-2ae7bc43271c"
      },
      "source": [
        "%reload_ext watermark\n",
        "%watermark -v -p numpy,pandas,torch,transformers\n",
        "import transformers\n",
        "from transformers import BertModel, BertTokenizer, AdamW, get_linear_schedule_with_warmup\n",
        "from transformers import CamembertModel, CamembertTokenizer\n",
        "import torch\n",
        "import numpy as np\n",
        "import pandas as pd\n",
        "import seaborn as sns\n",
        "from pylab import rcParams\n",
        "import matplotlib.pyplot as plt\n",
        "from matplotlib import rc\n",
        "from sklearn.metrics import confusion_matrix, classification_report\n",
        "from collections import defaultdict\n",
        "from textwrap import wrap\n",
        "from torch import nn, optim\n",
        "from torch.utils.data import Dataset, DataLoader\n",
        "import torch.nn.functional as F\n",
        "from termcolor import colored\n",
        "%matplotlib inline\n",
        "\n",
        "\n",
        "device = torch.device(\"cuda:0\" if torch.cuda.is_available() else \"cpu\")\n",
        "class_names = ['negative', 'positive']"
      ],
      "execution_count": 1,
      "outputs": [
        {
          "output_type": "stream",
          "text": [
            "CPython 3.6.9\n",
            "IPython 5.5.0\n",
            "\n",
            "numpy 1.19.4\n",
            "pandas 1.1.5\n",
            "torch 1.7.0+cu101\n",
            "transformers 3.5.1\n"
          ],
          "name": "stdout"
        }
      ]
    },
    {
      "cell_type": "code",
      "metadata": {
        "colab": {
          "base_uri": "https://localhost:8080/"
        },
        "id": "EXPnY8zn89un",
        "outputId": "6e4d6243-af4a-4daa-e29e-c7577ca96a31"
      },
      "source": [
        "\n",
        "RANDOM_SEED = 42\n",
        "np.random.seed(RANDOM_SEED)\n",
        "torch.manual_seed(RANDOM_SEED)\n",
        "device = torch.device(\"cuda:0\" if torch.cuda.is_available() else \"cpu\")\n",
        "device\n",
        "\n"
      ],
      "execution_count": 2,
      "outputs": [
        {
          "output_type": "execute_result",
          "data": {
            "text/plain": [
              "device(type='cuda', index=0)"
            ]
          },
          "metadata": {
            "tags": []
          },
          "execution_count": 2
        }
      ]
    },
    {
      "cell_type": "code",
      "metadata": {
        "colab": {
          "base_uri": "https://localhost:8080/"
        },
        "id": "T7iusEi_9CFv",
        "outputId": "c251c5bd-df83-4eda-bbd0-b93791ca07ee"
      },
      "source": [
        "!nvidia-smi"
      ],
      "execution_count": 3,
      "outputs": [
        {
          "output_type": "stream",
          "text": [
            "Mon Dec 28 15:57:59 2020       \n",
            "+-----------------------------------------------------------------------------+\n",
            "| NVIDIA-SMI 460.27.04    Driver Version: 418.67       CUDA Version: 10.1     |\n",
            "|-------------------------------+----------------------+----------------------+\n",
            "| GPU  Name        Persistence-M| Bus-Id        Disp.A | Volatile Uncorr. ECC |\n",
            "| Fan  Temp  Perf  Pwr:Usage/Cap|         Memory-Usage | GPU-Util  Compute M. |\n",
            "|                               |                      |               MIG M. |\n",
            "|===============================+======================+======================|\n",
            "|   0  Tesla T4            Off  | 00000000:00:04.0 Off |                    0 |\n",
            "| N/A   42C    P8    10W /  70W |     10MiB / 15079MiB |      0%      Default |\n",
            "|                               |                      |                 ERR! |\n",
            "+-------------------------------+----------------------+----------------------+\n",
            "                                                                               \n",
            "+-----------------------------------------------------------------------------+\n",
            "| Processes:                                                                  |\n",
            "|  GPU   GI   CI        PID   Type   Process name                  GPU Memory |\n",
            "|        ID   ID                                                   Usage      |\n",
            "|=============================================================================|\n",
            "|  No running processes found                                                 |\n",
            "+-----------------------------------------------------------------------------+\n"
          ],
          "name": "stdout"
        }
      ]
    },
    {
      "cell_type": "markdown",
      "metadata": {
        "id": "dk4AxySX9ruG"
      },
      "source": [
        "### <font color='green'>2. Méthod I: Full script (using torch),  finetune bert case model and our data </font>"
      ]
    },
    {
      "cell_type": "markdown",
      "metadata": {
        "id": "nZM0GKviobjM"
      },
      "source": [
        "That's hugely imbalanced, but it's okay. We're going to convert the dataset into negative, neutral and positive sentiment:"
      ]
    },
    {
      "cell_type": "code",
      "metadata": {
        "id": "E7Mj-0ne--5t"
      },
      "source": [
        "PRE_TRAINED_MODEL_NAME = 'bert-base-uncased'\n",
        "FRENCH_TRAINED_MODEL_NAME = 'camember_base'"
      ],
      "execution_count": 4,
      "outputs": []
    },
    {
      "cell_type": "markdown",
      "metadata": {
        "id": "NiLb-ltM-ZRz"
      },
      "source": [
        "Let's load a pre-trained [BertTokenizer](https://huggingface.co/transformers/model_doc/bert.html#berttokenizer):"
      ]
    },
    {
      "cell_type": "code",
      "metadata": {
        "id": "H3AfJSZ8NNLF",
        "colab": {
          "base_uri": "https://localhost:8080/",
          "height": 65,
          "referenced_widgets": [
            "152155855fad46fa9236c702e0c93712",
            "bb534581c3804b2f8d5f8e25e7872aa2",
            "86b826d6ad8141c9aac1142c1b301896",
            "042fb41c210543909262a7b9cf43d7a0",
            "3b3c5ebaf7d44de886d4bda7b5177de9",
            "45348b6b832d48bd95b182de1394624e",
            "91637e9214ff409e8f9f33de8e14a9ed",
            "4a9f4b5b5d6947e0ae4acf62be0290f1"
          ]
        },
        "outputId": "e82ebb7f-8ba1-4730-d98e-31b84aa86974"
      },
      "source": [
        "tokenizer = BertTokenizer.from_pretrained(PRE_TRAINED_MODEL_NAME)"
      ],
      "execution_count": 5,
      "outputs": [
        {
          "output_type": "display_data",
          "data": {
            "application/vnd.jupyter.widget-view+json": {
              "model_id": "152155855fad46fa9236c702e0c93712",
              "version_minor": 0,
              "version_major": 2
            },
            "text/plain": [
              "HBox(children=(FloatProgress(value=0.0, description='Downloading', max=231508.0, style=ProgressStyle(descripti…"
            ]
          },
          "metadata": {
            "tags": []
          }
        },
        {
          "output_type": "stream",
          "text": [
            "\n"
          ],
          "name": "stdout"
        }
      ]
    },
    {
      "cell_type": "markdown",
      "metadata": {
        "id": "1ENJc5GC__4G"
      },
      "source": [
        "### <font color='green'> Importing the Data from gcp</font>"
      ]
    },
    {
      "cell_type": "code",
      "metadata": {
        "colab": {
          "base_uri": "https://localhost:8080/"
        },
        "id": "5os5f7OL__kF",
        "outputId": "54202c29-8a29-4133-9982-4f7c075c045d"
      },
      "source": [
        "\n",
        "from google.colab import auth\n",
        "auth.authenticate_user()\n",
        "\n",
        "# https://cloud.google.com/resource-manager/docs/creating-managing-projects\n",
        "project_id = 'dataimpact-rd'\n",
        "!gcloud config set project {project_id}\n"
      ],
      "execution_count": 6,
      "outputs": [
        {
          "output_type": "stream",
          "text": [
            "Updated property [core/project].\n"
          ],
          "name": "stdout"
        }
      ]
    },
    {
      "cell_type": "code",
      "metadata": {
        "colab": {
          "base_uri": "https://localhost:8080/"
        },
        "id": "FysUBgMp__bk",
        "outputId": "5ba775f7-7168-4c25-fed1-40b3d388db75"
      },
      "source": [
        "# Download the file from a given Google Cloud Storage bucket.\n",
        "!gsutil cp gs://di_data_sas/EN/US/Amazon/Data/periode_11/amazon_ml_opinions_topics.csv /tmp/amazon_ml_opinions_topics.csv\n",
        "  \n",
        "# Print the result to make sure the transfer worked.\n",
        "!head -n 5 /tmp/amazon_ml_opinions_topics.csv\n",
        "\n",
        "!gsutil cp gs://di_data_sas/EN/US/Walmart/Data/2020_periode_1/walmart_ml_opinions.csv /tmp/walmart_ml_opinions_topics.csv\n",
        "!gsutil cp  gs://di_data_sas/EN/US/Target/Data/2020_periode_1/target_ml_opinions.csv /tmp/target_ml_opinions_topics.csv\n",
        "!gsutil cp gs://di_data_sas/EN/UK/Asda/Data/2020_periode_1/asda_ml_opinions.csv /tmp/asda_ml_opinions_topics.csv\n",
        "!gsutil cp gs://di_data_sas/EN/UK/Morrisons/Data/2020_periode_1/morrisons_ml_opinions.csv /tmp/morrisons_ml_opinions_topics.csv\n",
        "!gsutil cp gs://di_data_sas/EN/UK/Ocado/Data/2020_periode_1/ocado_ml_opinions.csv  /tmp/ocado_ml_opinions_topics.csv\n",
        "!gsutil cp gs://di_data_sas/FR/Coursesu/Data/2020_periode_10/coursesu_ml_opinions.csv /tmp/courseu.csv"
      ],
      "execution_count": 7,
      "outputs": [
        {
          "output_type": "stream",
          "text": [
            "Copying gs://di_data_sas/EN/US/Amazon/Data/periode_11/amazon_ml_opinions_topics.csv...\n",
            "| [1 files][  1.7 GiB/  1.7 GiB]  117.9 MiB/s                                   \n",
            "Operation completed over 1 objects/1.7 GiB.                                      \n",
            "asin,average,review_body,review_date,review_likes,review_rating,review_title,five_star,four_star,one_star,pp_date,three_star,two_star,refpe,text_clean,title_clean,ml_score,text,ml_topic,opinion\n",
            "B071F4PVKJ,0.0,the seam on the left sleeve broke in 2 days.  it was likely just an anomaly because the knitting is very high quality otherwise.,2019-01-04,0,2.0,\"overall nice, but mine had a bad seam\",,,,2019-11-31,,,1840002706176,seam left sleeve broke days likely anomaly knitting high quality otherwise,overall nice mine bad seam,-1.0,seam left sleeve broke days likely anomaly knitting high quality otherwise overall nice mine bad seam,['delivery'],['']\n",
            "B071F4PVKJ,0.0,loved everything about this sweater..it looks adorable on my dog and it was everything i expected it to be,2018-02-05,1,5.0,five stars,,,,2019-11-31,,,1840002706176,loved everything sweater looks adorable dog everything expected,five stars,1.0,loved everything sweater looks adorable dog everything expected five stars,[],[]\n",
            "B01DPEQBF0,0.0,the cutest most durable sweater. absolutely love this. my dog looks regal. haha,2019-11-15,0,5.0,thick and durable,,,,2019-11-31,,,1840002207522,cutest durable sweater absolutely love dog looks regal haha,thick durable,1.0,cutest durable sweater absolutely love dog looks regal haha thick durable,['allergens'],['']\n",
            "B01DPEQBF0,0.0,i have a golden retriever and i got xxl it fit good it was a little long from the back but not big of a deal overall it was perfect my dog loves it!,2019-10-29,0,5.0,good!,,,,2019-11-31,,,1840002207522,golden retriever got xxl fit good little long back not big deal overall perfect dog loves,good,1.0,golden retriever got xxl fit good little long back not big deal overall perfect dog loves good,['price'],[]\n",
            "Copying gs://di_data_sas/EN/US/Walmart/Data/2020_periode_1/walmart_ml_opinions.csv...\n",
            "\\ [1 files][415.6 MiB/415.6 MiB]                                                \n",
            "Operation completed over 1 objects/415.6 MiB.                                    \n",
            "Copying gs://di_data_sas/EN/US/Target/Data/2020_periode_1/target_ml_opinions.csv...\n",
            "\\ [1 files][278.7 MiB/278.7 MiB]                                                \n",
            "Operation completed over 1 objects/278.7 MiB.                                    \n",
            "Copying gs://di_data_sas/EN/UK/Asda/Data/2020_periode_1/asda_ml_opinions.csv...\n",
            "- [1 files][481.1 MiB/481.1 MiB]   17.1 MiB/s                                   \n",
            "Operation completed over 1 objects/481.1 MiB.                                    \n",
            "Copying gs://di_data_sas/EN/UK/Morrisons/Data/2020_periode_1/morrisons_ml_opinions.csv...\n",
            "/ [1 files][ 17.8 MiB/ 17.8 MiB]                                                \n",
            "Operation completed over 1 objects/17.8 MiB.                                     \n",
            "Copying gs://di_data_sas/EN/UK/Ocado/Data/2020_periode_1/ocado_ml_opinions.csv...\n",
            "| [1 files][214.1 MiB/214.1 MiB]                                                \n",
            "Operation completed over 1 objects/214.1 MiB.                                    \n",
            "Copying gs://di_data_sas/FR/Coursesu/Data/2020_periode_10/coursesu_ml_opinions.csv...\n",
            "/ [1 files][ 17.7 MiB/ 17.7 MiB]                                                \n",
            "Operation completed over 1 objects/17.7 MiB.                                     \n"
          ],
          "name": "stdout"
        }
      ]
    },
    {
      "cell_type": "code",
      "metadata": {
        "colab": {
          "base_uri": "https://localhost:8080/",
          "height": 346
        },
        "id": "iHEXrY_i__S-",
        "outputId": "8a64a5fb-5d99-4822-f62b-c3fc39d7f807"
      },
      "source": [
        "asda = pd.read_csv('/tmp/asda_ml_opinions_topics.csv')\n",
        "asda.sample().style.applymap(lambda x: 'background-color:lightblue; border:solid; color:black;' )\n"
      ],
      "execution_count": null,
      "outputs": [
        {
          "output_type": "execute_result",
          "data": {
            "text/html": [
              "<style  type=\"text/css\" >\n",
              "#T_e0445756_491a_11eb_82d2_0242ac1c0002row0_col0,#T_e0445756_491a_11eb_82d2_0242ac1c0002row0_col1,#T_e0445756_491a_11eb_82d2_0242ac1c0002row0_col2,#T_e0445756_491a_11eb_82d2_0242ac1c0002row0_col3,#T_e0445756_491a_11eb_82d2_0242ac1c0002row0_col4,#T_e0445756_491a_11eb_82d2_0242ac1c0002row0_col5,#T_e0445756_491a_11eb_82d2_0242ac1c0002row0_col6,#T_e0445756_491a_11eb_82d2_0242ac1c0002row0_col7,#T_e0445756_491a_11eb_82d2_0242ac1c0002row0_col8,#T_e0445756_491a_11eb_82d2_0242ac1c0002row0_col9,#T_e0445756_491a_11eb_82d2_0242ac1c0002row0_col10,#T_e0445756_491a_11eb_82d2_0242ac1c0002row0_col11,#T_e0445756_491a_11eb_82d2_0242ac1c0002row0_col12,#T_e0445756_491a_11eb_82d2_0242ac1c0002row0_col13,#T_e0445756_491a_11eb_82d2_0242ac1c0002row0_col14{\n",
              "            background-color: lightblue;\n",
              "             border: solid;\n",
              "             color: black;\n",
              "        }</style><table id=\"T_e0445756_491a_11eb_82d2_0242ac1c0002\" ><thead>    <tr>        <th class=\"blank level0\" ></th>        <th class=\"col_heading level0 col0\" >review_body</th>        <th class=\"col_heading level0 col1\" >pp_date</th>        <th class=\"col_heading level0 col2\" >review_date</th>        <th class=\"col_heading level0 col3\" >asin</th>        <th class=\"col_heading level0 col4\" >product_name</th>        <th class=\"col_heading level0 col5\" >review_rating</th>        <th class=\"col_heading level0 col6\" >review_title</th>        <th class=\"col_heading level0 col7\" >refpe</th>        <th class=\"col_heading level0 col8\" >text_clean</th>        <th class=\"col_heading level0 col9\" >title_clean</th>        <th class=\"col_heading level0 col10\" >ml_score</th>        <th class=\"col_heading level0 col11\" >text</th>        <th class=\"col_heading level0 col12\" >ml_topic</th>        <th class=\"col_heading level0 col13\" >review</th>        <th class=\"col_heading level0 col14\" >opinion</th>    </tr></thead><tbody>\n",
              "                <tr>\n",
              "                        <th id=\"T_e0445756_491a_11eb_82d2_0242ac1c0002level0_row0\" class=\"row_heading level0 row0\" >231931</th>\n",
              "                        <td id=\"T_e0445756_491a_11eb_82d2_0242ac1c0002row0_col0\" class=\"data row0 col0\" >this is the usual quality i would expect from kitkat. tasty and a good snack mid morning or afternoon! i would prefer all their chocolate to be fairtrade soon if possible - that would make me buy it more over other products. otherwise no complaints and very happy with it.</td>\n",
              "                        <td id=\"T_e0445756_491a_11eb_82d2_0242ac1c0002row0_col1\" class=\"data row0 col1\" >2020-01-31</td>\n",
              "                        <td id=\"T_e0445756_491a_11eb_82d2_0242ac1c0002row0_col2\" class=\"data row0 col2\" >2019-07-01</td>\n",
              "                        <td id=\"T_e0445756_491a_11eb_82d2_0242ac1c0002row0_col3\" class=\"data row0 col3\" >910003122063</td>\n",
              "                        <td id=\"T_e0445756_491a_11eb_82d2_0242ac1c0002row0_col4\" class=\"data row0 col4\" >2 Finger Milk Chocolate Biscuit Bar, 9 Pack</td>\n",
              "                        <td id=\"T_e0445756_491a_11eb_82d2_0242ac1c0002row0_col5\" class=\"data row0 col5\" >5</td>\n",
              "                        <td id=\"T_e0445756_491a_11eb_82d2_0242ac1c0002row0_col6\" class=\"data row0 col6\" >great snack</td>\n",
              "                        <td id=\"T_e0445756_491a_11eb_82d2_0242ac1c0002row0_col7\" class=\"data row0 col7\" >1826000362072</td>\n",
              "                        <td id=\"T_e0445756_491a_11eb_82d2_0242ac1c0002row0_col8\" class=\"data row0 col8\" >usual quality would expect kitkat tasty good snack mid morning afternoon would prefer chocolate fairtrade soon possible would make buy products otherwise complaints happy</td>\n",
              "                        <td id=\"T_e0445756_491a_11eb_82d2_0242ac1c0002row0_col9\" class=\"data row0 col9\" >great snack</td>\n",
              "                        <td id=\"T_e0445756_491a_11eb_82d2_0242ac1c0002row0_col10\" class=\"data row0 col10\" >1</td>\n",
              "                        <td id=\"T_e0445756_491a_11eb_82d2_0242ac1c0002row0_col11\" class=\"data row0 col11\" >usual quality would expect kitkat tasty good snack mid morning afternoon would prefer chocolate fairtrade soon possible would make buy products otherwise complaints happy great snack</td>\n",
              "                        <td id=\"T_e0445756_491a_11eb_82d2_0242ac1c0002row0_col12\" class=\"data row0 col12\" >['taste']</td>\n",
              "                        <td id=\"T_e0445756_491a_11eb_82d2_0242ac1c0002row0_col13\" class=\"data row0 col13\" >this is the usual quality i would expect from kitkat. tasty and a good snack mid morning or afternoon! i would prefer all their chocolate to be fairtrade soon if possible - that would make me buy it more over other products. otherwise no complaints and very happy with it. great snack</td>\n",
              "                        <td id=\"T_e0445756_491a_11eb_82d2_0242ac1c0002row0_col14\" class=\"data row0 col14\" >['great snack', 'good snack']</td>\n",
              "            </tr>\n",
              "    </tbody></table>"
            ],
            "text/plain": [
              "<pandas.io.formats.style.Styler at 0x7fe9e1e35f28>"
            ]
          },
          "metadata": {
            "tags": []
          },
          "execution_count": 24
        }
      ]
    },
    {
      "cell_type": "code",
      "metadata": {
        "colab": {
          "base_uri": "https://localhost:8080/",
          "height": 241
        },
        "id": "8QuMY5Au__H9",
        "outputId": "6e3c9678-d853-4fe5-a6c1-eea500d1761a"
      },
      "source": [
        "morrisons = pd.read_csv('/tmp/morrisons_ml_opinions_topics.csv')\n",
        "morrisons.sample().style.applymap(lambda x: 'background-color:lightblue; border:solid; color:black;' )"
      ],
      "execution_count": null,
      "outputs": [
        {
          "output_type": "execute_result",
          "data": {
            "text/html": [
              "<style  type=\"text/css\" >\n",
              "#T_2dacb9b6_4920_11eb_bdbb_0242ac1c0002row0_col0,#T_2dacb9b6_4920_11eb_bdbb_0242ac1c0002row0_col1,#T_2dacb9b6_4920_11eb_bdbb_0242ac1c0002row0_col2,#T_2dacb9b6_4920_11eb_bdbb_0242ac1c0002row0_col3,#T_2dacb9b6_4920_11eb_bdbb_0242ac1c0002row0_col4,#T_2dacb9b6_4920_11eb_bdbb_0242ac1c0002row0_col5,#T_2dacb9b6_4920_11eb_bdbb_0242ac1c0002row0_col6,#T_2dacb9b6_4920_11eb_bdbb_0242ac1c0002row0_col7,#T_2dacb9b6_4920_11eb_bdbb_0242ac1c0002row0_col8,#T_2dacb9b6_4920_11eb_bdbb_0242ac1c0002row0_col9,#T_2dacb9b6_4920_11eb_bdbb_0242ac1c0002row0_col10,#T_2dacb9b6_4920_11eb_bdbb_0242ac1c0002row0_col11,#T_2dacb9b6_4920_11eb_bdbb_0242ac1c0002row0_col12,#T_2dacb9b6_4920_11eb_bdbb_0242ac1c0002row0_col13{\n",
              "            background-color: lightblue;\n",
              "             border: solid;\n",
              "             color: black;\n",
              "        }</style><table id=\"T_2dacb9b6_4920_11eb_bdbb_0242ac1c0002\" ><thead>    <tr>        <th class=\"blank level0\" ></th>        <th class=\"col_heading level0 col0\" >review_body</th>        <th class=\"col_heading level0 col1\" >pp_date</th>        <th class=\"col_heading level0 col2\" >review_date</th>        <th class=\"col_heading level0 col3\" >asin</th>        <th class=\"col_heading level0 col4\" >review_rating</th>        <th class=\"col_heading level0 col5\" >review_title</th>        <th class=\"col_heading level0 col6\" >refpe</th>        <th class=\"col_heading level0 col7\" >text_clean</th>        <th class=\"col_heading level0 col8\" >title_clean</th>        <th class=\"col_heading level0 col9\" >ml_score</th>        <th class=\"col_heading level0 col10\" >text</th>        <th class=\"col_heading level0 col11\" >ml_topic</th>        <th class=\"col_heading level0 col12\" >review</th>        <th class=\"col_heading level0 col13\" >opinion</th>    </tr></thead><tbody>\n",
              "                <tr>\n",
              "                        <th id=\"T_2dacb9b6_4920_11eb_bdbb_0242ac1c0002level0_row0\" class=\"row_heading level0 row0\" >10673</th>\n",
              "                        <td id=\"T_2dacb9b6_4920_11eb_bdbb_0242ac1c0002row0_col0\" class=\"data row0 col0\" >i wasn't too sure when i bought these but so happy i did yes some small potatoes in the bag but mainly decent size potatoes even a decent size for baked potatoes recommend giving them a try and the price is great value</td>\n",
              "                        <td id=\"T_2dacb9b6_4920_11eb_bdbb_0242ac1c0002row0_col1\" class=\"data row0 col1\" >2020-01-31</td>\n",
              "                        <td id=\"T_2dacb9b6_4920_11eb_bdbb_0242ac1c0002row0_col2\" class=\"data row0 col2\" >2018-12-24</td>\n",
              "                        <td id=\"T_2dacb9b6_4920_11eb_bdbb_0242ac1c0002row0_col3\" class=\"data row0 col3\" >418760011</td>\n",
              "                        <td id=\"T_2dacb9b6_4920_11eb_bdbb_0242ac1c0002row0_col4\" class=\"data row0 col4\" >5.000000</td>\n",
              "                        <td id=\"T_2dacb9b6_4920_11eb_bdbb_0242ac1c0002row0_col5\" class=\"data row0 col5\" >great value</td>\n",
              "                        <td id=\"T_2dacb9b6_4920_11eb_bdbb_0242ac1c0002row0_col6\" class=\"data row0 col6\" >1826001522654</td>\n",
              "                        <td id=\"T_2dacb9b6_4920_11eb_bdbb_0242ac1c0002row0_col7\" class=\"data row0 col7\" >sure bought happy yes small potatoes bag mainly decent size potatoes even decent size baked potatoes recommend giving try price great value</td>\n",
              "                        <td id=\"T_2dacb9b6_4920_11eb_bdbb_0242ac1c0002row0_col8\" class=\"data row0 col8\" >great value</td>\n",
              "                        <td id=\"T_2dacb9b6_4920_11eb_bdbb_0242ac1c0002row0_col9\" class=\"data row0 col9\" >1.000000</td>\n",
              "                        <td id=\"T_2dacb9b6_4920_11eb_bdbb_0242ac1c0002row0_col10\" class=\"data row0 col10\" >sure bought happy yes small potatoes bag mainly decent size potatoes even decent size baked potatoes recommend giving try price great value great value</td>\n",
              "                        <td id=\"T_2dacb9b6_4920_11eb_bdbb_0242ac1c0002row0_col11\" class=\"data row0 col11\" >['packaging', 'price']</td>\n",
              "                        <td id=\"T_2dacb9b6_4920_11eb_bdbb_0242ac1c0002row0_col12\" class=\"data row0 col12\" >i wasn't too sure when i bought these but so happy i did yes some small potatoes in the bag but mainly decent size potatoes even a decent size for baked potatoes recommend giving them a try and the price is great value great value</td>\n",
              "                        <td id=\"T_2dacb9b6_4920_11eb_bdbb_0242ac1c0002row0_col13\" class=\"data row0 col13\" >['even decent size', 'great value great value']</td>\n",
              "            </tr>\n",
              "    </tbody></table>"
            ],
            "text/plain": [
              "<pandas.io.formats.style.Styler at 0x7f369b014198>"
            ]
          },
          "metadata": {
            "tags": []
          },
          "execution_count": 8
        }
      ]
    },
    {
      "cell_type": "code",
      "metadata": {
        "colab": {
          "base_uri": "https://localhost:8080/",
          "height": 155
        },
        "id": "b8z4BlicFIyS",
        "outputId": "4a219345-63ac-41ee-cbc5-5d58bf36a6b7"
      },
      "source": [
        "courseu = pd.read_csv('/tmp/courseu.csv')\n",
        "courseu.sample().style.applymap(lambda x: 'background-color:lightblue; border:solid; color:black;' )"
      ],
      "execution_count": null,
      "outputs": [
        {
          "output_type": "execute_result",
          "data": {
            "text/html": [
              "<style  type=\"text/css\" >\n",
              "#T_d538e1ec_491a_11eb_82d2_0242ac1c0002row0_col0,#T_d538e1ec_491a_11eb_82d2_0242ac1c0002row0_col1,#T_d538e1ec_491a_11eb_82d2_0242ac1c0002row0_col2,#T_d538e1ec_491a_11eb_82d2_0242ac1c0002row0_col3,#T_d538e1ec_491a_11eb_82d2_0242ac1c0002row0_col4,#T_d538e1ec_491a_11eb_82d2_0242ac1c0002row0_col5,#T_d538e1ec_491a_11eb_82d2_0242ac1c0002row0_col6,#T_d538e1ec_491a_11eb_82d2_0242ac1c0002row0_col7,#T_d538e1ec_491a_11eb_82d2_0242ac1c0002row0_col8,#T_d538e1ec_491a_11eb_82d2_0242ac1c0002row0_col9,#T_d538e1ec_491a_11eb_82d2_0242ac1c0002row0_col10,#T_d538e1ec_491a_11eb_82d2_0242ac1c0002row0_col11,#T_d538e1ec_491a_11eb_82d2_0242ac1c0002row0_col12,#T_d538e1ec_491a_11eb_82d2_0242ac1c0002row0_col13{\n",
              "            background-color: lightblue;\n",
              "             border: solid;\n",
              "             color: black;\n",
              "        }</style><table id=\"T_d538e1ec_491a_11eb_82d2_0242ac1c0002\" ><thead>    <tr>        <th class=\"blank level0\" ></th>        <th class=\"col_heading level0 col0\" >review_body</th>        <th class=\"col_heading level0 col1\" >review_title</th>        <th class=\"col_heading level0 col2\" >asin</th>        <th class=\"col_heading level0 col3\" >pp_date</th>        <th class=\"col_heading level0 col4\" >review_rating</th>        <th class=\"col_heading level0 col5\" >review_date</th>        <th class=\"col_heading level0 col6\" >refpe</th>        <th class=\"col_heading level0 col7\" >text_clean</th>        <th class=\"col_heading level0 col8\" >title_clean</th>        <th class=\"col_heading level0 col9\" >ml_score</th>        <th class=\"col_heading level0 col10\" >text</th>        <th class=\"col_heading level0 col11\" >ml_topic</th>        <th class=\"col_heading level0 col12\" >review</th>        <th class=\"col_heading level0 col13\" >opinion</th>    </tr></thead><tbody>\n",
              "                <tr>\n",
              "                        <th id=\"T_d538e1ec_491a_11eb_82d2_0242ac1c0002level0_row0\" class=\"row_heading level0 row0\" >14264</th>\n",
              "                        <td id=\"T_d538e1ec_491a_11eb_82d2_0242ac1c0002row0_col0\" class=\"data row0 col0\" >bon rapport qualité prix, bon goût, bio donc animaux mieux traité, sans produits chimiques.</td>\n",
              "                        <td id=\"T_d538e1ec_491a_11eb_82d2_0242ac1c0002row0_col1\" class=\"data row0 col1\" >bio, bon et pas trop cher</td>\n",
              "                        <td id=\"T_d538e1ec_491a_11eb_82d2_0242ac1c0002row0_col2\" class=\"data row0 col2\" >6583588</td>\n",
              "                        <td id=\"T_d538e1ec_491a_11eb_82d2_0242ac1c0002row0_col3\" class=\"data row0 col3\" >2020-10-31</td>\n",
              "                        <td id=\"T_d538e1ec_491a_11eb_82d2_0242ac1c0002row0_col4\" class=\"data row0 col4\" >4</td>\n",
              "                        <td id=\"T_d538e1ec_491a_11eb_82d2_0242ac1c0002row0_col5\" class=\"data row0 col5\" >2019-12-03</td>\n",
              "                        <td id=\"T_d538e1ec_491a_11eb_82d2_0242ac1c0002row0_col6\" class=\"data row0 col6\" >1250002717748</td>\n",
              "                        <td id=\"T_d538e1ec_491a_11eb_82d2_0242ac1c0002row0_col7\" class=\"data row0 col7\" >bon rapport qualité prix bon goût bio donc animaux mieux traité sans produits chimiques</td>\n",
              "                        <td id=\"T_d538e1ec_491a_11eb_82d2_0242ac1c0002row0_col8\" class=\"data row0 col8\" >bio bon et pas trop cher</td>\n",
              "                        <td id=\"T_d538e1ec_491a_11eb_82d2_0242ac1c0002row0_col9\" class=\"data row0 col9\" >1</td>\n",
              "                        <td id=\"T_d538e1ec_491a_11eb_82d2_0242ac1c0002row0_col10\" class=\"data row0 col10\" >bon rapport qualité prix bon goût bio donc animaux mieux traité sans produits chimiques bio bon et pas trop cher</td>\n",
              "                        <td id=\"T_d538e1ec_491a_11eb_82d2_0242ac1c0002row0_col11\" class=\"data row0 col11\" >['price', 'taste']</td>\n",
              "                        <td id=\"T_d538e1ec_491a_11eb_82d2_0242ac1c0002row0_col12\" class=\"data row0 col12\" >bon rapport qualité prix, bon goût, bio donc animaux mieux traité, sans produits chimiques. bio, bon et pas trop cher</td>\n",
              "                        <td id=\"T_d538e1ec_491a_11eb_82d2_0242ac1c0002row0_col13\" class=\"data row0 col13\" >[]</td>\n",
              "            </tr>\n",
              "    </tbody></table>"
            ],
            "text/plain": [
              "<pandas.io.formats.style.Styler at 0x7fe9f2602400>"
            ]
          },
          "metadata": {
            "tags": []
          },
          "execution_count": 22
        }
      ]
    },
    {
      "cell_type": "code",
      "metadata": {
        "colab": {
          "base_uri": "https://localhost:8080/",
          "height": 402
        },
        "id": "AR-lynlFzBmk",
        "outputId": "fa32d31e-0cf2-49f7-fe32-eb1aa0e0709f"
      },
      "source": [
        "amazon = pd.read_csv('/tmp/amazon_ml_opinions_topics.csv')\n",
        "amazon.sample().style.applymap(lambda x: 'background-color:lightblue; border:solid; color:black;' )"
      ],
      "execution_count": null,
      "outputs": [
        {
          "output_type": "stream",
          "text": [
            "/usr/local/lib/python3.6/dist-packages/IPython/core/interactiveshell.py:2718: DtypeWarning: Columns (4,13) have mixed types.Specify dtype option on import or set low_memory=False.\n",
            "  interactivity=interactivity, compiler=compiler, result=result)\n"
          ],
          "name": "stderr"
        },
        {
          "output_type": "execute_result",
          "data": {
            "text/html": [
              "<style  type=\"text/css\" >\n",
              "#T_29cf25b8_491b_11eb_82d2_0242ac1c0002row0_col0,#T_29cf25b8_491b_11eb_82d2_0242ac1c0002row0_col1,#T_29cf25b8_491b_11eb_82d2_0242ac1c0002row0_col2,#T_29cf25b8_491b_11eb_82d2_0242ac1c0002row0_col3,#T_29cf25b8_491b_11eb_82d2_0242ac1c0002row0_col4,#T_29cf25b8_491b_11eb_82d2_0242ac1c0002row0_col5,#T_29cf25b8_491b_11eb_82d2_0242ac1c0002row0_col6,#T_29cf25b8_491b_11eb_82d2_0242ac1c0002row0_col7,#T_29cf25b8_491b_11eb_82d2_0242ac1c0002row0_col8,#T_29cf25b8_491b_11eb_82d2_0242ac1c0002row0_col9,#T_29cf25b8_491b_11eb_82d2_0242ac1c0002row0_col10,#T_29cf25b8_491b_11eb_82d2_0242ac1c0002row0_col11,#T_29cf25b8_491b_11eb_82d2_0242ac1c0002row0_col12,#T_29cf25b8_491b_11eb_82d2_0242ac1c0002row0_col13,#T_29cf25b8_491b_11eb_82d2_0242ac1c0002row0_col14,#T_29cf25b8_491b_11eb_82d2_0242ac1c0002row0_col15,#T_29cf25b8_491b_11eb_82d2_0242ac1c0002row0_col16,#T_29cf25b8_491b_11eb_82d2_0242ac1c0002row0_col17,#T_29cf25b8_491b_11eb_82d2_0242ac1c0002row0_col18,#T_29cf25b8_491b_11eb_82d2_0242ac1c0002row0_col19{\n",
              "            background-color: lightblue;\n",
              "             border: solid;\n",
              "             color: black;\n",
              "        }</style><table id=\"T_29cf25b8_491b_11eb_82d2_0242ac1c0002\" ><thead>    <tr>        <th class=\"blank level0\" ></th>        <th class=\"col_heading level0 col0\" >asin</th>        <th class=\"col_heading level0 col1\" >average</th>        <th class=\"col_heading level0 col2\" >review_body</th>        <th class=\"col_heading level0 col3\" >review_date</th>        <th class=\"col_heading level0 col4\" >review_likes</th>        <th class=\"col_heading level0 col5\" >review_rating</th>        <th class=\"col_heading level0 col6\" >review_title</th>        <th class=\"col_heading level0 col7\" >five_star</th>        <th class=\"col_heading level0 col8\" >four_star</th>        <th class=\"col_heading level0 col9\" >one_star</th>        <th class=\"col_heading level0 col10\" >pp_date</th>        <th class=\"col_heading level0 col11\" >three_star</th>        <th class=\"col_heading level0 col12\" >two_star</th>        <th class=\"col_heading level0 col13\" >refpe</th>        <th class=\"col_heading level0 col14\" >text_clean</th>        <th class=\"col_heading level0 col15\" >title_clean</th>        <th class=\"col_heading level0 col16\" >ml_score</th>        <th class=\"col_heading level0 col17\" >text</th>        <th class=\"col_heading level0 col18\" >ml_topic</th>        <th class=\"col_heading level0 col19\" >opinion</th>    </tr></thead><tbody>\n",
              "                <tr>\n",
              "                        <th id=\"T_29cf25b8_491b_11eb_82d2_0242ac1c0002level0_row0\" class=\"row_heading level0 row0\" >2955098</th>\n",
              "                        <td id=\"T_29cf25b8_491b_11eb_82d2_0242ac1c0002row0_col0\" class=\"data row0 col0\" >B01GNE85PS</td>\n",
              "                        <td id=\"T_29cf25b8_491b_11eb_82d2_0242ac1c0002row0_col1\" class=\"data row0 col1\" >0.000000</td>\n",
              "                        <td id=\"T_29cf25b8_491b_11eb_82d2_0242ac1c0002row0_col2\" class=\"data row0 col2\" >love this for moisturizer and for cooking. my legs get so dry in the winter. the first day i used this i had no more problems.works great for cooking and you have to use very little. going to try on my hair next.</td>\n",
              "                        <td id=\"T_29cf25b8_491b_11eb_82d2_0242ac1c0002row0_col3\" class=\"data row0 col3\" >2015-01-18</td>\n",
              "                        <td id=\"T_29cf25b8_491b_11eb_82d2_0242ac1c0002row0_col4\" class=\"data row0 col4\" >2</td>\n",
              "                        <td id=\"T_29cf25b8_491b_11eb_82d2_0242ac1c0002row0_col5\" class=\"data row0 col5\" >5.000000</td>\n",
              "                        <td id=\"T_29cf25b8_491b_11eb_82d2_0242ac1c0002row0_col6\" class=\"data row0 col6\" >love this for moisturizer and for cooking</td>\n",
              "                        <td id=\"T_29cf25b8_491b_11eb_82d2_0242ac1c0002row0_col7\" class=\"data row0 col7\" >nan</td>\n",
              "                        <td id=\"T_29cf25b8_491b_11eb_82d2_0242ac1c0002row0_col8\" class=\"data row0 col8\" >nan</td>\n",
              "                        <td id=\"T_29cf25b8_491b_11eb_82d2_0242ac1c0002row0_col9\" class=\"data row0 col9\" >nan</td>\n",
              "                        <td id=\"T_29cf25b8_491b_11eb_82d2_0242ac1c0002row0_col10\" class=\"data row0 col10\" >2019-11-31</td>\n",
              "                        <td id=\"T_29cf25b8_491b_11eb_82d2_0242ac1c0002row0_col11\" class=\"data row0 col11\" >nan</td>\n",
              "                        <td id=\"T_29cf25b8_491b_11eb_82d2_0242ac1c0002row0_col12\" class=\"data row0 col12\" >nan</td>\n",
              "                        <td id=\"T_29cf25b8_491b_11eb_82d2_0242ac1c0002row0_col13\" class=\"data row0 col13\" >1840002532189</td>\n",
              "                        <td id=\"T_29cf25b8_491b_11eb_82d2_0242ac1c0002row0_col14\" class=\"data row0 col14\" >love moisturizer cooking legs get dry winter first day used problems works great cooking use little going try hair next</td>\n",
              "                        <td id=\"T_29cf25b8_491b_11eb_82d2_0242ac1c0002row0_col15\" class=\"data row0 col15\" >love moisturizer cooking</td>\n",
              "                        <td id=\"T_29cf25b8_491b_11eb_82d2_0242ac1c0002row0_col16\" class=\"data row0 col16\" >1.000000</td>\n",
              "                        <td id=\"T_29cf25b8_491b_11eb_82d2_0242ac1c0002row0_col17\" class=\"data row0 col17\" >love moisturizer cooking legs get dry winter first day used problems works great cooking use little going try hair next love moisturizer cooking</td>\n",
              "                        <td id=\"T_29cf25b8_491b_11eb_82d2_0242ac1c0002row0_col18\" class=\"data row0 col18\" >[]</td>\n",
              "                        <td id=\"T_29cf25b8_491b_11eb_82d2_0242ac1c0002row0_col19\" class=\"data row0 col19\" >['']</td>\n",
              "            </tr>\n",
              "    </tbody></table>"
            ],
            "text/plain": [
              "<pandas.io.formats.style.Styler at 0x7fea107ae898>"
            ]
          },
          "metadata": {
            "tags": []
          },
          "execution_count": 26
        }
      ]
    },
    {
      "cell_type": "code",
      "metadata": {
        "colab": {
          "base_uri": "https://localhost:8080/"
        },
        "id": "OKIz5L7UyCGU",
        "outputId": "3b45fb81-ba9b-4ed0-c42d-5fb82a7e9eeb"
      },
      "source": [
        "edited_types = {\n",
        "'asin':         'object',\n",
        "'average'  :        'float16',\n",
        "'review_body'     :  'object',\n",
        "'review_date'      : 'object',\n",
        "'review_likes'     : 'object',\n",
        "'review_rating'    :'float16',\n",
        "'review_title'     : 'object',\n",
        "'five_star'        :'float16',\n",
        "'four_star'        :'float16',\n",
        "'one_star'        :'float16',\n",
        "'pp_date'          : 'object',\n",
        "'three_star'       :'float16',\n",
        "'two_star'         :'float16',\n",
        "'refpe'            : 'object',\n",
        "'text_clean'        :'object',\n",
        "'title_clean'       :'object',\n",
        "'ml_score'         :'float16',\n",
        "'text'             : 'object',\n",
        "'ml_topic'         : 'category',\n",
        "'opinion'          : 'object',\n",
        "}\n",
        "\n",
        "list_retailers = ['Amazon' , 'Asda', 'Morrisons', 'Ocado', 'Target', 'Walmart']\n",
        "retailers = {}\n",
        "for retailer in list_retailers:\n",
        "\n",
        "    retailers[retailer] = pd.read_csv('/tmp/' + retailer.lower() + \n",
        "                                      '_ml_opinions_topics.csv', dtype=edited_types, nrows=10000)\n",
        "    print(retailer)\n",
        "    retailers[retailer] = retailers[retailer].dropna(subset=['review_body'])\n",
        "    \n",
        "to_concat = [retailers[retailer][['review_body', 'review_rating']] for retailer in list_retailers]\n",
        "#to_concat = [retailers[retailer]['review_body'] for retailer in list_retailers]\n",
        "data = pd.concat(to_concat, ignore_index = True)"
      ],
      "execution_count": 91,
      "outputs": [
        {
          "output_type": "stream",
          "text": [
            "Amazon\n",
            "Asda\n",
            "Morrisons\n",
            "Ocado\n",
            "Target\n",
            "Walmart\n"
          ],
          "name": "stdout"
        }
      ]
    },
    {
      "cell_type": "code",
      "metadata": {
        "colab": {
          "base_uri": "https://localhost:8080/"
        },
        "id": "7355fuAuylnR",
        "outputId": "18d7bf35-5107-4aa9-85a1-4de300f61abe"
      },
      "source": [
        "data.shape"
      ],
      "execution_count": null,
      "outputs": [
        {
          "output_type": "execute_result",
          "data": {
            "text/plain": [
              "(6000, 2)"
            ]
          },
          "metadata": {
            "tags": []
          },
          "execution_count": 9
        }
      ]
    },
    {
      "cell_type": "code",
      "metadata": {
        "id": "VbMnNMjFC1yh"
      },
      "source": [
        "# cleaning data\n",
        "from pandas import DataFrame\n",
        "from string import punctuation\n",
        "\n",
        "\n",
        "class DataStructure(Dataset):\n",
        "\n",
        "  def __init__(self, dataframe, ratio, tokenizer, loading_mode='Dataframe'):\n",
        "    # loading mode\n",
        "    self.loading_mode = loading_mode\n",
        "    if self.loading_mode == 'file':\n",
        "      self.df = pd.read_csv(dataframe)\n",
        "    elif self.loading_mode == 'generator':\n",
        "      # TO DO\n",
        "      pass\n",
        "    else:\n",
        "      self.df = dataframe[['review_body', 'review_rating']]\n",
        "    self.ratio = ratio\n",
        "    self.tokenizer = tokenizer\n",
        "\n",
        "  # generator to apply functions on dataframe\n",
        "  def filter_df(self):\n",
        "    def apply_on_df(*a, **kw):\n",
        "        def apply(func):\n",
        "            df = kw['df']\n",
        "            column = kw['column']\n",
        "            df[column] = df[column].apply(lambda x: func(x))\n",
        "        return apply\n",
        "\n",
        "    @apply_on_df(df=self.df, column='review_body')\n",
        "    def remove_punctuation(x):\n",
        "        for char in punctuation:\n",
        "            x = str(x).replace(char, '')\n",
        "        return x\n",
        "\n",
        "  \n",
        "  def generate_data(self):\n",
        "      self.filter_df()\n",
        "      # split dataframe into singles dataframes for each rating score\n",
        "      self.df = self.df.sample(frac=1).reset_index(drop=True)\n",
        "      data_1 =  self.df.loc[lambda df: df['review_rating'] == 1]\n",
        "      data_2 =  self.df.loc[lambda df: df['review_rating'] == 2]\n",
        "      data_3 =  self.df.loc[lambda df: df['review_rating'] == 3]\n",
        "      data_4 =  self.df.loc[lambda df: df['review_rating'] == 4]\n",
        "      data_5 =  self.df.loc[lambda df: df['review_rating'] == 5]\n",
        "      \n",
        "      # spliting each score dataframe into two dataframes set by a ratio\n",
        "      data_val_1 = data_1[:int(self.ratio*len(data_1))]\n",
        "      data_train_1 =  data_1[int(self.ratio*len(data_1)):]\n",
        "\n",
        "      data_val_2 = data_2[:int(self.ratio*len(data_2))]\n",
        "      data_train_2 =  data_2[int(self.ratio*len(data_2)):]\n",
        "\n",
        "      data_val_3 = data_3[:int(self.ratio*len(data_3))]\n",
        "      data_train_3 =  data_3[int(self.ratio*len(data_3)):]\n",
        "\n",
        "      data_val_4 = data_4[:int(self.ratio*len(data_4))]\n",
        "      data_train_4 =  data_4[int(self.ratio*len(data_4)):]\n",
        "\n",
        "      data_val_5 = data_5[:int(self.ratio*len(data_5))]\n",
        "      data_train_5 =  data_5[int(self.ratio*len(data_5)):]\n",
        "      \n",
        "      # concat dfs split by ratio\n",
        "      train_x = pd.concat([data_train_1, data_train_2,data_train_3,  data_train_4, data_train_5])\n",
        "      val_x = pd.concat([data_val_1, data_val_2,data_train_3, data_val_4, data_val_5])\n",
        "      \n",
        "      # setting positifs 1 for rating >3\n",
        "      train_x['score'] = train_x['review_rating'].apply(lambda x: 1 if x > 3 else 0)\n",
        "      val_x['score'] = val_x['review_rating'].apply(lambda x: 1 if x > 3 else 0)\n",
        "\n",
        "      df_train = train_x[['review_body', 'score']]\n",
        "      df_val = val_x[['review_body', 'score']]\n",
        "      \n",
        "      # store the tokens length for every review\n",
        "      token_lens = []\n",
        "      for txt in self.df.review_body:\n",
        "        _tokens = self.tokenizer.encode(txt, max_length=256)\n",
        "        token_lens.append(len(_tokens))\n",
        "      \n",
        "      # shuffle the datasets\n",
        "      df_train = df_train.sample(frac=1).reset_index(drop=True)\n",
        "      df_val = df_val.sample(frac=1).reset_index(drop=True)\n",
        "      return df_train, df_val, token_lens\n"
      ],
      "execution_count": 30,
      "outputs": []
    },
    {
      "cell_type": "markdown",
      "metadata": {
        "id": "waKjYxTDuaWt"
      },
      "source": [
        "### Choosing Sequence Length\n"
      ]
    },
    {
      "cell_type": "code",
      "metadata": {
        "id": "BUnE5CT9hbeZ"
      },
      "source": [
        "ds = DataStructure(data[:10000], 0.15, tokenizer)\n",
        "df_train, df_val, vocab_length = ds.generate_data()"
      ],
      "execution_count": 142,
      "outputs": []
    },
    {
      "cell_type": "markdown",
      "metadata": {
        "id": "tI4goUrHf6da"
      },
      "source": [
        "and plot the distribution:"
      ]
    },
    {
      "cell_type": "code",
      "metadata": {
        "id": "SzE1j4jxmUtd",
        "colab": {
          "base_uri": "https://localhost:8080/",
          "height": 332
        },
        "outputId": "b8f9f745-be1d-4d9d-e5e2-8f8eec463d96"
      },
      "source": [
        "sns.distplot(vocab_length)\n",
        "plt.xlim([0, 256]);\n",
        "plt.xlabel('Token count');"
      ],
      "execution_count": 11,
      "outputs": [
        {
          "output_type": "stream",
          "text": [
            "/usr/local/lib/python3.6/dist-packages/seaborn/distributions.py:2551: FutureWarning: `distplot` is a deprecated function and will be removed in a future version. Please adapt your code to use either `displot` (a figure-level function with similar flexibility) or `histplot` (an axes-level function for histograms).\n",
            "  warnings.warn(msg, FutureWarning)\n"
          ],
          "name": "stderr"
        },
        {
          "output_type": "display_data",
          "data": {
            "image/png": "[encoded data removed]",
            "text/plain": [
              "<Figure size 432x288 with 1 Axes>"
            ]
          },
          "metadata": {
            "tags": [],
            "needs_background": "light"
          }
        }
      ]
    },
    {
      "cell_type": "markdown",
      "metadata": {
        "id": "oW6ajl30t6du"
      },
      "source": [
        "most tokens are < 150 so we are going to set 150 as max length (in number of tokens for BERT)"
      ]
    },
    {
      "cell_type": "code",
      "metadata": {
        "id": "t7xSmJtLuoxW"
      },
      "source": [
        "MAX_LEN = 280"
      ],
      "execution_count": 16,
      "outputs": []
    },
    {
      "cell_type": "markdown",
      "metadata": {
        "id": "Tf0N6lmbMYtV"
      },
      "source": [
        "### <font color='green'>check the proportion of scores on datasets </font> "
      ]
    },
    {
      "cell_type": "code",
      "metadata": {
        "colab": {
          "base_uri": "https://localhost:8080/",
          "height": 577
        },
        "id": "IMP_k2cNLYIx",
        "outputId": "e59bd0f2-0bd7-4c1f-8ba1-c4ee7b6e939e"
      },
      "source": [
        "plt.figure()\n",
        "fig, axes = plt.subplots(nrows=2, ncols=1, figsize=(8,7))\n",
        "\n",
        "plt.subplot(311)\n",
        "df_train.score.hist()\n",
        "plt.subplot(313)\n",
        "df_val.score.hist()\n",
        "\n",
        "print('df_train ',df_train.groupby('score').count())\n",
        "print('df_val', df_val.groupby('score').count())"
      ],
      "execution_count": 143,
      "outputs": [
        {
          "output_type": "stream",
          "text": [
            "df_train         review_body\n",
            "score             \n",
            "0             1920\n",
            "1             6582\n",
            "df_val        review_body\n",
            "score             \n",
            "0              838\n",
            "1             1160\n"
          ],
          "name": "stdout"
        },
        {
          "output_type": "display_data",
          "data": {
            "text/plain": [
              "<Figure size 432x288 with 0 Axes>"
            ]
          },
          "metadata": {
            "tags": []
          }
        },
        {
          "output_type": "display_data",
          "data": {
            "image/png": "[encoded data removed]",
            "text/plain": [
              "<Figure size 576x504 with 2 Axes>"
            ]
          },
          "metadata": {
            "tags": [],
            "needs_background": "light"
          }
        }
      ]
    },
    {
      "cell_type": "markdown",
      "metadata": {
        "id": "XvvcoU6nurHy"
      },
      "source": [
        "We have all building blocks required to create a PyTorch dataset. Let's do it:"
      ]
    },
    {
      "cell_type": "code",
      "metadata": {
        "colab": {
          "base_uri": "https://localhost:8080/"
        },
        "id": "YGQQrECXpOnm",
        "outputId": "d532aa2b-7576-4dda-dcd6-9a54398a653e"
      },
      "source": [
        "df_train.review_body.iloc[:4]"
      ],
      "execution_count": null,
      "outputs": [
        {
          "output_type": "execute_result",
          "data": {
            "text/plain": [
              "0    this medication eases the ringing from tinnitu...\n",
              "1    i ordered this as it was recommended by my der...\n",
              "2    if you dont know how to make homemade flavorfu...\n",
              "3    these tulips were very small and arrived alrea...\n",
              "Name: review_body, dtype: object"
            ]
          },
          "metadata": {
            "tags": []
          },
          "execution_count": 47
        }
      ]
    },
    {
      "cell_type": "code",
      "metadata": {
        "id": "iakku-DWn_kl"
      },
      "source": [
        "# testing here padding and max length\n",
        "max_len = 280\n",
        "for review in  df_train.review_body.iloc[:-1].tolist():\n",
        "  tokens = tokenizer.tokenize(review) #Tokenize the sentence\n",
        "  bos_token = tokenizer.cls_token\n",
        "  eos_token = tokenizer.sep_token\n",
        "  tokens = [bos_token] + tokens + [eos_token]\n",
        "  if len(tokens) < max_len:\n",
        "      tokens = tokens + [tokenizer.pad_token for _ in range(max_len - len(tokens))]\n",
        "\n",
        "  tokens_ids = tokenizer.convert_tokens_to_ids(tokens) \n",
        "  tokens_ids_tensor = torch.tensor(tokens_ids)\n",
        "  if len(tokens_ids)>max_len:\n",
        "    print(len(tokens_ids))"
      ],
      "execution_count": 141,
      "outputs": []
    },
    {
      "cell_type": "code",
      "metadata": {
        "id": "E2BPgRJ7YBK0"
      },
      "source": [
        "class ReviewScoreDataset(Dataset):\n",
        "\n",
        "  def __init__(self, reviews, targets, tokenizer, max_len):\n",
        "    self.reviews = reviews\n",
        "    self.targets = targets\n",
        "    self.tokenizer = tokenizer\n",
        "    self.max_len = max_len\n",
        "  \n",
        "  def __len__(self):\n",
        "    return len(self.reviews)\n",
        "  \n",
        "  def __getitem__(self, item):\n",
        "    review = str(self.reviews[item])\n",
        "    target = self.targets[item]\n",
        "\n",
        "    tokens = self.tokenizer.tokenize(review) \n",
        "    bos_token = self.tokenizer.cls_token\n",
        "    eos_token = self.tokenizer.sep_token\n",
        "    tokens = [bos_token] + tokens + [eos_token]\n",
        "    if len(tokens) < self.max_len:\n",
        "        tokens = tokens + [self.tokenizer.pad_token for _ in range(self.max_len - len(tokens))]\n",
        "    else:\n",
        "        tokens = tokens[:self.max_len-1] + [eos_token] \n",
        "    tokens_ids = self.tokenizer.convert_tokens_to_ids(tokens) \n",
        "    tokens_ids_tensor = torch.tensor(tokens_ids)\n",
        "    attn_mask = torch.tensor((tokens_ids_tensor != 0).long())\n",
        "    return {\n",
        "      'review_text': review,\n",
        "      'input_ids': tokens_ids_tensor.flatten(),\n",
        "      'attention_mask': attn_mask.flatten(),\n",
        "      'targets': torch.tensor(target, dtype=torch.long)\n",
        "    }\n"
      ],
      "execution_count": 93,
      "outputs": []
    },
    {
      "cell_type": "code",
      "metadata": {
        "id": "JUnv7_YsD_6p",
        "colab": {
          "base_uri": "https://localhost:8080/"
        },
        "outputId": "02b48b14-d993-4479-99d1-289727e0234b"
      },
      "source": [
        "df_train.shape\n"
      ],
      "execution_count": 94,
      "outputs": [
        {
          "output_type": "execute_result",
          "data": {
            "text/plain": [
              "(1703, 2)"
            ]
          },
          "metadata": {
            "tags": []
          },
          "execution_count": 94
        }
      ]
    },
    {
      "cell_type": "code",
      "metadata": {
        "id": "ExieTn0244NS"
      },
      "source": [
        ""
      ],
      "execution_count": null,
      "outputs": []
    },
    {
      "cell_type": "code",
      "metadata": {
        "id": "KEGqcvkuOuTX"
      },
      "source": [
        "def create_data_loader(df, tokenizer, max_len, batch_size):\n",
        "  ds = ReviewScoreDataset(\n",
        "    reviews=df.review_body.to_numpy(),\n",
        "    targets=df.score.to_numpy(),\n",
        "    tokenizer=tokenizer,\n",
        "    max_len=max_len\n",
        "  )\n",
        "\n",
        "  return DataLoader(\n",
        "    ds,\n",
        "    batch_size=batch_size,\n",
        "    num_workers=1\n",
        "  )"
      ],
      "execution_count": 144,
      "outputs": []
    },
    {
      "cell_type": "code",
      "metadata": {
        "id": "vODDxMKsPHqI"
      },
      "source": [
        "BATCH_SIZE = 32\n",
        "\n",
        "train_data_loader = create_data_loader(df_train, tokenizer, MAX_LEN, BATCH_SIZE)\n",
        "val_data_loader = create_data_loader(df_val, tokenizer, MAX_LEN, BATCH_SIZE)\n"
      ],
      "execution_count": 145,
      "outputs": []
    },
    {
      "cell_type": "code",
      "metadata": {
        "colab": {
          "base_uri": "https://localhost:8080/"
        },
        "id": "Itzj6rqcFUAX",
        "outputId": "b9436394-6dd2-4b50-bc30-8825c53ff6ee"
      },
      "source": [
        "train_data_loader"
      ],
      "execution_count": 18,
      "outputs": [
        {
          "output_type": "execute_result",
          "data": {
            "text/plain": [
              "<torch.utils.data.dataloader.DataLoader at 0x7f9c55bd75f8>"
            ]
          },
          "metadata": {
            "tags": []
          },
          "execution_count": 18
        }
      ]
    },
    {
      "cell_type": "markdown",
      "metadata": {
        "id": "A6dlOptwqlhF"
      },
      "source": [
        "Let's have a look at an example batch from our training data loader:"
      ]
    },
    {
      "cell_type": "code",
      "metadata": {
        "id": "Y93ldSN47FeT",
        "colab": {
          "base_uri": "https://localhost:8080/"
        },
        "outputId": "52475c92-5837-4b50-fb3e-23a82780f25c"
      },
      "source": [
        "data = next(iter(train_data_loader))\n",
        "data['attention_mask'].shape"
      ],
      "execution_count": 19,
      "outputs": [
        {
          "output_type": "stream",
          "text": [
            "/usr/local/lib/python3.6/dist-packages/ipykernel_launcher.py:26: UserWarning: To copy construct from a tensor, it is recommended to use sourceTensor.clone().detach() or sourceTensor.clone().detach().requires_grad_(True), rather than torch.tensor(sourceTensor).\n"
          ],
          "name": "stderr"
        },
        {
          "output_type": "execute_result",
          "data": {
            "text/plain": [
              "torch.Size([16, 280])"
            ]
          },
          "metadata": {
            "tags": []
          },
          "execution_count": 19
        }
      ]
    },
    {
      "cell_type": "code",
      "metadata": {
        "id": "IdU4YVqb7N8M",
        "colab": {
          "base_uri": "https://localhost:8080/"
        },
        "outputId": "a31e7efe-cafb-4d75-999e-db1b59c0f205"
      },
      "source": [
        "print(data['input_ids'].shape)\n",
        "print(data['attention_mask'].shape)\n",
        "print(data['targets'].shape)"
      ],
      "execution_count": 20,
      "outputs": [
        {
          "output_type": "stream",
          "text": [
            "torch.Size([16, 280])\n",
            "torch.Size([16, 280])\n",
            "torch.Size([16])\n"
          ],
          "name": "stdout"
        }
      ]
    },
    {
      "cell_type": "markdown",
      "metadata": {
        "id": "H63Y-TjyRC7S"
      },
      "source": [
        "## Sentiment Classification with BERT and Hugging Face"
      ]
    },
    {
      "cell_type": "code",
      "metadata": {
        "id": "0P41FayISNRI",
        "colab": {
          "base_uri": "https://localhost:8080/",
          "height": 114,
          "referenced_widgets": [
            "407aca28340a436983022c33b8acf0ad",
            "4723e596c8714969a743cb84d123d18e",
            "607da8470e084900866fa9f791f67f52",
            "1239b733d3784137a3e90a921b60d58b",
            "e7699cada6764c12a193d2e5145f2700",
            "6e70c90d2a1c4ea4b6cd0c04a28e2206",
            "939ed81685cd418e8b8429f41addf811",
            "7d95fd53b10e48f59e8283b7f41b1c8d",
            "6670d267fb4f46e3bd134e6ccf7c2386",
            "0d7e211ba0e249a1817c62bc09330dd5",
            "c939ae697c694907a2f535b1ec26b501",
            "d5824dd5030349ebac1d3ad88e3ea59e",
            "7a4ee6b6469d4646803ec2ff5e9546da",
            "bf6eef8fc6ab44779cfb6e0ef4ca540c",
            "9255619dc7d34616b953daa4af96378b",
            "f0c1cd47ed13493fa59d63c4b99b3f1c"
          ]
        },
        "outputId": "3a7c91cf-ca38-48c1-ddcb-b046f4810cec"
      },
      "source": [
        "bert_model = BertModel.from_pretrained(PRE_TRAINED_MODEL_NAME)\n",
        "# camembert_model = CamembertModel.from_pretrained(\"camembert-base\")\n",
        "# camembert_tokenizer = CamembertTokenizer.from_pretrained(\"camembert-base\")\n"
      ],
      "execution_count": 21,
      "outputs": [
        {
          "output_type": "display_data",
          "data": {
            "application/vnd.jupyter.widget-view+json": {
              "model_id": "407aca28340a436983022c33b8acf0ad",
              "version_minor": 0,
              "version_major": 2
            },
            "text/plain": [
              "HBox(children=(FloatProgress(value=0.0, description='Downloading', max=433.0, style=ProgressStyle(description_…"
            ]
          },
          "metadata": {
            "tags": []
          }
        },
        {
          "output_type": "stream",
          "text": [
            "\n"
          ],
          "name": "stdout"
        },
        {
          "output_type": "display_data",
          "data": {
            "application/vnd.jupyter.widget-view+json": {
              "model_id": "6670d267fb4f46e3bd134e6ccf7c2386",
              "version_minor": 0,
              "version_major": 2
            },
            "text/plain": [
              "HBox(children=(FloatProgress(value=0.0, description='Downloading', max=440473133.0, style=ProgressStyle(descri…"
            ]
          },
          "metadata": {
            "tags": []
          }
        },
        {
          "output_type": "stream",
          "text": [
            "\n"
          ],
          "name": "stdout"
        }
      ]
    },
    {
      "cell_type": "code",
      "metadata": {
        "id": "nsxB7Qy7b5YN",
        "colab": {
          "base_uri": "https://localhost:8080/"
        },
        "outputId": "0f1b3dfb-cd78-4c40-beff-7b7bd8675fa2"
      },
      "source": [
        "BertModel.from_pretrained(PRE_TRAINED_MODEL_NAME).config.hidden_size"
      ],
      "execution_count": null,
      "outputs": [
        {
          "output_type": "execute_result",
          "data": {
            "text/plain": [
              "768"
            ]
          },
          "metadata": {
            "tags": []
          },
          "execution_count": 19
        }
      ]
    },
    {
      "cell_type": "code",
      "metadata": {
        "id": "BwUNOxXsHbCz"
      },
      "source": [
        "# freeze all the parameters\n",
        "for param in bert_model.parameters():\n",
        "    param.requires_grad = False"
      ],
      "execution_count": 22,
      "outputs": []
    },
    {
      "cell_type": "code",
      "metadata": {
        "id": "m_mRflxPl32F"
      },
      "source": [
        "# class SentimentClassifier(nn.Module):\n",
        "\n",
        "#   def __init__(self, n_classes):\n",
        "#     super(SentimentClassifier, self).__init__()\n",
        "#     self.bert = BertModel.from_pretrained(PRE_TRAINED_MODEL_NAME)\n",
        "#     self.drop = nn.Dropout(p=0.3)\n",
        "#     self.out = nn.Linear(self.bert.config.hidden_size, n_classes)\n",
        "  \n",
        "#   def forward(self, input_ids, attention_mask):\n",
        "#     pooled_output = self.bert(\n",
        "#       input_ids=input_ids,\n",
        "#       attention_mask=attention_mask\n",
        "#     )\n",
        "#     output = self.drop(pooled_output[1])\n",
        "#     return self.out(output)\n",
        "\n",
        "\n",
        "class SentimentClassifier(nn.Module):\n",
        "\n",
        "  def __init__(self, n_classes):\n",
        "    super(SentimentClassifier, self).__init__()\n",
        "    self.bert = BertModel.from_pretrained(PRE_TRAINED_MODEL_NAME)\n",
        "    self.drop = nn.Dropout(p=0.3)\n",
        "    self.relu =  nn.ReLU()\n",
        "    self.dense1 = nn.Linear(768,512) # 768 hidden state of bert\n",
        "    self.drop2 = nn.Dropout(p=0.1)\n",
        "    self.dense2 = nn.Linear(512,64)\n",
        "    self.out = nn.Linear(64,2) # nclass = 2\n",
        "    self.softmax = nn.LogSoftmax(dim=1)\n",
        "  \n",
        "  def forward(self, input_ids, attention_mask):\n",
        "    pooled_output = self.bert(\n",
        "      input_ids=input_ids,\n",
        "      attention_mask=attention_mask\n",
        "    )\n",
        "    x = self.dense1(pooled_output[1])\n",
        "    x = self.relu(x)\n",
        "    x = self.drop(x)\n",
        "    x = self.dense2(x)\n",
        "    x = self.relu(x)\n",
        "    x = self.drop2(x)\n",
        "    x = self.out(x)\n",
        "    x = self.softmax(x)\n",
        "    return x"
      ],
      "execution_count": 148,
      "outputs": []
    },
    {
      "cell_type": "code",
      "metadata": {
        "id": "i0yQnuSFsjDp"
      },
      "source": [
        "model = SentimentClassifier(len(class_names))\n",
        "model = model.to(device)"
      ],
      "execution_count": 149,
      "outputs": []
    },
    {
      "cell_type": "markdown",
      "metadata": {
        "id": "VCPCFDLlKIQd"
      },
      "source": [
        "We'll move the example batch of our training data to the GPU:"
      ]
    },
    {
      "cell_type": "code",
      "metadata": {
        "id": "mz7p__CqdaMO",
        "colab": {
          "base_uri": "https://localhost:8080/"
        },
        "outputId": "44961be1-a139-4103-c779-055f8055d08a"
      },
      "source": [
        "input_ids = data['input_ids'].to(device)\n",
        "attention_mask = data['attention_mask'].to(device)\n",
        "\n",
        "print(input_ids.shape) # batch size x seq length\n",
        "print(attention_mask.shape) # batch size x seq length"
      ],
      "execution_count": 25,
      "outputs": [
        {
          "output_type": "stream",
          "text": [
            "torch.Size([16, 280])\n",
            "torch.Size([16, 280])\n"
          ],
          "name": "stdout"
        }
      ]
    },
    {
      "cell_type": "markdown",
      "metadata": {
        "id": "g9xikRdtRN1N"
      },
      "source": [
        "### Training"
      ]
    },
    {
      "cell_type": "code",
      "metadata": {
        "id": "XoXI7Wo0aJez"
      },
      "source": [
        "\n",
        "EPOCHS = 10\n",
        "# optimizer = AdamW(model.parameters(), lr=2e-5, correct_bias=False)\n",
        "optimizer = AdamW(model.parameters(), lr=2e-5, correct_bias=True)\n",
        "total_steps = len(train_data_loader) * EPOCHS\n",
        "\n",
        "scheduler = get_linear_schedule_with_warmup(\n",
        "  optimizer,\n",
        "  num_warmup_steps=0,\n",
        "  num_training_steps=total_steps\n",
        ")\n",
        "\n",
        "loss_fn = nn.CrossEntropyLoss().to(device)\n",
        "\n",
        "\n",
        "class train_model():\n",
        "\n",
        "  def __init__(self, model, train_data_loader,len_train_data, val_data_loader,len_val_data ,loss_fn, optimizer, device, scheduler, n_epochs=10):\n",
        "    self.model = model\n",
        "    self.train_data_loader = train_data_loader\n",
        "    self.len_train_data = len_train_data\n",
        "    self.val_data_loader = val_data_loader\n",
        "    self.len_val_data = len_val_data\n",
        "    self.loss_fn = loss_fn\n",
        "    self.optimizer = optimizer\n",
        "    self.device = device\n",
        "    self.scheduler = scheduler\n",
        "    self.epochs = n_epochs\n",
        "\n",
        "\n",
        "  def train_epoch(self):\n",
        "    model = self.model.train()\n",
        "\n",
        "    losses = []\n",
        "    correct_predictions = 0\n",
        "    \n",
        "    for d in self.train_data_loader:\n",
        "      input_ids = d[\"input_ids\"].to(device)\n",
        "      attention_mask = d[\"attention_mask\"].to(device)\n",
        "      targets = d[\"targets\"].to(device)\n",
        "      model.zero_grad() \n",
        "      outputs = model(\n",
        "        input_ids=input_ids,\n",
        "        attention_mask=attention_mask\n",
        "      )\n",
        "      _, preds = torch.max(outputs, dim=1)\n",
        "      loss = self.loss_fn(outputs, targets)\n",
        "\n",
        "      correct_predictions += torch.sum(preds == targets)\n",
        "      losses.append(loss.item())\n",
        "\n",
        "      loss.backward()\n",
        "      nn.utils.clip_grad_norm_(model.parameters(), max_norm=1.0)\n",
        "      self.optimizer.step()\n",
        "      self.scheduler.step()\n",
        "      self.optimizer.zero_grad()\n",
        "\n",
        "    return correct_predictions.double() / self.len_train_data, np.mean(losses)\n",
        "\n",
        "\n",
        "  @torch.no_grad()\n",
        "  def eval_model(self):\n",
        "    model = self.model.eval()\n",
        "\n",
        "    losses = []\n",
        "    correct_predictions = 0\n",
        "\n",
        "\n",
        "    for d in self.val_data_loader:\n",
        "      input_ids = d[\"input_ids\"].to(device)\n",
        "      attention_mask = d[\"attention_mask\"].to(device)\n",
        "      targets = d[\"targets\"].to(device)\n",
        "\n",
        "      outputs = model(\n",
        "        input_ids=input_ids,\n",
        "        attention_mask=attention_mask\n",
        "      )\n",
        "      _, preds = torch.max(outputs, dim=1)\n",
        "\n",
        "      loss = self.loss_fn(outputs, targets)\n",
        "\n",
        "      correct_predictions += torch.sum(preds == targets)\n",
        "      losses.append(loss.item())\n",
        "\n",
        "    return correct_predictions.double() / self.len_val_data, np.mean(losses)\n",
        "\n",
        "  \n",
        "  def run(self):\n",
        "    _best_accuracy = 0\n",
        "    for epoch in range(self.epochs):\n",
        "      print(f'Epoch {epoch + 1}/{self.epochs}')\n",
        "      print('↓→←↓'*20)\n",
        "      train_acc, train_loss = self.train_epoch()\n",
        "      print(f'Train loss {train_loss} accuracy {train_acc}')\n",
        "      val_acc, val_loss = self.eval_model()\n",
        "      print(f'Val   loss {val_loss} accuracy {val_acc}')\n",
        "\n",
        "      if val_acc > _best_accuracy:\n",
        "        torch.save(model.state_dict(), 'score_model.bin')\n",
        "        _best_accuracy = val_acc"
      ],
      "execution_count": 150,
      "outputs": []
    },
    {
      "cell_type": "code",
      "metadata": {
        "colab": {
          "base_uri": "https://localhost:8080/"
        },
        "id": "NFSYFF1reBvn",
        "outputId": "484103c5-2769-4380-eaf8-20a64030941b"
      },
      "source": [
        "%%time\n",
        "torch.cuda.empty_cache()\n",
        "sentiment_object = train_model(model, train_data_loader, len(df_train), val_data_loader, len(df_val), loss_fn, optimizer, device, scheduler, EPOCHS)\n",
        "sentiment_object.run()\n"
      ],
      "execution_count": 151,
      "outputs": [
        {
          "output_type": "stream",
          "text": [
            "Epoch 1/10\n",
            "↓→←↓↓→←↓↓→←↓↓→←↓↓→←↓↓→←↓↓→←↓↓→←↓↓→←↓↓→←↓↓→←↓↓→←↓↓→←↓↓→←↓↓→←↓↓→←↓↓→←↓↓→←↓↓→←↓↓→←↓\n"
          ],
          "name": "stdout"
        },
        {
          "output_type": "stream",
          "text": [
            "/usr/local/lib/python3.6/dist-packages/ipykernel_launcher.py:26: UserWarning: To copy construct from a tensor, it is recommended to use sourceTensor.clone().detach() or sourceTensor.clone().detach().requires_grad_(True), rather than torch.tensor(sourceTensor).\n"
          ],
          "name": "stderr"
        },
        {
          "output_type": "stream",
          "text": [
            "Train loss 0.3449190892559245 accuracy 0.863914373088685\n"
          ],
          "name": "stdout"
        },
        {
          "output_type": "stream",
          "text": [
            "/usr/local/lib/python3.6/dist-packages/ipykernel_launcher.py:26: UserWarning: To copy construct from a tensor, it is recommended to use sourceTensor.clone().detach() or sourceTensor.clone().detach().requires_grad_(True), rather than torch.tensor(sourceTensor).\n"
          ],
          "name": "stderr"
        },
        {
          "output_type": "stream",
          "text": [
            "Val   loss 0.3085277529935988 accuracy 0.8893893893893894\n",
            "Epoch 2/10\n",
            "↓→←↓↓→←↓↓→←↓↓→←↓↓→←↓↓→←↓↓→←↓↓→←↓↓→←↓↓→←↓↓→←↓↓→←↓↓→←↓↓→←↓↓→←↓↓→←↓↓→←↓↓→←↓↓→←↓↓→←↓\n"
          ],
          "name": "stdout"
        },
        {
          "output_type": "stream",
          "text": [
            "/usr/local/lib/python3.6/dist-packages/ipykernel_launcher.py:26: UserWarning: To copy construct from a tensor, it is recommended to use sourceTensor.clone().detach() or sourceTensor.clone().detach().requires_grad_(True), rather than torch.tensor(sourceTensor).\n"
          ],
          "name": "stderr"
        },
        {
          "output_type": "stream",
          "text": [
            "Train loss 0.17218534166301439 accuracy 0.9429545989179017\n"
          ],
          "name": "stdout"
        },
        {
          "output_type": "stream",
          "text": [
            "/usr/local/lib/python3.6/dist-packages/ipykernel_launcher.py:26: UserWarning: To copy construct from a tensor, it is recommended to use sourceTensor.clone().detach() or sourceTensor.clone().detach().requires_grad_(True), rather than torch.tensor(sourceTensor).\n"
          ],
          "name": "stderr"
        },
        {
          "output_type": "stream",
          "text": [
            "Val   loss 0.3044686730478018 accuracy 0.9224224224224224\n",
            "Epoch 3/10\n",
            "↓→←↓↓→←↓↓→←↓↓→←↓↓→←↓↓→←↓↓→←↓↓→←↓↓→←↓↓→←↓↓→←↓↓→←↓↓→←↓↓→←↓↓→←↓↓→←↓↓→←↓↓→←↓↓→←↓↓→←↓\n"
          ],
          "name": "stdout"
        },
        {
          "output_type": "stream",
          "text": [
            "/usr/local/lib/python3.6/dist-packages/ipykernel_launcher.py:26: UserWarning: To copy construct from a tensor, it is recommended to use sourceTensor.clone().detach() or sourceTensor.clone().detach().requires_grad_(True), rather than torch.tensor(sourceTensor).\n"
          ],
          "name": "stderr"
        },
        {
          "output_type": "stream",
          "text": [
            "Train loss 0.12347157541802503 accuracy 0.964126087979299\n"
          ],
          "name": "stdout"
        },
        {
          "output_type": "stream",
          "text": [
            "/usr/local/lib/python3.6/dist-packages/ipykernel_launcher.py:26: UserWarning: To copy construct from a tensor, it is recommended to use sourceTensor.clone().detach() or sourceTensor.clone().detach().requires_grad_(True), rather than torch.tensor(sourceTensor).\n"
          ],
          "name": "stderr"
        },
        {
          "output_type": "stream",
          "text": [
            "Val   loss 0.2564290538430214 accuracy 0.9409409409409409\n",
            "Epoch 4/10\n",
            "↓→←↓↓→←↓↓→←↓↓→←↓↓→←↓↓→←↓↓→←↓↓→←↓↓→←↓↓→←↓↓→←↓↓→←↓↓→←↓↓→←↓↓→←↓↓→←↓↓→←↓↓→←↓↓→←↓↓→←↓\n"
          ],
          "name": "stdout"
        },
        {
          "output_type": "stream",
          "text": [
            "/usr/local/lib/python3.6/dist-packages/ipykernel_launcher.py:26: UserWarning: To copy construct from a tensor, it is recommended to use sourceTensor.clone().detach() or sourceTensor.clone().detach().requires_grad_(True), rather than torch.tensor(sourceTensor).\n"
          ],
          "name": "stderr"
        },
        {
          "output_type": "stream",
          "text": [
            "Train loss 0.08644584260523823 accuracy 0.9787108915549283\n"
          ],
          "name": "stdout"
        },
        {
          "output_type": "stream",
          "text": [
            "/usr/local/lib/python3.6/dist-packages/ipykernel_launcher.py:26: UserWarning: To copy construct from a tensor, it is recommended to use sourceTensor.clone().detach() or sourceTensor.clone().detach().requires_grad_(True), rather than torch.tensor(sourceTensor).\n"
          ],
          "name": "stderr"
        },
        {
          "output_type": "stream",
          "text": [
            "Val   loss 0.23752507066265457 accuracy 0.938938938938939\n",
            "Epoch 5/10\n",
            "↓→←↓↓→←↓↓→←↓↓→←↓↓→←↓↓→←↓↓→←↓↓→←↓↓→←↓↓→←↓↓→←↓↓→←↓↓→←↓↓→←↓↓→←↓↓→←↓↓→←↓↓→←↓↓→←↓↓→←↓\n"
          ],
          "name": "stdout"
        },
        {
          "output_type": "stream",
          "text": [
            "/usr/local/lib/python3.6/dist-packages/ipykernel_launcher.py:26: UserWarning: To copy construct from a tensor, it is recommended to use sourceTensor.clone().detach() or sourceTensor.clone().detach().requires_grad_(True), rather than torch.tensor(sourceTensor).\n"
          ],
          "name": "stderr"
        },
        {
          "output_type": "stream",
          "text": [
            "Train loss 0.05841351413917273 accuracy 0.9875323453305105\n"
          ],
          "name": "stdout"
        },
        {
          "output_type": "stream",
          "text": [
            "/usr/local/lib/python3.6/dist-packages/ipykernel_launcher.py:26: UserWarning: To copy construct from a tensor, it is recommended to use sourceTensor.clone().detach() or sourceTensor.clone().detach().requires_grad_(True), rather than torch.tensor(sourceTensor).\n"
          ],
          "name": "stderr"
        },
        {
          "output_type": "stream",
          "text": [
            "Val   loss 0.23498945114838463 accuracy 0.94994994994995\n",
            "Epoch 6/10\n",
            "↓→←↓↓→←↓↓→←↓↓→←↓↓→←↓↓→←↓↓→←↓↓→←↓↓→←↓↓→←↓↓→←↓↓→←↓↓→←↓↓→←↓↓→←↓↓→←↓↓→←↓↓→←↓↓→←↓↓→←↓\n"
          ],
          "name": "stdout"
        },
        {
          "output_type": "stream",
          "text": [
            "/usr/local/lib/python3.6/dist-packages/ipykernel_launcher.py:26: UserWarning: To copy construct from a tensor, it is recommended to use sourceTensor.clone().detach() or sourceTensor.clone().detach().requires_grad_(True), rather than torch.tensor(sourceTensor).\n"
          ],
          "name": "stderr"
        },
        {
          "output_type": "stream",
          "text": [
            "Train loss 0.03777396491434621 accuracy 0.9924723594448365\n"
          ],
          "name": "stdout"
        },
        {
          "output_type": "stream",
          "text": [
            "/usr/local/lib/python3.6/dist-packages/ipykernel_launcher.py:26: UserWarning: To copy construct from a tensor, it is recommended to use sourceTensor.clone().detach() or sourceTensor.clone().detach().requires_grad_(True), rather than torch.tensor(sourceTensor).\n"
          ],
          "name": "stderr"
        },
        {
          "output_type": "stream",
          "text": [
            "Val   loss 0.23339136539115793 accuracy 0.9524524524524525\n",
            "Epoch 7/10\n",
            "↓→←↓↓→←↓↓→←↓↓→←↓↓→←↓↓→←↓↓→←↓↓→←↓↓→←↓↓→←↓↓→←↓↓→←↓↓→←↓↓→←↓↓→←↓↓→←↓↓→←↓↓→←↓↓→←↓↓→←↓\n"
          ],
          "name": "stdout"
        },
        {
          "output_type": "stream",
          "text": [
            "/usr/local/lib/python3.6/dist-packages/ipykernel_launcher.py:26: UserWarning: To copy construct from a tensor, it is recommended to use sourceTensor.clone().detach() or sourceTensor.clone().detach().requires_grad_(True), rather than torch.tensor(sourceTensor).\n"
          ],
          "name": "stderr"
        },
        {
          "output_type": "stream",
          "text": [
            "Train loss 0.02949577419059281 accuracy 0.9943542695836274\n"
          ],
          "name": "stdout"
        },
        {
          "output_type": "stream",
          "text": [
            "/usr/local/lib/python3.6/dist-packages/ipykernel_launcher.py:26: UserWarning: To copy construct from a tensor, it is recommended to use sourceTensor.clone().detach() or sourceTensor.clone().detach().requires_grad_(True), rather than torch.tensor(sourceTensor).\n"
          ],
          "name": "stderr"
        },
        {
          "output_type": "stream",
          "text": [
            "Val   loss 0.2417181819596047 accuracy 0.9524524524524525\n",
            "Epoch 8/10\n",
            "↓→←↓↓→←↓↓→←↓↓→←↓↓→←↓↓→←↓↓→←↓↓→←↓↓→←↓↓→←↓↓→←↓↓→←↓↓→←↓↓→←↓↓→←↓↓→←↓↓→←↓↓→←↓↓→←↓↓→←↓\n"
          ],
          "name": "stdout"
        },
        {
          "output_type": "stream",
          "text": [
            "/usr/local/lib/python3.6/dist-packages/ipykernel_launcher.py:26: UserWarning: To copy construct from a tensor, it is recommended to use sourceTensor.clone().detach() or sourceTensor.clone().detach().requires_grad_(True), rather than torch.tensor(sourceTensor).\n"
          ],
          "name": "stderr"
        },
        {
          "output_type": "stream",
          "text": [
            "Train loss 0.020314153626077996 accuracy 0.995883321571395\n"
          ],
          "name": "stdout"
        },
        {
          "output_type": "stream",
          "text": [
            "/usr/local/lib/python3.6/dist-packages/ipykernel_launcher.py:26: UserWarning: To copy construct from a tensor, it is recommended to use sourceTensor.clone().detach() or sourceTensor.clone().detach().requires_grad_(True), rather than torch.tensor(sourceTensor).\n"
          ],
          "name": "stderr"
        },
        {
          "output_type": "stream",
          "text": [
            "Val   loss 0.25528892688637983 accuracy 0.9514514514514515\n",
            "Epoch 9/10\n",
            "↓→←↓↓→←↓↓→←↓↓→←↓↓→←↓↓→←↓↓→←↓↓→←↓↓→←↓↓→←↓↓→←↓↓→←↓↓→←↓↓→←↓↓→←↓↓→←↓↓→←↓↓→←↓↓→←↓↓→←↓\n"
          ],
          "name": "stdout"
        },
        {
          "output_type": "stream",
          "text": [
            "/usr/local/lib/python3.6/dist-packages/ipykernel_launcher.py:26: UserWarning: To copy construct from a tensor, it is recommended to use sourceTensor.clone().detach() or sourceTensor.clone().detach().requires_grad_(True), rather than torch.tensor(sourceTensor).\n"
          ],
          "name": "stderr"
        },
        {
          "output_type": "stream",
          "text": [
            "Train loss 0.01596757700873357 accuracy 0.9971771347918137\n"
          ],
          "name": "stdout"
        },
        {
          "output_type": "stream",
          "text": [
            "/usr/local/lib/python3.6/dist-packages/ipykernel_launcher.py:26: UserWarning: To copy construct from a tensor, it is recommended to use sourceTensor.clone().detach() or sourceTensor.clone().detach().requires_grad_(True), rather than torch.tensor(sourceTensor).\n"
          ],
          "name": "stderr"
        },
        {
          "output_type": "stream",
          "text": [
            "Val   loss 0.23934164863368051 accuracy 0.9579579579579579\n",
            "Epoch 10/10\n",
            "↓→←↓↓→←↓↓→←↓↓→←↓↓→←↓↓→←↓↓→←↓↓→←↓↓→←↓↓→←↓↓→←↓↓→←↓↓→←↓↓→←↓↓→←↓↓→←↓↓→←↓↓→←↓↓→←↓↓→←↓\n"
          ],
          "name": "stdout"
        },
        {
          "output_type": "stream",
          "text": [
            "/usr/local/lib/python3.6/dist-packages/ipykernel_launcher.py:26: UserWarning: To copy construct from a tensor, it is recommended to use sourceTensor.clone().detach() or sourceTensor.clone().detach().requires_grad_(True), rather than torch.tensor(sourceTensor).\n"
          ],
          "name": "stderr"
        },
        {
          "output_type": "stream",
          "text": [
            "Train loss 0.014885066481503216 accuracy 0.997529992942837\n"
          ],
          "name": "stdout"
        },
        {
          "output_type": "stream",
          "text": [
            "/usr/local/lib/python3.6/dist-packages/ipykernel_launcher.py:26: UserWarning: To copy construct from a tensor, it is recommended to use sourceTensor.clone().detach() or sourceTensor.clone().detach().requires_grad_(True), rather than torch.tensor(sourceTensor).\n"
          ],
          "name": "stderr"
        },
        {
          "output_type": "stream",
          "text": [
            "Val   loss 0.23931317361411714 accuracy 0.9579579579579579\n",
            "CPU times: user 44min 50s, sys: 34min 54s, total: 1h 19min 44s\n",
            "Wall time: 1h 20min 1s\n"
          ],
          "name": "stdout"
        }
      ]
    },
    {
      "cell_type": "markdown",
      "metadata": {
        "id": "A8522g7JIu5J"
      },
      "source": [
        "BERT recommendations for fine-tuning:\n",
        "\n",
        "- Batch size: 16, 32\n",
        "- Learning rate (Adam): 5e-5, 3e-5, 2e-5\n",
        "- Number of epochs: 2, 3, 4\n",
        "\n"
      ]
    },
    {
      "cell_type": "markdown",
      "metadata": {
        "id": "E4PniYIte0fr"
      },
      "source": [
        "# Load Model (saved weights)"
      ]
    },
    {
      "cell_type": "code",
      "metadata": {
        "id": "zoGUH8VZ-pPQ",
        "colab": {
          "base_uri": "https://localhost:8080/"
        },
        "outputId": "2f6c4e0c-76b5-484d-8ce1-59a3fca2ced1"
      },
      "source": [
        "\n",
        "#load weights of best model\n",
        "path = 'score_model.bin'\n",
        "model.load_state_dict(torch.load(path))"
      ],
      "execution_count": 152,
      "outputs": [
        {
          "output_type": "execute_result",
          "data": {
            "text/plain": [
              "<All keys matched successfully>"
            ]
          },
          "metadata": {
            "tags": []
          },
          "execution_count": 152
        }
      ]
    },
    {
      "cell_type": "markdown",
      "metadata": {
        "id": "U3HZb3NWFtFf"
      },
      "source": [
        "## Evaluation\n",
        "\n",
        "calculating the accuracy on the test data:"
      ]
    },
    {
      "cell_type": "code",
      "metadata": {
        "id": "csW9edg1YpvT"
      },
      "source": [
        "take = pd.read_csv('takealot_final_ml_processed.csv')\n"
      ],
      "execution_count": 153,
      "outputs": []
    },
    {
      "cell_type": "code",
      "metadata": {
        "id": "CE9j7ae4Yppk"
      },
      "source": [
        "dt = DataStructure(take[:10000], 0.15, tokenizer)\n",
        "#X_train, y_train, X_val, y_val = ds.generate_data()\n",
        "df_train_t, df_val_t, nb = dt.generate_data()"
      ],
      "execution_count": 157,
      "outputs": []
    },
    {
      "cell_type": "code",
      "metadata": {
        "id": "Ml9Xdi-KYpkD"
      },
      "source": [
        "BATCH_SIZE = 16\n",
        "\n",
        "train_data_loader_t = create_data_loader(df_train_t, tokenizer, MAX_LEN, BATCH_SIZE)\n",
        "val_data_loader_t = create_data_loader(df_val_t, tokenizer, MAX_LEN, BATCH_SIZE)"
      ],
      "execution_count": 158,
      "outputs": []
    },
    {
      "cell_type": "code",
      "metadata": {
        "colab": {
          "base_uri": "https://localhost:8080/"
        },
        "id": "-kEW8_pBZcU6",
        "outputId": "26b7e8cc-f285-40ef-878f-569f0dced85b"
      },
      "source": [
        "data = next(iter(train_data_loader_t))\n",
        "len(data['review_text'])"
      ],
      "execution_count": 51,
      "outputs": [
        {
          "output_type": "stream",
          "text": [
            "/usr/local/lib/python3.6/dist-packages/ipykernel_launcher.py:26: UserWarning: To copy construct from a tensor, it is recommended to use sourceTensor.clone().detach() or sourceTensor.clone().detach().requires_grad_(True), rather than torch.tensor(sourceTensor).\n"
          ],
          "name": "stderr"
        },
        {
          "output_type": "execute_result",
          "data": {
            "text/plain": [
              "16"
            ]
          },
          "metadata": {
            "tags": []
          },
          "execution_count": 51
        }
      ]
    },
    {
      "cell_type": "code",
      "metadata": {
        "colab": {
          "base_uri": "https://localhost:8080/"
        },
        "id": "Xh-sEhJmaBFy",
        "outputId": "fb4c17df-01cd-4797-cebb-f9c473157397"
      },
      "source": [
        "df_val_t =df_val_t.sample(frac=1).reset_index(drop=True)\n",
        "val_data_loader_t = create_data_loader(df_val_t, tokenizer, MAX_LEN, BATCH_SIZE)\n",
        "data = next(iter(val_data_loader_t))\n",
        "data"
      ],
      "execution_count": 52,
      "outputs": [
        {
          "output_type": "stream",
          "text": [
            "/usr/local/lib/python3.6/dist-packages/ipykernel_launcher.py:26: UserWarning: To copy construct from a tensor, it is recommended to use sourceTensor.clone().detach() or sourceTensor.clone().detach().requires_grad_(True), rather than torch.tensor(sourceTensor).\n"
          ],
          "name": "stderr"
        },
        {
          "output_type": "execute_result",
          "data": {
            "text/plain": [
              "{'attention_mask': tensor([[1, 1, 1,  ..., 0, 0, 0],\n",
              "         [1, 1, 1,  ..., 0, 0, 0],\n",
              "         [1, 1, 1,  ..., 0, 0, 0],\n",
              "         ...,\n",
              "         [1, 1, 1,  ..., 0, 0, 0],\n",
              "         [1, 1, 1,  ..., 0, 0, 0],\n",
              "         [1, 1, 1,  ..., 0, 0, 0]]),\n",
              " 'input_ids': tensor([[  101,  3835,  2452,  ...,     0,     0,     0],\n",
              "         [  101,  2307,  3643,  ...,     0,     0,     0],\n",
              "         [  101,  6581,  3601,  ...,     0,     0,     0],\n",
              "         ...,\n",
              "         [  101,  2200,  3835,  ...,     0,     0,     0],\n",
              "         [  101,  2196, 11082,  ...,     0,     0,     0],\n",
              "         [  101,  1045,  2066,  ...,     0,     0,     0]]),\n",
              " 'review_text': ['nice cup of coffee  will buy again',\n",
              "  'great value for money',\n",
              "  'excellent choice of coffees  something for everyone  good value for money',\n",
              "  'love this',\n",
              "  'had the pleasure of making myself a cup and i was extremely satisfied with it it had a beautiful golden layer of crema and it had a wonderful dark chocolate taste with the right amount of bitterness and is very smooth in the mouth',\n",
              "  'you can never go wrong with bootlegger coffee',\n",
              "  'good value',\n",
              "  'good',\n",
              "  'the adaptor fits nicely into the slot but the actual pods doesnt fit so nicely',\n",
              "  'still limited on pods but i believe it could change in the future',\n",
              "  'love it',\n",
              "  'not very nice ',\n",
              "  'very good coffee very nice to see that it is freshly roasted',\n",
              "  'very nice on a cold winters evening',\n",
              "  'never lets you down always a good all round coffee',\n",
              "  'i like it very much my favourite '],\n",
              " 'targets': tensor([1, 1, 1, 1, 1, 1, 1, 1, 0, 0, 1, 0, 1, 1, 1, 1])}"
            ]
          },
          "metadata": {
            "tags": []
          },
          "execution_count": 52
        }
      ]
    },
    {
      "cell_type": "code",
      "metadata": {
        "colab": {
          "base_uri": "https://localhost:8080/",
          "height": 672
        },
        "id": "1Sf6Z6_cZ_7i",
        "outputId": "23273887-ffe3-4c82-c2f6-90c07246bd4f"
      },
      "source": [
        "df_val_t = df_val_t.sample(frac=1).reset_index(drop=True)\n",
        "df_val_t.score.hist()\n",
        "df_val_t"
      ],
      "execution_count": null,
      "outputs": [
        {
          "output_type": "execute_result",
          "data": {
            "text/html": [
              "<div>\n",
              "<style scoped>\n",
              "    .dataframe tbody tr th:only-of-type {\n",
              "        vertical-align: middle;\n",
              "    }\n",
              "\n",
              "    .dataframe tbody tr th {\n",
              "        vertical-align: top;\n",
              "    }\n",
              "\n",
              "    .dataframe thead th {\n",
              "        text-align: right;\n",
              "    }\n",
              "</style>\n",
              "<table border=\"1\" class=\"dataframe\">\n",
              "  <thead>\n",
              "    <tr style=\"text-align: right;\">\n",
              "      <th></th>\n",
              "      <th>review</th>\n",
              "      <th>score</th>\n",
              "    </tr>\n",
              "  </thead>\n",
              "  <tbody>\n",
              "    <tr>\n",
              "      <th>0</th>\n",
              "      <td>love this coffeeits mild in flavour but delici...</td>\n",
              "      <td>1</td>\n",
              "    </tr>\n",
              "    <tr>\n",
              "      <th>1</th>\n",
              "      <td>tasty but extremely strong</td>\n",
              "      <td>0</td>\n",
              "    </tr>\n",
              "    <tr>\n",
              "      <th>2</th>\n",
              "      <td>great stuff exactly what i expected</td>\n",
              "      <td>1</td>\n",
              "    </tr>\n",
              "    <tr>\n",
              "      <th>3</th>\n",
              "      <td>yummy pods turns ordinary coffee into somethin...</td>\n",
              "      <td>1</td>\n",
              "    </tr>\n",
              "    <tr>\n",
              "      <th>4</th>\n",
              "      <td>really enjoyable</td>\n",
              "      <td>1</td>\n",
              "    </tr>\n",
              "    <tr>\n",
              "      <th>...</th>\n",
              "      <td>...</td>\n",
              "      <td>...</td>\n",
              "    </tr>\n",
              "    <tr>\n",
              "      <th>587</th>\n",
              "      <td>does not seal properly to maintain correct wat...</td>\n",
              "      <td>0</td>\n",
              "    </tr>\n",
              "    <tr>\n",
              "      <th>588</th>\n",
              "      <td>best coffee in a pod on the market</td>\n",
              "      <td>1</td>\n",
              "    </tr>\n",
              "    <tr>\n",
              "      <th>589</th>\n",
              "      <td>have ordered this product many times and each ...</td>\n",
              "      <td>1</td>\n",
              "    </tr>\n",
              "    <tr>\n",
              "      <th>590</th>\n",
              "      <td>amazing coffee</td>\n",
              "      <td>1</td>\n",
              "    </tr>\n",
              "    <tr>\n",
              "      <th>591</th>\n",
              "      <td>not bad but not the best available</td>\n",
              "      <td>0</td>\n",
              "    </tr>\n",
              "  </tbody>\n",
              "</table>\n",
              "<p>592 rows × 2 columns</p>\n",
              "</div>"
            ],
            "text/plain": [
              "                                                review  score\n",
              "0    love this coffeeits mild in flavour but delici...      1\n",
              "1                          tasty but extremely strong       0\n",
              "2                 great stuff exactly what i expected       1\n",
              "3    yummy pods turns ordinary coffee into somethin...      1\n",
              "4                                    really enjoyable       1\n",
              "..                                                 ...    ...\n",
              "587  does not seal properly to maintain correct wat...      0\n",
              "588                best coffee in a pod on the market       1\n",
              "589  have ordered this product many times and each ...      1\n",
              "590                                    amazing coffee       1\n",
              "591                not bad but not the best available       0\n",
              "\n",
              "[592 rows x 2 columns]"
            ]
          },
          "metadata": {
            "tags": []
          },
          "execution_count": 68
        },
        {
          "output_type": "display_data",
          "data": {
            "image/png": "[encoded data removed]",
            "text/plain": [
              "<Figure size 432x288 with 1 Axes>"
            ]
          },
          "metadata": {
            "tags": [],
            "needs_background": "light"
          }
        }
      ]
    },
    {
      "cell_type": "code",
      "metadata": {
        "id": "jS3gJ_qBEljD",
        "colab": {
          "base_uri": "https://localhost:8080/"
        },
        "outputId": "0eed3add-6b64-49aa-a46b-b917dd6b32eb"
      },
      "source": [
        "def eval_model(model, data_loader, loss_fn, device, n_samples):\n",
        "  model = model.eval()\n",
        "\n",
        "  losses = []\n",
        "  correct_predictions = 0\n",
        "  with torch.no_grad():\n",
        "    for d in data_loader:\n",
        "      input_ids = d[\"input_ids\"].to(device)\n",
        "      attention_mask = d[\"attention_mask\"].to(device)\n",
        "      targets = d[\"targets\"].to(device)\n",
        "      outputs = model(\n",
        "        input_ids=input_ids,\n",
        "        attention_mask=attention_mask\n",
        "      )\n",
        "      _, preds = torch.max(outputs, dim=1)\n",
        "      loss = loss_fn(outputs, targets)\n",
        "\n",
        "      correct_predictions += torch.sum(preds == targets)\n",
        "      losses.append(loss.item())\n",
        "\n",
        "  return correct_predictions.double() / n_samples, np.mean(losses)\n",
        "\n",
        "test_acc, _ = eval_model(\n",
        "  model,\n",
        "  train_data_loader_t,\n",
        "  loss_fn,\n",
        "  device,\n",
        "  len(df_train_t)\n",
        ")\n",
        "print(f'Accuracy: {round(test_acc.item(),5)} %')"
      ],
      "execution_count": 159,
      "outputs": [
        {
          "output_type": "stream",
          "text": [
            "/usr/local/lib/python3.6/dist-packages/ipykernel_launcher.py:26: UserWarning: To copy construct from a tensor, it is recommended to use sourceTensor.clone().detach() or sourceTensor.clone().detach().requires_grad_(True), rather than torch.tensor(sourceTensor).\n"
          ],
          "name": "stderr"
        },
        {
          "output_type": "stream",
          "text": [
            "Accuracy: 0.95312 %\n"
          ],
          "name": "stdout"
        }
      ]
    },
    {
      "cell_type": "code",
      "metadata": {
        "id": "EgR6MuNS8jr_"
      },
      "source": [
        "\n",
        "@torch.no_grad()\n",
        "def get_predictions(model, data_loader):\n",
        "  model = model.eval()\n",
        "  \n",
        "  review_texts = []\n",
        "  predictions = []\n",
        "  prediction_probs = []\n",
        "  real_values = []\n",
        "\n",
        "  #with torch.no_grad():\n",
        "  for d in data_loader:\n",
        "\n",
        "    texts = d[\"review_text\"]\n",
        "    input_ids = d[\"input_ids\"].to(device)\n",
        "    attention_mask = d[\"attention_mask\"].to(device)\n",
        "    targets = d[\"targets\"].to(device)\n",
        "\n",
        "    outputs = model(\n",
        "      input_ids=input_ids,\n",
        "      attention_mask=attention_mask\n",
        "    )\n",
        "    _, preds = torch.max(outputs, dim=1)\n",
        "\n",
        "    probs = F.softmax(outputs, dim=1)\n",
        "\n",
        "    review_texts.extend(texts)\n",
        "    predictions.extend(preds)\n",
        "    prediction_probs.extend(probs)\n",
        "    real_values.extend(targets)\n",
        "\n",
        "  predictions = torch.stack(predictions).cpu()\n",
        "  prediction_probs = torch.stack(prediction_probs).cpu()\n",
        "  real_values = torch.stack(real_values).cpu()\n",
        "  return review_texts, predictions, prediction_probs, real_values"
      ],
      "execution_count": 160,
      "outputs": []
    },
    {
      "cell_type": "code",
      "metadata": {
        "id": "zHdPZr60-0c_",
        "colab": {
          "base_uri": "https://localhost:8080/"
        },
        "outputId": "1d87fa2d-4ed8-4ad0-b6ef-1c0688646d2a"
      },
      "source": [
        "y_review_texts, y_pred, y_pred_probs, y_test = get_predictions(\n",
        "  model,\n",
        "  train_data_loader_t\n",
        ")"
      ],
      "execution_count": 161,
      "outputs": [
        {
          "output_type": "stream",
          "text": [
            "/usr/local/lib/python3.6/dist-packages/ipykernel_launcher.py:26: UserWarning: To copy construct from a tensor, it is recommended to use sourceTensor.clone().detach() or sourceTensor.clone().detach().requires_grad_(True), rather than torch.tensor(sourceTensor).\n"
          ],
          "name": "stderr"
        }
      ]
    },
    {
      "cell_type": "markdown",
      "metadata": {
        "id": "gVwoVij2lC7F"
      },
      "source": [
        "\n",
        "classification report"
      ]
    },
    {
      "cell_type": "code",
      "metadata": {
        "id": "6-8IyZPtYdpt"
      },
      "source": [
        ""
      ],
      "execution_count": 71,
      "outputs": []
    },
    {
      "cell_type": "code",
      "metadata": {
        "id": "L8a9_8-ND3Is",
        "colab": {
          "base_uri": "https://localhost:8080/"
        },
        "outputId": "2e6096de-f0c5-4110-e973-10601538e32d"
      },
      "source": [
        "print(classification_report(y_test, y_pred, target_names=class_names))"
      ],
      "execution_count": 162,
      "outputs": [
        {
          "output_type": "stream",
          "text": [
            "              precision    recall  f1-score   support\n",
            "\n",
            "    negative       0.81      0.75      0.78       311\n",
            "    positive       0.97      0.98      0.97      2505\n",
            "\n",
            "    accuracy                           0.95      2816\n",
            "   macro avg       0.89      0.87      0.88      2816\n",
            "weighted avg       0.95      0.95      0.95      2816\n",
            "\n"
          ],
          "name": "stdout"
        }
      ]
    },
    {
      "cell_type": "code",
      "metadata": {
        "id": "6d1qxsc__DTh",
        "colab": {
          "base_uri": "https://localhost:8080/",
          "height": 426
        },
        "outputId": "fd420ed2-eb5a-4461-9fd8-59bb9838e72c"
      },
      "source": [
        "from matplotlib.pyplot import figure\n",
        "figure(num=None, figsize=(8, 6), dpi=80, facecolor='w', edgecolor='k')\n",
        "def show_confusion_matrix(confusion_matrix):\n",
        "  hmap = sns.heatmap(confusion_matrix, annot=True, fmt=\"d\", cmap=\"coolwarm\")\n",
        "  hmap.yaxis.set_ticklabels(hmap.yaxis.get_ticklabels(), rotation=0, ha='right')\n",
        "  hmap.xaxis.set_ticklabels(hmap.xaxis.get_ticklabels(), ha='right')\n",
        "  plt.ylabel('True sentiment')\n",
        "  plt.xlabel('Predicted sentiment');\n",
        "\n",
        "\n",
        "cm = confusion_matrix(y_test, y_pred)\n",
        "df_cm = pd.DataFrame(cm, index=class_names, columns=class_names)\n",
        "show_confusion_matrix(df_cm)"
      ],
      "execution_count": 163,
      "outputs": [
        {
          "output_type": "display_data",
          "data": {
            "image/png": "[encoded data removed]",
            "text/plain": [
              "<Figure size 640x480 with 2 Axes>"
            ]
          },
          "metadata": {
            "tags": []
          }
        }
      ]
    },
    {
      "cell_type": "markdown",
      "metadata": {
        "id": "7WL5pDmvFyaU"
      },
      "source": [
        "### Live Prediction\n",
        "\n",
        "Let's use our model to predict the sentiment of single review:"
      ]
    },
    {
      "cell_type": "code",
      "metadata": {
        "id": "voLJR_nZ6OFL"
      },
      "source": [
        "!pip freeze"
      ],
      "execution_count": null,
      "outputs": []
    },
    {
      "cell_type": "code",
      "metadata": {
        "colab": {
          "base_uri": "https://localhost:8080/"
        },
        "id": "4hzkC341Er3d",
        "outputId": "0ee462b4-6382-49c1-af9c-7c7c28f33dc5"
      },
      "source": [
        "from google.colab import drive\n",
        "drive.mount('/content/drive')"
      ],
      "execution_count": 62,
      "outputs": [
        {
          "output_type": "stream",
          "text": [
            "Mounted at /content/drive\n"
          ],
          "name": "stdout"
        }
      ]
    },
    {
      "cell_type": "code",
      "metadata": {
        "id": "frndWsOCEkrV"
      },
      "source": [
        "\n",
        "model.load_state_dict(torch.load('/content/drive/MyDrive/best_model_state.bin'))\n",
        "model = model.to(device)"
      ],
      "execution_count": 64,
      "outputs": []
    },
    {
      "cell_type": "markdown",
      "metadata": {
        "id": "GaN4RnqMnxYw"
      },
      "source": [
        "We have to use the tokenizer to encode the text:"
      ]
    },
    {
      "cell_type": "code",
      "metadata": {
        "id": "zA5Or4D2sLc9"
      },
      "source": [
        "def live_prediction(tokenizer, sentence,max_len=MAX_LEN):\n",
        "  encoded_review = tokenizer.encode_plus(\n",
        "    sentence,\n",
        "    max_length=MAX_LEN,\n",
        "    add_special_tokens=True,\n",
        "    return_token_type_ids=False,\n",
        "    padding=True,\n",
        "    return_attention_mask=True,\n",
        "    return_tensors='pt',\n",
        "  )\n",
        "\n",
        "  class_names =['Negative', 'Positive']\n",
        "  input_ids = encoded_review['input_ids'].to(device)\n",
        "  attention_mask = encoded_review['attention_mask'].to(device)\n",
        "\n",
        "  output = model(input_ids, attention_mask)\n",
        "  # print(output)\n",
        "  _, prediction = torch.max(output, dim=1)\n",
        "  print(_, prediction)\n",
        "  results = {}\n",
        "  results['Review_text']= sentence\n",
        "  results['Sentiment']= class_names[prediction]\n",
        "  return results\n"
      ],
      "execution_count": 164,
      "outputs": []
    },
    {
      "cell_type": "code",
      "metadata": {
        "colab": {
          "base_uri": "https://localhost:8080/"
        },
        "id": "SUGYYaZ5Bn5s",
        "outputId": "a0612671-e453-4ba1-9fc5-224974f041bf"
      },
      "source": [
        "review_text = 'not the result i wanted'\n",
        "live_prediction(tokenizer, review_text)\n"
      ],
      "execution_count": 165,
      "outputs": [
        {
          "output_type": "stream",
          "text": [
            "tensor([-0.0024], device='cuda:0', grad_fn=<MaxBackward0>) tensor([0], device='cuda:0')\n"
          ],
          "name": "stdout"
        },
        {
          "output_type": "execute_result",
          "data": {
            "text/plain": [
              "{'Review_text': 'not the result i wanted', 'Sentiment': 'Negative'}"
            ]
          },
          "metadata": {
            "tags": []
          },
          "execution_count": 165
        }
      ]
    },
    {
      "cell_type": "code",
      "metadata": {
        "colab": {
          "base_uri": "https://localhost:8080/"
        },
        "id": "8zChucqr7NhT",
        "outputId": "98c00b53-9dec-4b86-bc7e-cf830d0d3e95"
      },
      "source": [
        "\n",
        "reviews= ['it tastes like ass','i wont buy this anymore its watery','absolutely love the taste amazing', \"got shipped in 2 days, nice\", 'fake coffe i would give it a 0 star hate it', \"too expensive but still good taste\"]\n",
        "for review in reviews:\n",
        "  result = live_prediction(tokenizer, review)\n",
        "  print('↓→←↓'*20)\n",
        "  score_color = \"green\" if 'Positive' in result['Sentiment'] else \"red\"\n",
        "  print ('the Review: ', colored(result['Review_text'],\"yellow\") ,' the predicted sentiment is: ' ,colored(result['Sentiment'], score_color), '\\n')"
      ],
      "execution_count": 166,
      "outputs": [
        {
          "output_type": "stream",
          "text": [
            "tensor([-0.0012], device='cuda:0', grad_fn=<MaxBackward0>) tensor([1], device='cuda:0')\n",
            "↓→←↓↓→←↓↓→←↓↓→←↓↓→←↓↓→←↓↓→←↓↓→←↓↓→←↓↓→←↓↓→←↓↓→←↓↓→←↓↓→←↓↓→←↓↓→←↓↓→←↓↓→←↓↓→←↓↓→←↓\n",
            "the Review:  \u001b[33mit tastes like ass\u001b[0m  the predicted sentiment is:  \u001b[32mPositive\u001b[0m \n",
            "\n",
            "tensor([-0.0025], device='cuda:0', grad_fn=<MaxBackward0>) tensor([0], device='cuda:0')\n",
            "↓→←↓↓→←↓↓→←↓↓→←↓↓→←↓↓→←↓↓→←↓↓→←↓↓→←↓↓→←↓↓→←↓↓→←↓↓→←↓↓→←↓↓→←↓↓→←↓↓→←↓↓→←↓↓→←↓↓→←↓\n",
            "the Review:  \u001b[33mi wont buy this anymore its watery\u001b[0m  the predicted sentiment is:  \u001b[31mNegative\u001b[0m \n",
            "\n",
            "tensor([-0.0008], device='cuda:0', grad_fn=<MaxBackward0>) tensor([1], device='cuda:0')\n",
            "↓→←↓↓→←↓↓→←↓↓→←↓↓→←↓↓→←↓↓→←↓↓→←↓↓→←↓↓→←↓↓→←↓↓→←↓↓→←↓↓→←↓↓→←↓↓→←↓↓→←↓↓→←↓↓→←↓↓→←↓\n",
            "the Review:  \u001b[33mabsolutely love the taste amazing\u001b[0m  the predicted sentiment is:  \u001b[32mPositive\u001b[0m \n",
            "\n",
            "tensor([-0.0008], device='cuda:0', grad_fn=<MaxBackward0>) tensor([1], device='cuda:0')\n",
            "↓→←↓↓→←↓↓→←↓↓→←↓↓→←↓↓→←↓↓→←↓↓→←↓↓→←↓↓→←↓↓→←↓↓→←↓↓→←↓↓→←↓↓→←↓↓→←↓↓→←↓↓→←↓↓→←↓↓→←↓\n",
            "the Review:  \u001b[33mgot shipped in 2 days, nice\u001b[0m  the predicted sentiment is:  \u001b[32mPositive\u001b[0m \n",
            "\n",
            "tensor([-0.0024], device='cuda:0', grad_fn=<MaxBackward0>) tensor([0], device='cuda:0')\n",
            "↓→←↓↓→←↓↓→←↓↓→←↓↓→←↓↓→←↓↓→←↓↓→←↓↓→←↓↓→←↓↓→←↓↓→←↓↓→←↓↓→←↓↓→←↓↓→←↓↓→←↓↓→←↓↓→←↓↓→←↓\n",
            "the Review:  \u001b[33mfake coffe i would give it a 0 star hate it\u001b[0m  the predicted sentiment is:  \u001b[31mNegative\u001b[0m \n",
            "\n",
            "tensor([-0.0009], device='cuda:0', grad_fn=<MaxBackward0>) tensor([1], device='cuda:0')\n",
            "↓→←↓↓→←↓↓→←↓↓→←↓↓→←↓↓→←↓↓→←↓↓→←↓↓→←↓↓→←↓↓→←↓↓→←↓↓→←↓↓→←↓↓→←↓↓→←↓↓→←↓↓→←↓↓→←↓↓→←↓\n",
            "the Review:  \u001b[33mtoo expensive but still good taste\u001b[0m  the predicted sentiment is:  \u001b[32mPositive\u001b[0m \n",
            "\n"
          ],
          "name": "stdout"
        }
      ]
    },
    {
      "cell_type": "markdown",
      "metadata": {
        "id": "_uALUjaoGRq3"
      },
      "source": [
        "### <font color='green'> méthod 2: using pre trained finetuned bert multilingual for sentiment analysis</font> "
      ]
    },
    {
      "cell_type": "code",
      "metadata": {
        "colab": {
          "base_uri": "https://localhost:8080/"
        },
        "id": "LKe5zv7qmciG",
        "outputId": "a45f25a6-9470-419e-9840-fc954cfa3b84"
      },
      "source": [
        ""
      ],
      "execution_count": null,
      "outputs": [
        {
          "output_type": "stream",
          "text": [
            "Mounted at /content/drive\n"
          ],
          "name": "stdout"
        }
      ]
    },
    {
      "cell_type": "code",
      "metadata": {
        "colab": {
          "base_uri": "https://localhost:8080/"
        },
        "id": "yfdkm9wL9ysD",
        "outputId": "31b01584-52aa-4fb6-98da-4e82d3aff677"
      },
      "source": [
        "\n",
        "from adaptnlp import EasySequenceClassifier\n",
        "from pprint import pprint\n",
        "df = pd.read_csv('takealot_final_ml_processed.csv')\n",
        "\n",
        "def to_sentiment(rating):\n",
        "  rating = int(rating)\n",
        "  if rating < 3:\n",
        "    return 0\n",
        "  else:\n",
        "    return 1\n",
        "\n",
        "df['sentiment'] = df.review_rating.apply(to_sentiment)\n",
        "\n",
        "# https://novetta.github.io/adaptnlp/tutorial/sequence-classification.html\n",
        "classifier = EasySequenceClassifier()\n",
        "# Inference\n",
        "example_text = \"j achète ce produit assez régulièrement  pour son bon rapport qualité prix produit frais et assez gouteux bon rapport qualité\"\n",
        "\n",
        "sentences = classifier.tag_text(\n",
        "    text=example_text,\n",
        "    model_name_or_path=\"nlptown/bert-base-multilingual-uncased-sentiment\",\n",
        "    mini_batch_size=1,\n",
        ")\n",
        "\n",
        "print(\"Tag Score Outputs:\\n\")\n",
        "for sentence in sentences:\n",
        "    pprint({sentence.to_original_text(): sentence.labels})\n",
        "\n",
        "labels_list = [item.to_dict() for item in sentences[0].labels]\n",
        "new_dict = {\n",
        "    item['value'].split(' ')[0]:item['confidence'] for item in  labels_list}\n",
        "predicted_rating = max(new_dict, key=new_dict.get)\n",
        "predicted_score = 1 if int(predicted_rating) > 3 else 0\n",
        "print(predicted_rating, predicted_score)"
      ],
      "execution_count": null,
      "outputs": [
        {
          "output_type": "stream",
          "text": [
            "2020-12-27 00:58:29,465 loading file nlptown/bert-base-multilingual-uncased-sentiment\n"
          ],
          "name": "stdout"
        },
        {
          "output_type": "stream",
          "text": [
            "/usr/local/lib/python3.6/dist-packages/transformers/tokenization_utils_base.py:2022: FutureWarning: The `pad_to_max_length` argument is deprecated and will be removed in a future version, use `padding=True` or `padding='longest'` to pad to the longest sequence in the batch, or use `padding='max_length'` to pad to a max length. In this case, you can give a specific length with `max_length` (e.g. `max_length=45`) or leave max_length to None to pad to the maximal input size of the model (e.g. 512 for Bert).\n",
            "  FutureWarning,\n",
            "Predicting text: 100%|██████████| 1/1 [00:00<00:00, 57.07it/s]"
          ],
          "name": "stderr"
        },
        {
          "output_type": "stream",
          "text": [
            "Tag Score Outputs:\n",
            "\n",
            "{'j achète ce produit assez régulièrement  pour son bon rapport qualité prix produit frais et assez gouteux bon rapport qualité': [1 star (0.0094),\n",
            "                                                                                                                                   2 stars (0.0384),\n",
            "                                                                                                                                   3 stars (0.3891),\n",
            "                                                                                                                                   4 stars (0.3882),\n",
            "                                                                                                                                   5 stars (0.1749)]}\n",
            "3 0\n"
          ],
          "name": "stdout"
        },
        {
          "output_type": "stream",
          "text": [
            "\n"
          ],
          "name": "stderr"
        }
      ]
    },
    {
      "cell_type": "code",
      "metadata": {
        "colab": {
          "base_uri": "https://localhost:8080/"
        },
        "id": "YNlyeOJfI3g0",
        "outputId": "2b44bf4e-fd3b-4de6-959e-ee98f8bb0d95"
      },
      "source": [
        "#max(sentence.labels.to_dict(), key=sentence.labels.to_dict().get)\n",
        "sentence.labels[2].to_dict()"
      ],
      "execution_count": null,
      "outputs": [
        {
          "output_type": "execute_result",
          "data": {
            "text/plain": [
              "{'confidence': 0.10610610246658325, 'value': '3 stars'}"
            ]
          },
          "metadata": {
            "tags": []
          },
          "execution_count": 204
        }
      ]
    },
    {
      "cell_type": "code",
      "metadata": {
        "colab": {
          "base_uri": "https://localhost:8080/",
          "height": 35
        },
        "id": "KDUJ_rnEPwoY",
        "outputId": "c874f5ad-dcbd-47c3-e9c8-579569eec863"
      },
      "source": [
        ""
      ],
      "execution_count": null,
      "outputs": [
        {
          "output_type": "execute_result",
          "data": {
            "application/vnd.google.colaboratory.intrinsic+json": {
              "type": "string"
            },
            "text/plain": [
              "'1'"
            ]
          },
          "metadata": {
            "tags": []
          },
          "execution_count": 210
        }
      ]
    },
    {
      "cell_type": "code",
      "metadata": {
        "id": "V1zZ-8mVGeXl"
      },
      "source": [
        "# cleaning data\n",
        "from pandas import DataFrame\n",
        "from string import punctuation\n",
        "from adaptnlp import EasySequenceClassifier\n",
        "\n",
        "\n",
        "logging.getLogger('allennlp.common.params').disabled = True \n",
        "logging.getLogger('allennlp.nn.initializers').disabled = True \n",
        "logging.getLogger('allennlp.modules.token_embedders.embedding').setLevel(logging.INFO) \n",
        "\n",
        "\n",
        "class NlptownPrediction():\n",
        "\n",
        "  def __init__(self, dataframe):\n",
        "    self.df = dataframe\n",
        "\n",
        "\n",
        "  # generator to apply functions on dataframe\n",
        "  def filter_df(self):\n",
        "    def apply_on_df(*a, **kw):\n",
        "        def apply(func):\n",
        "            df = kw['df']\n",
        "            column = kw['column']\n",
        "            df[column] = df[column].apply(lambda x: func(x))\n",
        "        return apply\n",
        "\n",
        "    @apply_on_df(df=self.df, column='review')\n",
        "    def remove_punctuation(x):\n",
        "        for char in punctuation:\n",
        "            x = str(x).replace(char, '')\n",
        "        return x\n",
        "\n",
        "    classifier = EasySequenceClassifier()\n",
        "    \n",
        "  @staticmethod\n",
        "  def predict_sentiment_rating(sentence):\n",
        "    sentences = classifier.tag_text(\n",
        "        text=sentence,\n",
        "        model_name_or_path=\"nlptown/bert-base-multilingual-uncased-sentiment\",\n",
        "        mini_batch_size=1,\n",
        "    )\n",
        "    labels_list = [item.to_dict() for item in sentences[0].labels]\n",
        "    new_dict = {\n",
        "        item['value'].split(' ')[0]:item['confidence'] for item in  labels_list}\n",
        "    predicted_rating = max(new_dict, key=new_dict.get)\n",
        "    predicted_score = 1 if int(predicted_rating) > 3 else 0\n",
        "    return predicted_rating, predicted_score\n",
        "\n",
        "  def generate_data(self):\n",
        "      # self.filter_df()\n",
        "      \n",
        "      # setting positifs 1 for rating >3\n",
        "      df['score'] = df['review_rating'].apply(lambda x: 1 if x > 3 else 0)\n",
        "      df['predicted_score'] = df['review'].apply(lambda x: self.predict_sentiment_rating(x)[1])\n",
        "      df['predicted_rating'] = df['review'].apply(lambda x: self.predict_sentiment_rating(x)[0])\n",
        "      return df\n",
        "\n",
        "\n",
        "\n"
      ],
      "execution_count": null,
      "outputs": []
    },
    {
      "cell_type": "code",
      "metadata": {
        "id": "jA1_jyczS_ro"
      },
      "source": [
        "df = pd.read_csv('takealot_final_ml_processed.csv')\n",
        "df = morrisons\n",
        "nlptown_class = NlptownPrediction(df)"
      ],
      "execution_count": null,
      "outputs": []
    },
    {
      "cell_type": "code",
      "metadata": {
        "id": "rzVusZ1CTBk9"
      },
      "source": [
        "%%capture\n",
        "result = nlptown_class.generate_data()"
      ],
      "execution_count": null,
      "outputs": []
    },
    {
      "cell_type": "code",
      "metadata": {
        "id": "rw7lsBfrTxZJ"
      },
      "source": [
        "result[ 'predicted_rating'] =  result.predicted_rating.apply(pd.to_numeric) \n"
      ],
      "execution_count": null,
      "outputs": []
    },
    {
      "cell_type": "code",
      "metadata": {
        "colab": {
          "base_uri": "https://localhost:8080/"
        },
        "id": "mjrLrogfV5GX",
        "outputId": "60cdc0c3-1b4d-47f2-e10d-fc1c5b62e0fc"
      },
      "source": [
        "print(classification_report(result['review_rating'], result['predicted_rating'], target_names=['1','2','3','4','5']))"
      ],
      "execution_count": null,
      "outputs": [
        {
          "output_type": "stream",
          "text": [
            "              precision    recall  f1-score   support\n",
            "\n",
            "           1       0.85      0.66      0.74      5707\n",
            "           2       0.25      0.49      0.33      1650\n",
            "           3       0.30      0.55      0.39      1664\n",
            "           4       0.32      0.45      0.37      3418\n",
            "           5       0.92      0.74      0.82     15698\n",
            "\n",
            "    accuracy                           0.66     28137\n",
            "   macro avg       0.53      0.58      0.53     28137\n",
            "weighted avg       0.75      0.66      0.69     28137\n",
            "\n"
          ],
          "name": "stdout"
        }
      ]
    },
    {
      "cell_type": "code",
      "metadata": {
        "colab": {
          "base_uri": "https://localhost:8080/"
        },
        "id": "HzDIh6NMYIGu",
        "outputId": "5f6dd314-2c3c-48d4-f35c-0895f7558f14"
      },
      "source": [
        "print(classification_report(result['score'], result['predicted_score'], target_names=[ 'negatif', 'positif']))"
      ],
      "execution_count": null,
      "outputs": [
        {
          "output_type": "stream",
          "text": [
            "              precision    recall  f1-score   support\n",
            "\n",
            "     negatif       0.80      0.96      0.87      9021\n",
            "     positif       0.98      0.89      0.93     19116\n",
            "\n",
            "    accuracy                           0.91     28137\n",
            "   macro avg       0.89      0.92      0.90     28137\n",
            "weighted avg       0.92      0.91      0.91     28137\n",
            "\n"
          ],
          "name": "stdout"
        }
      ]
    },
    {
      "cell_type": "code",
      "metadata": {
        "colab": {
          "base_uri": "https://localhost:8080/",
          "height": 35
        },
        "id": "R7mcVrN6ZGiO",
        "outputId": "26ada932-de8d-4606-b55e-84efbf2f29b7"
      },
      "source": [
        "result.review.loc[result.review_rating < 3].iloc[32]"
      ],
      "execution_count": null,
      "outputs": [
        {
          "output_type": "execute_result",
          "data": {
            "application/vnd.google.colaboratory.intrinsic+json": {
              "type": "string"
            },
            "text/plain": [
              "'coffee is great  '"
            ]
          },
          "metadata": {
            "tags": []
          },
          "execution_count": 300
        }
      ]
    },
    {
      "cell_type": "code",
      "metadata": {
        "colab": {
          "base_uri": "https://localhost:8080/",
          "height": 343
        },
        "id": "axXtMP59dUpB",
        "outputId": "1b3717b4-e0e8-479c-f1fe-619c793d5768"
      },
      "source": [
        "result[['review_rating', 'predicted_rating']].sample(10)"
      ],
      "execution_count": null,
      "outputs": [
        {
          "output_type": "execute_result",
          "data": {
            "text/html": [
              "<div>\n",
              "<style scoped>\n",
              "    .dataframe tbody tr th:only-of-type {\n",
              "        vertical-align: middle;\n",
              "    }\n",
              "\n",
              "    .dataframe tbody tr th {\n",
              "        vertical-align: top;\n",
              "    }\n",
              "\n",
              "    .dataframe thead th {\n",
              "        text-align: right;\n",
              "    }\n",
              "</style>\n",
              "<table border=\"1\" class=\"dataframe\">\n",
              "  <thead>\n",
              "    <tr style=\"text-align: right;\">\n",
              "      <th></th>\n",
              "      <th>review_rating</th>\n",
              "      <th>predicted_rating</th>\n",
              "    </tr>\n",
              "  </thead>\n",
              "  <tbody>\n",
              "    <tr>\n",
              "      <th>531</th>\n",
              "      <td>5</td>\n",
              "      <td>5</td>\n",
              "    </tr>\n",
              "    <tr>\n",
              "      <th>2086</th>\n",
              "      <td>5</td>\n",
              "      <td>5</td>\n",
              "    </tr>\n",
              "    <tr>\n",
              "      <th>2162</th>\n",
              "      <td>4</td>\n",
              "      <td>4</td>\n",
              "    </tr>\n",
              "    <tr>\n",
              "      <th>1650</th>\n",
              "      <td>5</td>\n",
              "      <td>5</td>\n",
              "    </tr>\n",
              "    <tr>\n",
              "      <th>2651</th>\n",
              "      <td>5</td>\n",
              "      <td>4</td>\n",
              "    </tr>\n",
              "    <tr>\n",
              "      <th>1343</th>\n",
              "      <td>3</td>\n",
              "      <td>3</td>\n",
              "    </tr>\n",
              "    <tr>\n",
              "      <th>127</th>\n",
              "      <td>4</td>\n",
              "      <td>5</td>\n",
              "    </tr>\n",
              "    <tr>\n",
              "      <th>2027</th>\n",
              "      <td>5</td>\n",
              "      <td>5</td>\n",
              "    </tr>\n",
              "    <tr>\n",
              "      <th>2004</th>\n",
              "      <td>5</td>\n",
              "      <td>5</td>\n",
              "    </tr>\n",
              "    <tr>\n",
              "      <th>63</th>\n",
              "      <td>4</td>\n",
              "      <td>5</td>\n",
              "    </tr>\n",
              "  </tbody>\n",
              "</table>\n",
              "</div>"
            ],
            "text/plain": [
              "      review_rating  predicted_rating\n",
              "531               5                 5\n",
              "2086              5                 5\n",
              "2162              4                 4\n",
              "1650              5                 5\n",
              "2651              5                 4\n",
              "1343              3                 3\n",
              "127               4                 5\n",
              "2027              5                 5\n",
              "2004              5                 5\n",
              "63                4                 5"
            ]
          },
          "metadata": {
            "tags": []
          },
          "execution_count": 288
        }
      ]
    },
    {
      "cell_type": "code",
      "metadata": {
        "colab": {
          "base_uri": "https://localhost:8080/",
          "height": 343
        },
        "id": "uX31WrfWfwIR",
        "outputId": "4e7f0875-1168-43ba-fe4c-118cd05fa498"
      },
      "source": [
        "result[['review','score', 'predicted_score','review_rating']].sample(10)"
      ],
      "execution_count": null,
      "outputs": [
        {
          "output_type": "execute_result",
          "data": {
            "text/html": [
              "<div>\n",
              "<style scoped>\n",
              "    .dataframe tbody tr th:only-of-type {\n",
              "        vertical-align: middle;\n",
              "    }\n",
              "\n",
              "    .dataframe tbody tr th {\n",
              "        vertical-align: top;\n",
              "    }\n",
              "\n",
              "    .dataframe thead th {\n",
              "        text-align: right;\n",
              "    }\n",
              "</style>\n",
              "<table border=\"1\" class=\"dataframe\">\n",
              "  <thead>\n",
              "    <tr style=\"text-align: right;\">\n",
              "      <th></th>\n",
              "      <th>review</th>\n",
              "      <th>score</th>\n",
              "      <th>predicted_score</th>\n",
              "      <th>review_rating</th>\n",
              "    </tr>\n",
              "  </thead>\n",
              "  <tbody>\n",
              "    <tr>\n",
              "      <th>2393</th>\n",
              "      <td>just sublime if you like a full flavoured rich...</td>\n",
              "      <td>1</td>\n",
              "      <td>1</td>\n",
              "      <td>5</td>\n",
              "    </tr>\n",
              "    <tr>\n",
              "      <th>2864</th>\n",
              "      <td>better than the other nondairy milks</td>\n",
              "      <td>1</td>\n",
              "      <td>1</td>\n",
              "      <td>4</td>\n",
              "    </tr>\n",
              "    <tr>\n",
              "      <th>1863</th>\n",
              "      <td>a lovely decaffeinated coffee enjoy the rich a...</td>\n",
              "      <td>1</td>\n",
              "      <td>1</td>\n",
              "      <td>5</td>\n",
              "    </tr>\n",
              "    <tr>\n",
              "      <th>2394</th>\n",
              "      <td>pleasant and easily drinkable however its a me...</td>\n",
              "      <td>0</td>\n",
              "      <td>1</td>\n",
              "      <td>3</td>\n",
              "    </tr>\n",
              "    <tr>\n",
              "      <th>2589</th>\n",
              "      <td>after many tries for month this one is still m...</td>\n",
              "      <td>1</td>\n",
              "      <td>1</td>\n",
              "      <td>4</td>\n",
              "    </tr>\n",
              "    <tr>\n",
              "      <th>2365</th>\n",
              "      <td>good taste but slightly on the weak side the p...</td>\n",
              "      <td>0</td>\n",
              "      <td>0</td>\n",
              "      <td>3</td>\n",
              "    </tr>\n",
              "    <tr>\n",
              "      <th>729</th>\n",
              "      <td>this a great tasting coffee which is not too b...</td>\n",
              "      <td>1</td>\n",
              "      <td>1</td>\n",
              "      <td>5</td>\n",
              "    </tr>\n",
              "    <tr>\n",
              "      <th>2281</th>\n",
              "      <td>nice and tasty way to wind down from a busy day</td>\n",
              "      <td>1</td>\n",
              "      <td>1</td>\n",
              "      <td>4</td>\n",
              "    </tr>\n",
              "    <tr>\n",
              "      <th>2793</th>\n",
              "      <td>not really that spicy all though the taste is ...</td>\n",
              "      <td>0</td>\n",
              "      <td>0</td>\n",
              "      <td>3</td>\n",
              "    </tr>\n",
              "    <tr>\n",
              "      <th>2318</th>\n",
              "      <td>i love the bulk pack really good coffee defini...</td>\n",
              "      <td>1</td>\n",
              "      <td>1</td>\n",
              "      <td>5</td>\n",
              "    </tr>\n",
              "  </tbody>\n",
              "</table>\n",
              "</div>"
            ],
            "text/plain": [
              "                                                 review  ...  review_rating\n",
              "2393  just sublime if you like a full flavoured rich...  ...              5\n",
              "2864              better than the other nondairy milks   ...              4\n",
              "1863  a lovely decaffeinated coffee enjoy the rich a...  ...              5\n",
              "2394  pleasant and easily drinkable however its a me...  ...              3\n",
              "2589  after many tries for month this one is still m...  ...              4\n",
              "2365  good taste but slightly on the weak side the p...  ...              3\n",
              "729   this a great tasting coffee which is not too b...  ...              5\n",
              "2281   nice and tasty way to wind down from a busy day   ...              4\n",
              "2793  not really that spicy all though the taste is ...  ...              3\n",
              "2318  i love the bulk pack really good coffee defini...  ...              5\n",
              "\n",
              "[10 rows x 4 columns]"
            ]
          },
          "metadata": {
            "tags": []
          },
          "execution_count": 304
        }
      ]
    },
    {
      "cell_type": "code",
      "metadata": {
        "colab": {
          "base_uri": "https://localhost:8080/",
          "height": 53
        },
        "id": "CClVTG6-gtRa",
        "outputId": "18639e0a-c64c-4fd3-deb0-d01bfd8b04b1"
      },
      "source": [
        "result.review.iloc[3273]"
      ],
      "execution_count": null,
      "outputs": [
        {
          "output_type": "execute_result",
          "data": {
            "application/vnd.google.colaboratory.intrinsic+json": {
              "type": "string"
            },
            "text/plain": [
              "'its really good if you like hot stuff without the hot sauce its kind off bland so would not recommend if you have sensitive taste buds '"
            ]
          },
          "metadata": {
            "tags": []
          },
          "execution_count": 302
        }
      ]
    },
    {
      "cell_type": "markdown",
      "metadata": {
        "id": "TP6fh9EemC-x"
      },
      "source": [
        "### Working with French Reviews"
      ]
    },
    {
      "cell_type": "code",
      "metadata": {
        "colab": {
          "base_uri": "https://localhost:8080/"
        },
        "id": "heNKOptLhScM",
        "outputId": "c6f05ec5-80cd-4601-d6e9-49e3f94bfbb9"
      },
      "source": [
        "!gsutil cp gs://di_data_sas/FR/Coursesu/Data/2020_periode_10/coursesu_ml_opinions.csv courseu.csv"
      ],
      "execution_count": null,
      "outputs": [
        {
          "output_type": "stream",
          "text": [
            "Copying gs://di_data_sas/FR/Coursesu/Data/2020_periode_10/coursesu_ml_opinions.csv...\n",
            "- [1 files][ 17.7 MiB/ 17.7 MiB]                                                \n",
            "Operation completed over 1 objects/17.7 MiB.                                     \n"
          ],
          "name": "stdout"
        }
      ]
    },
    {
      "cell_type": "code",
      "metadata": {
        "id": "YXJoESTKiBsy"
      },
      "source": [
        "df = pd.read_csv('courseu.csv')\n",
        "df = df[:2000]\n",
        "nlptown_class = NlptownPrediction(df)"
      ],
      "execution_count": null,
      "outputs": []
    },
    {
      "cell_type": "code",
      "metadata": {
        "id": "_9RWPeuRmAj4"
      },
      "source": [
        "%%capture\n",
        "result = nlptown_class.generate_data()"
      ],
      "execution_count": null,
      "outputs": []
    },
    {
      "cell_type": "code",
      "metadata": {
        "id": "3a2A-F_OqNWu"
      },
      "source": [
        "result[ 'predicted_rating'] =  result.predicted_rating.apply(pd.to_numeric) \n"
      ],
      "execution_count": null,
      "outputs": []
    },
    {
      "cell_type": "code",
      "metadata": {
        "colab": {
          "base_uri": "https://localhost:8080/"
        },
        "id": "v9pBKcXPmBnR",
        "outputId": "c254fe08-cb09-4aa1-c4b8-2e9e503d4526"
      },
      "source": [
        "print(classification_report(result['review_rating'], result['predicted_rating'], target_names=['1','2','3','4','5']))"
      ],
      "execution_count": null,
      "outputs": [
        {
          "output_type": "stream",
          "text": [
            "              precision    recall  f1-score   support\n",
            "\n",
            "           1       0.36      0.55      0.43        44\n",
            "           2       0.25      0.69      0.37        39\n",
            "           3       0.30      0.44      0.36       135\n",
            "           4       0.44      0.43      0.44       529\n",
            "           5       0.81      0.72      0.76      1253\n",
            "\n",
            "    accuracy                           0.62      2000\n",
            "   macro avg       0.43      0.57      0.47      2000\n",
            "weighted avg       0.66      0.62      0.63      2000\n",
            "\n"
          ],
          "name": "stdout"
        }
      ]
    },
    {
      "cell_type": "code",
      "metadata": {
        "colab": {
          "base_uri": "https://localhost:8080/"
        },
        "id": "SZiNEcdtqJdZ",
        "outputId": "ac7e2b41-78ae-4f00-f599-aa79b7b822ce"
      },
      "source": [
        "print(classification_report(result['score'], result['predicted_score'], target_names=[ 'negatif', 'positif']))"
      ],
      "execution_count": null,
      "outputs": [
        {
          "output_type": "stream",
          "text": [
            "              precision    recall  f1-score   support\n",
            "\n",
            "     negatif       0.52      0.89      0.66       218\n",
            "     positif       0.98      0.90      0.94      1782\n",
            "\n",
            "    accuracy                           0.90      2000\n",
            "   macro avg       0.75      0.89      0.80      2000\n",
            "weighted avg       0.93      0.90      0.91      2000\n",
            "\n"
          ],
          "name": "stdout"
        }
      ]
    },
    {
      "cell_type": "code",
      "metadata": {
        "colab": {
          "base_uri": "https://localhost:8080/",
          "height": 343
        },
        "id": "wNVdcoKLqRjL",
        "outputId": "f220a210-a62e-473c-fe4d-53481ce7992f"
      },
      "source": [
        "result[['review','score', 'predicted_score','review_rating']].sample(10)"
      ],
      "execution_count": null,
      "outputs": [
        {
          "output_type": "execute_result",
          "data": {
            "text/html": [
              "<div>\n",
              "<style scoped>\n",
              "    .dataframe tbody tr th:only-of-type {\n",
              "        vertical-align: middle;\n",
              "    }\n",
              "\n",
              "    .dataframe tbody tr th {\n",
              "        vertical-align: top;\n",
              "    }\n",
              "\n",
              "    .dataframe thead th {\n",
              "        text-align: right;\n",
              "    }\n",
              "</style>\n",
              "<table border=\"1\" class=\"dataframe\">\n",
              "  <thead>\n",
              "    <tr style=\"text-align: right;\">\n",
              "      <th></th>\n",
              "      <th>review</th>\n",
              "      <th>score</th>\n",
              "      <th>predicted_score</th>\n",
              "      <th>review_rating</th>\n",
              "    </tr>\n",
              "  </thead>\n",
              "  <tbody>\n",
              "    <tr>\n",
              "      <th>1517</th>\n",
              "      <td>bonne feta.\\r\\nutilisée avec une salade de tom...</td>\n",
              "      <td>1</td>\n",
              "      <td>1</td>\n",
              "      <td>5</td>\n",
              "    </tr>\n",
              "    <tr>\n",
              "      <th>107</th>\n",
              "      <td>acheté en drive et consommé à la maison ! déli...</td>\n",
              "      <td>1</td>\n",
              "      <td>1</td>\n",
              "      <td>5</td>\n",
              "    </tr>\n",
              "    <tr>\n",
              "      <th>1059</th>\n",
              "      <td>je n’achète plus que cette référence : pas tro...</td>\n",
              "      <td>1</td>\n",
              "      <td>1</td>\n",
              "      <td>5</td>\n",
              "    </tr>\n",
              "    <tr>\n",
              "      <th>407</th>\n",
              "      <td>j achète cette eau pour mettre dans ma machine...</td>\n",
              "      <td>0</td>\n",
              "      <td>0</td>\n",
              "      <td>3</td>\n",
              "    </tr>\n",
              "    <tr>\n",
              "      <th>851</th>\n",
              "      <td>j'achète ce produit régulièrement et en suis t...</td>\n",
              "      <td>1</td>\n",
              "      <td>1</td>\n",
              "      <td>5</td>\n",
              "    </tr>\n",
              "    <tr>\n",
              "      <th>494</th>\n",
              "      <td>j'achète régulièrement ce produit . nous préfé...</td>\n",
              "      <td>1</td>\n",
              "      <td>0</td>\n",
              "      <td>5</td>\n",
              "    </tr>\n",
              "    <tr>\n",
              "      <th>1428</th>\n",
              "      <td>bon jus de pomme, produit frais je recommande ...</td>\n",
              "      <td>1</td>\n",
              "      <td>1</td>\n",
              "      <td>4</td>\n",
              "    </tr>\n",
              "    <tr>\n",
              "      <th>1184</th>\n",
              "      <td>j'ai acheté ce shampoing sec car il était abor...</td>\n",
              "      <td>0</td>\n",
              "      <td>0</td>\n",
              "      <td>1</td>\n",
              "    </tr>\n",
              "    <tr>\n",
              "      <th>1810</th>\n",
              "      <td>beaucoup trop salé !!! il y a du avoir un prob...</td>\n",
              "      <td>0</td>\n",
              "      <td>0</td>\n",
              "      <td>1</td>\n",
              "    </tr>\n",
              "    <tr>\n",
              "      <th>1298</th>\n",
              "      <td>excellent produit, très goûteux , se conserve ...</td>\n",
              "      <td>1</td>\n",
              "      <td>1</td>\n",
              "      <td>5</td>\n",
              "    </tr>\n",
              "  </tbody>\n",
              "</table>\n",
              "</div>"
            ],
            "text/plain": [
              "                                                 review  ...  review_rating\n",
              "1517  bonne feta.\\r\\nutilisée avec une salade de tom...  ...              5\n",
              "107   acheté en drive et consommé à la maison ! déli...  ...              5\n",
              "1059  je n’achète plus que cette référence : pas tro...  ...              5\n",
              "407   j achète cette eau pour mettre dans ma machine...  ...              3\n",
              "851   j'achète ce produit régulièrement et en suis t...  ...              5\n",
              "494   j'achète régulièrement ce produit . nous préfé...  ...              5\n",
              "1428  bon jus de pomme, produit frais je recommande ...  ...              4\n",
              "1184  j'ai acheté ce shampoing sec car il était abor...  ...              1\n",
              "1810  beaucoup trop salé !!! il y a du avoir un prob...  ...              1\n",
              "1298  excellent produit, très goûteux , se conserve ...  ...              5\n",
              "\n",
              "[10 rows x 4 columns]"
            ]
          },
          "metadata": {
            "tags": []
          },
          "execution_count": 344
        }
      ]
    },
    {
      "cell_type": "code",
      "metadata": {
        "id": "fT079RfZrCpF"
      },
      "source": [
        "result['diff'] = result['score'] - result['predicted_score'] "
      ],
      "execution_count": null,
      "outputs": []
    },
    {
      "cell_type": "code",
      "metadata": {
        "colab": {
          "base_uri": "https://localhost:8080/"
        },
        "id": "5iI0j97grmRC",
        "outputId": "72285aec-312f-433e-9d05-26cb1d8b2aec"
      },
      "source": [
        "result.groupby('diff')['diff'].count()/result.shape[0]"
      ],
      "execution_count": null,
      "outputs": [
        {
          "output_type": "execute_result",
          "data": {
            "text/plain": [
              "diff\n",
              "-1    0.0125\n",
              " 0    0.9000\n",
              " 1    0.0875\n",
              "Name: diff, dtype: float64"
            ]
          },
          "metadata": {
            "tags": []
          },
          "execution_count": 346
        }
      ]
    },
    {
      "cell_type": "code",
      "metadata": {
        "id": "zqkCvPUhrqML"
      },
      "source": [
        "from torchvision import models\n",
        "model = models.vgg16()\n",
        "print(model)"
      ],
      "execution_count": null,
      "outputs": []
    },
    {
      "cell_type": "code",
      "metadata": {
        "id": "ZTQBOXh0sxGC"
      },
      "source": [
        "result[['review','review_rating']].iloc[30944]"
      ],
      "execution_count": null,
      "outputs": []
    },
    {
      "cell_type": "markdown",
      "metadata": {
        "id": "XypTO6b5gmbk"
      },
      "source": [
        "#### Using transformers pipeline  to make sentiment analysis"
      ]
    },
    {
      "cell_type": "code",
      "metadata": {
        "id": "MG6Ll7kFkVmE"
      },
      "source": [
        "from transformers import pipeline, AutoModelForTokenClassification, AutoTokenizer\n",
        "\n",
        "# Sentiment analysis pipeline\n",
        "pipeline('sentiment-analysis')\n",
        "SA = pipeline('sentiment-analysis', 'nlptown/bert-base-multilingual-uncased-sentiment')"
      ],
      "execution_count": null,
      "outputs": []
    },
    {
      "cell_type": "code",
      "metadata": {
        "colab": {
          "base_uri": "https://localhost:8080/"
        },
        "id": "Pra3CGIzgloR",
        "outputId": "09475641-6b9c-4da6-b678-074fee446c2e"
      },
      "source": [
        "polarity = {'1': 'Positive', '0': 'Negative'}\n",
        "entry = input()\n",
        "def live_pred_using_torchpipeline(sentence):\n",
        "  res = SA(entry)[0]\n",
        "  label = res['label'].split(' ')[0]\n",
        "  predicted_score = 1 if int(label) > 3 else 0\n",
        "  return label, polarity[str(predicted_score)]\n",
        "\n",
        "live_pred_using_torchpipeline(sentence1)"
      ],
      "execution_count": 141,
      "outputs": [
        {
          "output_type": "stream",
          "text": [
            "i like the taste and the price\n"
          ],
          "name": "stdout"
        },
        {
          "output_type": "execute_result",
          "data": {
            "text/plain": [
              "('4', 'Positive')"
            ]
          },
          "metadata": {
            "tags": []
          },
          "execution_count": 141
        }
      ]
    },
    {
      "cell_type": "code",
      "metadata": {
        "id": "AnJpKyMCim0N"
      },
      "source": [
        "res = SA(sentence1)[0]\n",
        "res['score']"
      ],
      "execution_count": null,
      "outputs": []
    }
  ]
}
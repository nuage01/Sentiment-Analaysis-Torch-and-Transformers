{
  "nbformat": 4,
  "nbformat_minor": 0,
  "metadata": {
    "kernelspec": {
      "display_name": "Python 3",
      "language": "python",
      "name": "python3"
    },
    "language_info": {
      "codemirror_mode": {
        "name": "ipython",
        "version": 3
      },
      "file_extension": ".py",
      "mimetype": "text/x-python",
      "name": "python",
      "nbconvert_exporter": "python",
      "pygments_lexer": "ipython3",
      "version": "3.6.8"
    },
    "colab": {
      "name": "TORCH_transformers_TOPICS_final.ipynb",
      "provenance": [],
      "collapsed_sections": [],
      "toc_visible": true
    },
    "accelerator": "GPU"
  },
  "cells": [
    {
      "cell_type": "markdown",
      "metadata": {
        "id": "o19KlWBGSkgI"
      },
      "source": [
        "### <font color='green'>Transformers- bert for Sentiment Analysis on reviews </font> "
      ]
    },
    {
      "cell_type": "code",
      "metadata": {
        "colab": {
          "base_uri": "https://localhost:8080/"
        },
        "id": "KJCG-nuWSkgR",
        "outputId": "066de886-5be6-49d4-93a6-948b0e2af0ba"
      },
      "source": [
        "!nvidia-smi"
      ],
      "execution_count": 1,
      "outputs": [
        {
          "output_type": "stream",
          "text": [
            "Mon Dec 28 20:02:15 2020       \n",
            "+-----------------------------------------------------------------------------+\n",
            "| NVIDIA-SMI 460.27.04    Driver Version: 418.67       CUDA Version: 10.1     |\n",
            "|-------------------------------+----------------------+----------------------+\n",
            "| GPU  Name        Persistence-M| Bus-Id        Disp.A | Volatile Uncorr. ECC |\n",
            "| Fan  Temp  Perf  Pwr:Usage/Cap|         Memory-Usage | GPU-Util  Compute M. |\n",
            "|                               |                      |               MIG M. |\n",
            "|===============================+======================+======================|\n",
            "|   0  Tesla T4            Off  | 00000000:00:04.0 Off |                    0 |\n",
            "| N/A   62C    P8    10W /  70W |      0MiB / 15079MiB |      0%      Default |\n",
            "|                               |                      |                 ERR! |\n",
            "+-------------------------------+----------------------+----------------------+\n",
            "                                                                               \n",
            "+-----------------------------------------------------------------------------+\n",
            "| Processes:                                                                  |\n",
            "|  GPU   GI   CI        PID   Type   Process name                  GPU Memory |\n",
            "|        ID   ID                                                   Usage      |\n",
            "|=============================================================================|\n",
            "|  No running processes found                                                 |\n",
            "+-----------------------------------------------------------------------------+\n"
          ],
          "name": "stdout"
        }
      ]
    },
    {
      "cell_type": "markdown",
      "metadata": {
        "id": "u30U1HhHSkga"
      },
      "source": [
        "### <font color='green'>Setup</font> "
      ]
    },
    {
      "cell_type": "code",
      "metadata": {
        "id": "B67Fior3BZUc",
        "colab": {
          "base_uri": "https://localhost:8080/"
        },
        "outputId": "636462d7-b3ea-49f6-e5fc-832d5ca32724"
      },
      "source": [
        "!pip install sentencepiece"
      ],
      "execution_count": 1,
      "outputs": [
        {
          "output_type": "stream",
          "text": [
            "Requirement already satisfied: sentencepiece in /usr/local/lib/python3.6/dist-packages (0.1.94)\n"
          ],
          "name": "stdout"
        }
      ]
    },
    {
      "cell_type": "code",
      "metadata": {
        "colab": {
          "base_uri": "https://localhost:8080/"
        },
        "id": "SrbDSGcWSkgc",
        "outputId": "61cfb249-363b-4113-8e46-d4873f01e4f2"
      },
      "source": [
        "!pip install -qq transformers"
      ],
      "execution_count": 3,
      "outputs": [
        {
          "output_type": "stream",
          "text": [
            "\u001b[K     |████████████████████████████████| 1.5MB 7.9MB/s \n",
            "\u001b[K     |████████████████████████████████| 890kB 28.5MB/s \n",
            "\u001b[K     |████████████████████████████████| 2.9MB 20.2MB/s \n",
            "\u001b[?25h  Building wheel for sacremoses (setup.py) ... \u001b[?25l\u001b[?25hdone\n"
          ],
          "name": "stdout"
        }
      ]
    },
    {
      "cell_type": "code",
      "metadata": {
        "id": "MqGHuFxDLVmG"
      },
      "source": [
        "import pandas as pd\n",
        "from pandas import DataFrame\n",
        "import logging\n",
        "\n"
      ],
      "execution_count": 8,
      "outputs": []
    },
    {
      "cell_type": "code",
      "metadata": {
        "id": "4TkTz6p-Skgo"
      },
      "source": [
        "edited_types = {\n",
        "'asin':         'object',\n",
        "'average'  :        'float16',\n",
        "'review_body'     :  'object',\n",
        "'review_date'      : 'object',\n",
        "'review_likes'     : 'object',\n",
        "'review_rating'    :'float16',\n",
        "'review_title'     : 'object',\n",
        "'five_star'        :'float16',\n",
        "'four_star'        :'float16',\n",
        "'one_star'        :'float16',\n",
        "'pp_date'          : 'object',\n",
        "'three_star'       :'float16',\n",
        "'two_star'         :'float16',\n",
        "'refpe'            : 'object',\n",
        "'text_clean'        :'object',\n",
        "'title_clean'       :'object',\n",
        "'ml_score'         :'float16',\n",
        "'text'             : 'object',\n",
        "'ml_topic'         : 'category',\n",
        "'opinion'          : 'object',\n",
        "}\n"
      ],
      "execution_count": 5,
      "outputs": []
    },
    {
      "cell_type": "code",
      "metadata": {
        "colab": {
          "base_uri": "https://localhost:8080/"
        },
        "id": "XTZ9eQj1_qp4",
        "outputId": "eb0018d0-2c19-4ac5-b2cd-04e93a404b4d"
      },
      "source": [
        "from google.colab import auth\n",
        "auth.authenticate_user()\n",
        "\n",
        "# https://cloud.google.com/resource-manager/docs/creating-managing-projects\n",
        "project_id = 'dataimpact-rd'\n",
        "!gcloud config set project {project_id}\n"
      ],
      "execution_count": 14,
      "outputs": [
        {
          "output_type": "stream",
          "text": [
            "Updated property [core/project].\n"
          ],
          "name": "stdout"
        }
      ]
    },
    {
      "cell_type": "code",
      "metadata": {
        "colab": {
          "base_uri": "https://localhost:8080/"
        },
        "id": "LnBTOKtX_qaf",
        "outputId": "72c08b6d-7f95-417f-c9db-28eec6fd9422"
      },
      "source": [
        "# Download the file from a given Google Cloud Storage bucket.\n",
        "!gsutil cp gs://di_data_sas/EN/US/Amazon/Data/periode_11/amazon_ml_opinions_topics.csv /tmp/amazon_ml_opinions_topics.csv\n",
        "  \n",
        "# Print the result to make sure the transfer worked.\n",
        "!head -n 5 /tmp/amazon_ml_opinions_topics.csv\n",
        "\n",
        "!gsutil cp gs://di_data_sas/EN/US/Walmart/Data/2020_periode_1/walmart_ml_opinions.csv /tmp/walmart_ml_opinions_topics.csv\n",
        "!gsutil cp  gs://di_data_sas/EN/US/Target/Data/2020_periode_1/target_ml_opinions.csv /tmp/target_ml_opinions_topics.csv\n",
        "!gsutil cp gs://di_data_sas/EN/UK/Asda/Data/2020_periode_1/asda_ml_opinions.csv /tmp/asda_ml_opinions_topics.csv\n",
        "!gsutil cp gs://di_data_sas/EN/UK/Morrisons/Data/2020_periode_1/morrisons_ml_opinions.csv /tmp/morrisons_ml_opinions_topics.csv\n",
        "!gsutil cp gs://di_data_sas/EN/UK/Ocado/Data/2020_periode_1/ocado_ml_opinions.csv  /tmp/ocado_ml_opinions_topics.csv\n",
        "!gsutil cp gs://di_data_sas/FR/Coursesu/Data/2020_periode_10/coursesu_ml_opinions.csv courseu.csv"
      ],
      "execution_count": 15,
      "outputs": [
        {
          "output_type": "stream",
          "text": [
            "Copying gs://di_data_sas/EN/US/Amazon/Data/periode_11/amazon_ml_opinions_topics.csv...\n",
            "/ [1 files][  1.7 GiB/  1.7 GiB]   48.0 MiB/s                                   \n",
            "Operation completed over 1 objects/1.7 GiB.                                      \n",
            "asin,average,review_body,review_date,review_likes,review_rating,review_title,five_star,four_star,one_star,pp_date,three_star,two_star,refpe,text_clean,title_clean,ml_score,text,ml_topic,opinion\n",
            "B071F4PVKJ,0.0,the seam on the left sleeve broke in 2 days.  it was likely just an anomaly because the knitting is very high quality otherwise.,2019-01-04,0,2.0,\"overall nice, but mine had a bad seam\",,,,2019-11-31,,,1840002706176,seam left sleeve broke days likely anomaly knitting high quality otherwise,overall nice mine bad seam,-1.0,seam left sleeve broke days likely anomaly knitting high quality otherwise overall nice mine bad seam,['delivery'],['']\n",
            "B071F4PVKJ,0.0,loved everything about this sweater..it looks adorable on my dog and it was everything i expected it to be,2018-02-05,1,5.0,five stars,,,,2019-11-31,,,1840002706176,loved everything sweater looks adorable dog everything expected,five stars,1.0,loved everything sweater looks adorable dog everything expected five stars,[],[]\n",
            "B01DPEQBF0,0.0,the cutest most durable sweater. absolutely love this. my dog looks regal. haha,2019-11-15,0,5.0,thick and durable,,,,2019-11-31,,,1840002207522,cutest durable sweater absolutely love dog looks regal haha,thick durable,1.0,cutest durable sweater absolutely love dog looks regal haha thick durable,['allergens'],['']\n",
            "B01DPEQBF0,0.0,i have a golden retriever and i got xxl it fit good it was a little long from the back but not big of a deal overall it was perfect my dog loves it!,2019-10-29,0,5.0,good!,,,,2019-11-31,,,1840002207522,golden retriever got xxl fit good little long back not big deal overall perfect dog loves,good,1.0,golden retriever got xxl fit good little long back not big deal overall perfect dog loves good,['price'],[]\n",
            "Copying gs://di_data_sas/EN/US/Walmart/Data/2020_periode_1/walmart_ml_opinions.csv...\n",
            "- [1 files][415.6 MiB/415.6 MiB]                                                \n",
            "Operation completed over 1 objects/415.6 MiB.                                    \n",
            "Copying gs://di_data_sas/EN/US/Target/Data/2020_periode_1/target_ml_opinions.csv...\n",
            "/ [1 files][278.7 MiB/278.7 MiB]                                                \n",
            "Operation completed over 1 objects/278.7 MiB.                                    \n",
            "Copying gs://di_data_sas/EN/UK/Asda/Data/2020_periode_1/asda_ml_opinions.csv...\n",
            "\\ [1 files][481.1 MiB/481.1 MiB]                                                \n",
            "Operation completed over 1 objects/481.1 MiB.                                    \n",
            "Copying gs://di_data_sas/EN/UK/Morrisons/Data/2020_periode_1/morrisons_ml_opinions.csv...\n",
            "- [1 files][ 17.8 MiB/ 17.8 MiB]                                                \n",
            "Operation completed over 1 objects/17.8 MiB.                                     \n",
            "Copying gs://di_data_sas/EN/UK/Ocado/Data/2020_periode_1/ocado_ml_opinions.csv...\n",
            "- [1 files][214.1 MiB/214.1 MiB]                                                \n",
            "Operation completed over 1 objects/214.1 MiB.                                    \n",
            "Copying gs://di_data_sas/FR/Coursesu/Data/2020_periode_10/coursesu_ml_opinions.csv...\n",
            "- [1 files][ 17.7 MiB/ 17.7 MiB]                                                \n",
            "Operation completed over 1 objects/17.7 MiB.                                     \n"
          ],
          "name": "stdout"
        }
      ]
    },
    {
      "cell_type": "code",
      "metadata": {
        "id": "nvTIZfdCSkgp"
      },
      "source": [
        "list_retailers = ['Amazon' , 'Asda', 'Morrisons', 'Ocado', 'Target', 'Walmart']\n",
        "retailers = {}\n",
        "for retailer in list_retailers:\n",
        "\n",
        "    retailers[retailer] = pd.read_csv('/tmp/' + retailer.lower() + \n",
        "                                      '_ml_opinions_topics.csv', dtype=edited_types, nrows=10)\n",
        "    #retailers[retailer] = retailers[retailer].dropna(subset=['review_body'])\n",
        "    \n",
        "to_concat = [retailers[retailer] for retailer in list_retailers]\n",
        "#to_concat = [retailers[retailer]['review_body'] for retailer in list_retailers]\n",
        "data = pd.concat(to_concat, ignore_index = True)"
      ],
      "execution_count": 16,
      "outputs": []
    },
    {
      "cell_type": "markdown",
      "metadata": {
        "id": "KfhAJDxhgTMa"
      },
      "source": [
        "### <font color='green'>Handler class, handle get, tokenization and padding of the sentences for Pytorch Dataset  </font> "
      ]
    },
    {
      "cell_type": "code",
      "metadata": {
        "id": "POz-KP3TJ6fK"
      },
      "source": [
        "import pickle\n",
        "topics =  pickle.load(open('topics.p', 'rb'), encoding='latin1')\n",
        "targets =  pickle.load(open('targets.p', 'rb'), encoding='latin1')\n",
        "targets_en = targets + ['quality']"
      ],
      "execution_count": 2,
      "outputs": []
    },
    {
      "cell_type": "code",
      "metadata": {
        "id": "vo2gR3NR_jN1",
        "colab": {
          "base_uri": "https://localhost:8080/"
        },
        "outputId": "c4fc8c1e-6ae1-4b86-f36e-2abdc3417ab9"
      },
      "source": [
        "\n",
        "# pose sequence as a NLI premise and label as a hypothesis\n",
        "from transformers import AutoModelForSequenceClassification, AutoTokenizer\n",
        "model = 'joeddav/xlm-roberta-large-xnli'\n",
        "nli_model = AutoModelForSequenceClassification.from_pretrained(model)\n",
        "tokenizer = AutoTokenizer.from_pretrained(model)\n",
        "# device = torch.device(\"cuda:0\" if torch.cuda.is_available() else \"cpu\")"
      ],
      "execution_count": 3,
      "outputs": [
        {
          "output_type": "stream",
          "text": [
            "Some weights of the model checkpoint at joeddav/xlm-roberta-large-xnli were not used when initializing XLMRobertaForSequenceClassification: ['roberta.pooler.dense.weight', 'roberta.pooler.dense.bias']\n",
            "- This IS expected if you are initializing XLMRobertaForSequenceClassification from the checkpoint of a model trained on another task or with another architecture (e.g. initializing a BertForSequenceClassification model from a BertForPreTraining model).\n",
            "- This IS NOT expected if you are initializing XLMRobertaForSequenceClassification from the checkpoint of a model that you expect to be exactly identical (initializing a BertForSequenceClassification model from a BertForSequenceClassification model).\n"
          ],
          "name": "stderr"
        }
      ]
    },
    {
      "cell_type": "code",
      "metadata": {
        "colab": {
          "base_uri": "https://localhost:8080/"
        },
        "id": "5Mt1vu8V3suC",
        "outputId": "88d93121-f64e-4b59-e97c-d4777eb23eda"
      },
      "source": [
        "targets_fr = ['competition', 'prix', 'goût', 'livraison', 'qualité']\n",
        "hypothesis = \"Cet exemple est {}.\"\n",
        "hypothesis = \"This exemple is {}.\"\n",
        "results = {}\n",
        "\n",
        "sequence = 'pas assez moelleux à mon goût mais bons quand même pruneaux un peu secs trop cher par contre '\n",
        "sequence = 'délicieux, bio et d\\'un pris raisonnable pour un 40% de cacao... bonne alternative gourmande'\n",
        "sequence  = 'produit délicieux, facile à cuisiné (j\\'ai décongelé 1 nuit dans du lait) bon produit'\n",
        "for label in targets_fr:\n",
        "  # run through model pre-trained on MNLI\n",
        "  print(hypothesis.format(label))\n",
        "\n",
        "  x = tokenizer.encode(sequence, hypothesis.format(label), return_tensors='pt',\n",
        "                      truncation=True)\n",
        "  logits = nli_model(x)[0]\n",
        "\n",
        "  # we throw away \"neutral\" (dim 1) and take the probability of\n",
        "  # \"entailment\" (2) as the probability of the label being true \n",
        "  entail_contradiction_logits = logits[:,[0,2]]\n",
        "  probs = entail_contradiction_logits.softmax(dim=1)\n",
        "  prob_label_is_true = probs[:,1]\n",
        "  results[label] = (prob_label_is_true[0])\n"
      ],
      "execution_count": 4,
      "outputs": [
        {
          "output_type": "stream",
          "text": [
            "This exemple is competition.\n",
            "This exemple is prix.\n",
            "This exemple is goût.\n",
            "This exemple is livraison.\n",
            "This exemple is qualité.\n"
          ],
          "name": "stdout"
        }
      ]
    },
    {
      "cell_type": "code",
      "metadata": {
        "colab": {
          "base_uri": "https://localhost:8080/"
        },
        "id": "utDL5Kiu3y3V",
        "outputId": "079ba524-8444-4ff1-fb6d-526fd51bbe6f"
      },
      "source": [
        "\n",
        "labels_list = {k:v.item() for k,v in results.items()}\n",
        "labels_list\n",
        "predicted_rating = max(labels_list, key=labels_list.get)\n",
        "predicted_rating\n",
        "{k: v for k, v in labels_list.items() if v > 0.6 and  labels_list[max(labels_list, key=labels_list.get)]  / v < 1.2 }\n",
        "labels_list"
      ],
      "execution_count": 6,
      "outputs": [
        {
          "output_type": "execute_result",
          "data": {
            "text/plain": [
              "{'competition': 0.032359931617975235,\n",
              " 'goût': 0.9963603615760803,\n",
              " 'livraison': 0.5836494565010071,\n",
              " 'prix': 0.06994394958019257,\n",
              " 'qualité': 0.9971575736999512}"
            ]
          },
          "metadata": {
            "tags": []
          },
          "execution_count": 6
        }
      ]
    },
    {
      "cell_type": "code",
      "metadata": {
        "colab": {
          "base_uri": "https://localhost:8080/"
        },
        "id": "KJDddv80RRLY",
        "outputId": "d08724be-d7ff-4be3-da56-9128da49ff73"
      },
      "source": [
        "  def inference(sequence):\n",
        "\n",
        "    results = {}\n",
        "    for label in targets:\n",
        "      # run through model pre-trained on MNLI\n",
        "\n",
        "      x = tokenizer.encode(sequence, hypothesis.format(label), return_tensors='pt',\n",
        "                          truncation=True)\n",
        "      logits = nli_model(x)[0]\n",
        "\n",
        "      # we throw away \"neutral\" (dim 1) and take the probability of\n",
        "      # \"entailment\" (2) as the probability of the label being true \n",
        "      entail_contradiction_logits = logits[:,[0,2]]\n",
        "      probs = entail_contradiction_logits.softmax(dim=1)\n",
        "      prob_label_is_true = probs[:,1]\n",
        "      results[label] = (prob_label_is_true[0])\n",
        "  \n",
        "      # getting the proba value as torch item\n",
        "    results = {k:v.item() for k,v in results.items()}\n",
        "    max_prob = max(results, key=results.get)\n",
        "\n",
        "    results = {k: v for k, v in results.items() if v > 0.6 and  results[max_prob]  / v < 1.2 }\n",
        "    return results\n",
        "inference('got shipped fast thx but its good product')"
      ],
      "execution_count": 55,
      "outputs": [
        {
          "output_type": "execute_result",
          "data": {
            "text/plain": [
              "{'delivery': 0.9922468662261963,\n",
              " 'quality': 0.9988862872123718,\n",
              " 'taste': 0.903903067111969}"
            ]
          },
          "metadata": {
            "tags": []
          },
          "execution_count": 55
        }
      ]
    },
    {
      "cell_type": "code",
      "metadata": {
        "id": "N1s43bXR4v-_"
      },
      "source": [
        "\n",
        "class topics_custom_pipeline():\n",
        "\n",
        "  \"\"\"Custom class that use an Natural Language Inference Model and the right encoder to\n",
        "  Extract Main Topics from Reviews\"\"\"\n",
        "  def __init__(self, nli_model, tokenizer, targets,df: DataFrame, lang='EN'):\n",
        "    self.nli_model = nli_model\n",
        "    self.tokenizer = tokenizer\n",
        "    self.targets = targets\n",
        "    self.df = df\n",
        "    self.lang = lang\n",
        "\n",
        "\n",
        "  def select_hypothesis(self):\n",
        "    _hypothesis = { 'FR': \"Cet exemple est {}.\",\n",
        "                    'EN': \"This exemple is {}.\"}\n",
        "    \n",
        "    try : return _hypothesis[self.lang]\n",
        "    except:\n",
        "        logging.error('Default Language English is chosen, beceuse you didnt specify a right language [EN, FR, ES..]')\n",
        "        return _hypothesis['EN']\n",
        "\n",
        "\n",
        "  def inference(self, sequence):\n",
        "\n",
        "    results = {}\n",
        "    for label in self.targets:\n",
        "      # run through model pre-trained on MNLI\n",
        "      x = self.tokenizer.encode(sequence, self.select_hypothesis().format(label), return_tensors='pt',\n",
        "                          truncation=True)\n",
        "      logits = self.nli_model(x)[0]\n",
        "\n",
        "      # we throw away \"neutral\" (dim 1) and take the probability of\n",
        "      # \"entailment\" (2) as the probability of the label being true \n",
        "      entail_contradiction_logits = logits[:,[0,2]]\n",
        "      probs = entail_contradiction_logits.softmax(dim=1)\n",
        "      prob_label_is_true = probs[:,1]\n",
        "      results[label] = (prob_label_is_true[0])\n",
        "\n",
        "      # getting the proba value as torch item\n",
        "    results = {k:v.item() for k,v in results.items()}\n",
        "    # results['taste'] = results['taste'] - 0.01\n",
        "    add_competition = False\n",
        "    max_prob = max(results, key=results.get)\n",
        "    results = {k: v for k, v in results.items() if v > 0.85 and  results[max_prob]  / v < 1.2 }\n",
        "    if max_prob == 'quality' or max_prob == 'qualité':\n",
        "      if 'taste' in results.keys():\n",
        "        if results['taste'] < 0.995:\n",
        "          results = list(filter(lambda x: x not in 'taste',([key for key in results.keys()])))\n",
        "      elif 'goût' in results.keys():\n",
        "        if results['goût'] < 0.995:\n",
        "          results = list(filter(lambda x: x not in 'goût',([key for key in results.keys()])))\n",
        "    results = list(filter(lambda x: x not in 'quality' and x not in  'qualité', results))\n",
        "    return results\n",
        "   \n",
        "\n",
        "  def extract_topics_on_df(self):\n",
        "\n",
        "    self.df['topics'] = self.df['review'].apply(lambda x: self.inference(x))\n",
        "    return self.df\n"
      ],
      "execution_count": 15,
      "outputs": []
    },
    {
      "cell_type": "code",
      "metadata": {
        "id": "CB67xcaL-PRz"
      },
      "source": [
        "take = pd.read_csv('takealot_final_ml_processed.csv')\n",
        "\n",
        "courseu = pd.read_csv('courseu.csv')"
      ],
      "execution_count": 16,
      "outputs": []
    },
    {
      "cell_type": "code",
      "metadata": {
        "id": "ox3gtKNGKtNi"
      },
      "source": [
        "sample_fr = courseu.sample(10)\n",
        "sample_en = take.sample(10)\n",
        "\n",
        "extraction_object_fr = topics_custom_pipeline(nli_model, tokenizer, ['competition', 'prix', 'goût', 'livraison', 'qualité'], sample_fr, 'EN')\n",
        "extraction_object_en = topics_custom_pipeline(nli_model, tokenizer, targets_en, sample_en)"
      ],
      "execution_count": 21,
      "outputs": []
    },
    {
      "cell_type": "code",
      "metadata": {
        "id": "dChqJ_TWLxd1"
      },
      "source": [
        "data_processed_fr = extraction_object_fr.extract_topics_on_df()\n",
        "data1_processed_en = extraction_object_en.extract_topics_on_df()"
      ],
      "execution_count": 22,
      "outputs": []
    },
    {
      "cell_type": "code",
      "metadata": {
        "colab": {
          "base_uri": "https://localhost:8080/",
          "height": 457
        },
        "id": "gzQQ2YZ9Ocsx",
        "outputId": "4f495d7e-d02e-4e08-91d9-dc490aa729de"
      },
      "source": [
        "pd.set_option('display.max_colwidth', -1)\n",
        "data_processed_fr[['review', 'topics']].style.applymap(lambda x: 'background-color:pink; border:solid; color:black; font: italic 1.2em \"Fira Sans\", serif;' )"
      ],
      "execution_count": 23,
      "outputs": [
        {
          "output_type": "stream",
          "text": [
            "/usr/local/lib/python3.6/dist-packages/ipykernel_launcher.py:1: FutureWarning: Passing a negative integer is deprecated in version 1.0 and will not be supported in future version. Instead, use None to not limit the column width.\n",
            "  \"\"\"Entry point for launching an IPython kernel.\n"
          ],
          "name": "stderr"
        },
        {
          "output_type": "execute_result",
          "data": {
            "text/html": [
              "<style  type=\"text/css\" >\n",
              "#T_e9b6a1fe_4951_11eb_bae7_0242ac1c0002row0_col0,#T_e9b6a1fe_4951_11eb_bae7_0242ac1c0002row0_col1,#T_e9b6a1fe_4951_11eb_bae7_0242ac1c0002row1_col0,#T_e9b6a1fe_4951_11eb_bae7_0242ac1c0002row1_col1,#T_e9b6a1fe_4951_11eb_bae7_0242ac1c0002row2_col0,#T_e9b6a1fe_4951_11eb_bae7_0242ac1c0002row2_col1,#T_e9b6a1fe_4951_11eb_bae7_0242ac1c0002row3_col0,#T_e9b6a1fe_4951_11eb_bae7_0242ac1c0002row3_col1,#T_e9b6a1fe_4951_11eb_bae7_0242ac1c0002row4_col0,#T_e9b6a1fe_4951_11eb_bae7_0242ac1c0002row4_col1,#T_e9b6a1fe_4951_11eb_bae7_0242ac1c0002row5_col0,#T_e9b6a1fe_4951_11eb_bae7_0242ac1c0002row5_col1,#T_e9b6a1fe_4951_11eb_bae7_0242ac1c0002row6_col0,#T_e9b6a1fe_4951_11eb_bae7_0242ac1c0002row6_col1,#T_e9b6a1fe_4951_11eb_bae7_0242ac1c0002row7_col0,#T_e9b6a1fe_4951_11eb_bae7_0242ac1c0002row7_col1,#T_e9b6a1fe_4951_11eb_bae7_0242ac1c0002row8_col0,#T_e9b6a1fe_4951_11eb_bae7_0242ac1c0002row8_col1,#T_e9b6a1fe_4951_11eb_bae7_0242ac1c0002row9_col0,#T_e9b6a1fe_4951_11eb_bae7_0242ac1c0002row9_col1{\n",
              "            background-color: pink;\n",
              "             border: solid;\n",
              "             color: black;\n",
              "             font:  italic 1.2em \"Fira Sans\", serif;\n",
              "        }</style><table id=\"T_e9b6a1fe_4951_11eb_bae7_0242ac1c0002\" ><thead>    <tr>        <th class=\"blank level0\" ></th>        <th class=\"col_heading level0 col0\" >review</th>        <th class=\"col_heading level0 col1\" >topics</th>    </tr></thead><tbody>\n",
              "                <tr>\n",
              "                        <th id=\"T_e9b6a1fe_4951_11eb_bae7_0242ac1c0002level0_row0\" class=\"row_heading level0 row0\" >10400</th>\n",
              "                        <td id=\"T_e9b6a1fe_4951_11eb_bae7_0242ac1c0002row0_col0\" class=\"data row0 col0\" >rarement déçue. \r\n",
              "aussi bonnes en fruits d appoint que pour réaliser des tartes. achetées régulièrement</td>\n",
              "                        <td id=\"T_e9b6a1fe_4951_11eb_bae7_0242ac1c0002row0_col1\" class=\"data row0 col1\" >[]</td>\n",
              "            </tr>\n",
              "            <tr>\n",
              "                        <th id=\"T_e9b6a1fe_4951_11eb_bae7_0242ac1c0002level0_row1\" class=\"row_heading level0 row1\" >7637</th>\n",
              "                        <td id=\"T_e9b6a1fe_4951_11eb_bae7_0242ac1c0002row1_col0\" class=\"data row1 col0\" >j achète ce produit régulièrement j en suis satisfaite aussi bien que les produits grandes marques</td>\n",
              "                        <td id=\"T_e9b6a1fe_4951_11eb_bae7_0242ac1c0002row1_col1\" class=\"data row1 col1\" >[]</td>\n",
              "            </tr>\n",
              "            <tr>\n",
              "                        <th id=\"T_e9b6a1fe_4951_11eb_bae7_0242ac1c0002level0_row2\" class=\"row_heading level0 row2\" >5499</th>\n",
              "                        <td id=\"T_e9b6a1fe_4951_11eb_bae7_0242ac1c0002row2_col0\" class=\"data row2 col0\" >très bon chocolat, pour les pauses thé/café.\r\n",
              "prix très abordable pour du bio. chocolat bio très abordable</td>\n",
              "                        <td id=\"T_e9b6a1fe_4951_11eb_bae7_0242ac1c0002row2_col1\" class=\"data row2 col1\" >['competition', 'prix', 'goût']</td>\n",
              "            </tr>\n",
              "            <tr>\n",
              "                        <th id=\"T_e9b6a1fe_4951_11eb_bae7_0242ac1c0002level0_row3\" class=\"row_heading level0 row3\" >1243</th>\n",
              "                        <td id=\"T_e9b6a1fe_4951_11eb_bae7_0242ac1c0002row3_col0\" class=\"data row3 col0\" >ma fille a longtemps cherché ce produit.  enfin elle est comblée, car ses cheveux sont impeccables. très efficace et pratique</td>\n",
              "                        <td id=\"T_e9b6a1fe_4951_11eb_bae7_0242ac1c0002row3_col1\" class=\"data row3 col1\" >[]</td>\n",
              "            </tr>\n",
              "            <tr>\n",
              "                        <th id=\"T_e9b6a1fe_4951_11eb_bae7_0242ac1c0002level0_row4\" class=\"row_heading level0 row4\" >1279</th>\n",
              "                        <td id=\"T_e9b6a1fe_4951_11eb_bae7_0242ac1c0002row4_col0\" class=\"data row4 col0\" >j'achète ce produit depuis des années pour mes enfants, à mon goût il est trop sucré mais eux n'aiment que lui brique multi vitaminé</td>\n",
              "                        <td id=\"T_e9b6a1fe_4951_11eb_bae7_0242ac1c0002row4_col1\" class=\"data row4 col1\" >['goût']</td>\n",
              "            </tr>\n",
              "            <tr>\n",
              "                        <th id=\"T_e9b6a1fe_4951_11eb_bae7_0242ac1c0002level0_row5\" class=\"row_heading level0 row5\" >1960</th>\n",
              "                        <td id=\"T_e9b6a1fe_4951_11eb_bae7_0242ac1c0002row5_col0\" class=\"data row5 col0\" >a éviter l'hiver de octobre à mars les chèvres allaitant leurs petits produit de qualité.</td>\n",
              "                        <td id=\"T_e9b6a1fe_4951_11eb_bae7_0242ac1c0002row5_col1\" class=\"data row5 col1\" >[]</td>\n",
              "            </tr>\n",
              "            <tr>\n",
              "                        <th id=\"T_e9b6a1fe_4951_11eb_bae7_0242ac1c0002level0_row6\" class=\"row_heading level0 row6\" >9675</th>\n",
              "                        <td id=\"T_e9b6a1fe_4951_11eb_bae7_0242ac1c0002row6_col0\" class=\"data row6 col0\" >je l achete depuis plusieurs années.  c est parfait. ideal la matiere végétale pour les chats</td>\n",
              "                        <td id=\"T_e9b6a1fe_4951_11eb_bae7_0242ac1c0002row6_col1\" class=\"data row6 col1\" >[]</td>\n",
              "            </tr>\n",
              "            <tr>\n",
              "                        <th id=\"T_e9b6a1fe_4951_11eb_bae7_0242ac1c0002level0_row7\" class=\"row_heading level0 row7\" >31719</th>\n",
              "                        <td id=\"T_e9b6a1fe_4951_11eb_bae7_0242ac1c0002row7_col0\" class=\"data row7 col0\" >ces galettes sont très bonnes. elles sont plus petites que les autres, ce qui est bien pratique : elles ne débordent pas de la poêle. très bonnes</td>\n",
              "                        <td id=\"T_e9b6a1fe_4951_11eb_bae7_0242ac1c0002row7_col1\" class=\"data row7 col1\" >[]</td>\n",
              "            </tr>\n",
              "            <tr>\n",
              "                        <th id=\"T_e9b6a1fe_4951_11eb_bae7_0242ac1c0002level0_row8\" class=\"row_heading level0 row8\" >35113</th>\n",
              "                        <td id=\"T_e9b6a1fe_4951_11eb_bae7_0242ac1c0002row8_col0\" class=\"data row8 col0\" >bon produit!! des tranches de jambon fraîches, rien de comparable à un bon jambon à l’os, mais on saitce qu’on achète, et la qualité est là.. c’est l’essentiel bon rapport qualité/ prix</td>\n",
              "                        <td id=\"T_e9b6a1fe_4951_11eb_bae7_0242ac1c0002row8_col1\" class=\"data row8 col1\" >['prix']</td>\n",
              "            </tr>\n",
              "            <tr>\n",
              "                        <th id=\"T_e9b6a1fe_4951_11eb_bae7_0242ac1c0002level0_row9\" class=\"row_heading level0 row9\" >4661</th>\n",
              "                        <td id=\"T_e9b6a1fe_4951_11eb_bae7_0242ac1c0002row9_col0\" class=\"data row9 col0\" >je n'utilise que ce produit depuis des mois et j'adore produit excellent et pas cher</td>\n",
              "                        <td id=\"T_e9b6a1fe_4951_11eb_bae7_0242ac1c0002row9_col1\" class=\"data row9 col1\" >['prix', 'goût']</td>\n",
              "            </tr>\n",
              "    </tbody></table>"
            ],
            "text/plain": [
              "<pandas.io.formats.style.Styler at 0x7fcdf9f59d30>"
            ]
          },
          "metadata": {
            "tags": []
          },
          "execution_count": 23
        }
      ]
    },
    {
      "cell_type": "code",
      "metadata": {
        "colab": {
          "base_uri": "https://localhost:8080/",
          "height": 397
        },
        "id": "aRWBJWxiPirt",
        "outputId": "05bb84ac-3da7-425c-ee9c-dec24f6c4612"
      },
      "source": [
        "pd.set_option('display.max_colwidth', -1)\n",
        "data1_processed_en[['review', 'topics']].style.applymap(lambda x: 'background-color:pink; border:solid; color:black; font: italic 1.2em \"Fira Sans\", serif;' )"
      ],
      "execution_count": 24,
      "outputs": [
        {
          "output_type": "stream",
          "text": [
            "/usr/local/lib/python3.6/dist-packages/ipykernel_launcher.py:1: FutureWarning: Passing a negative integer is deprecated in version 1.0 and will not be supported in future version. Instead, use None to not limit the column width.\n",
            "  \"\"\"Entry point for launching an IPython kernel.\n"
          ],
          "name": "stderr"
        },
        {
          "output_type": "execute_result",
          "data": {
            "text/html": [
              "<style  type=\"text/css\" >\n",
              "#T_fdc73c8a_4951_11eb_bae7_0242ac1c0002row0_col0,#T_fdc73c8a_4951_11eb_bae7_0242ac1c0002row0_col1,#T_fdc73c8a_4951_11eb_bae7_0242ac1c0002row1_col0,#T_fdc73c8a_4951_11eb_bae7_0242ac1c0002row1_col1,#T_fdc73c8a_4951_11eb_bae7_0242ac1c0002row2_col0,#T_fdc73c8a_4951_11eb_bae7_0242ac1c0002row2_col1,#T_fdc73c8a_4951_11eb_bae7_0242ac1c0002row3_col0,#T_fdc73c8a_4951_11eb_bae7_0242ac1c0002row3_col1,#T_fdc73c8a_4951_11eb_bae7_0242ac1c0002row4_col0,#T_fdc73c8a_4951_11eb_bae7_0242ac1c0002row4_col1,#T_fdc73c8a_4951_11eb_bae7_0242ac1c0002row5_col0,#T_fdc73c8a_4951_11eb_bae7_0242ac1c0002row5_col1,#T_fdc73c8a_4951_11eb_bae7_0242ac1c0002row6_col0,#T_fdc73c8a_4951_11eb_bae7_0242ac1c0002row6_col1,#T_fdc73c8a_4951_11eb_bae7_0242ac1c0002row7_col0,#T_fdc73c8a_4951_11eb_bae7_0242ac1c0002row7_col1,#T_fdc73c8a_4951_11eb_bae7_0242ac1c0002row8_col0,#T_fdc73c8a_4951_11eb_bae7_0242ac1c0002row8_col1,#T_fdc73c8a_4951_11eb_bae7_0242ac1c0002row9_col0,#T_fdc73c8a_4951_11eb_bae7_0242ac1c0002row9_col1{\n",
              "            background-color: pink;\n",
              "             border: solid;\n",
              "             color: black;\n",
              "             font:  italic 1.2em \"Fira Sans\", serif;\n",
              "        }</style><table id=\"T_fdc73c8a_4951_11eb_bae7_0242ac1c0002\" ><thead>    <tr>        <th class=\"blank level0\" ></th>        <th class=\"col_heading level0 col0\" >review</th>        <th class=\"col_heading level0 col1\" >topics</th>    </tr></thead><tbody>\n",
              "                <tr>\n",
              "                        <th id=\"T_fdc73c8a_4951_11eb_bae7_0242ac1c0002level0_row0\" class=\"row_heading level0 row0\" >1386</th>\n",
              "                        <td id=\"T_fdc73c8a_4951_11eb_bae7_0242ac1c0002row0_col0\" class=\"data row0 col0\" >we love these starbucks pods. </td>\n",
              "                        <td id=\"T_fdc73c8a_4951_11eb_bae7_0242ac1c0002row0_col1\" class=\"data row0 col1\" >['packaging']</td>\n",
              "            </tr>\n",
              "            <tr>\n",
              "                        <th id=\"T_fdc73c8a_4951_11eb_bae7_0242ac1c0002level0_row1\" class=\"row_heading level0 row1\" >2456</th>\n",
              "                        <td id=\"T_fdc73c8a_4951_11eb_bae7_0242ac1c0002row1_col0\" class=\"data row1 col0\" >i didn't like it. the smell and the taste, it's a no from me. i prefer the white one thank you.  </td>\n",
              "                        <td id=\"T_fdc73c8a_4951_11eb_bae7_0242ac1c0002row1_col1\" class=\"data row1 col1\" >['allergens', 'competition', 'taste']</td>\n",
              "            </tr>\n",
              "            <tr>\n",
              "                        <th id=\"T_fdc73c8a_4951_11eb_bae7_0242ac1c0002level0_row2\" class=\"row_heading level0 row2\" >264</th>\n",
              "                        <td id=\"T_fdc73c8a_4951_11eb_bae7_0242ac1c0002row2_col0\" class=\"data row2 col0\" >this coffee is absolutely awful. what a bad buy </td>\n",
              "                        <td id=\"T_fdc73c8a_4951_11eb_bae7_0242ac1c0002row2_col1\" class=\"data row2 col1\" >['packaging', 'price']</td>\n",
              "            </tr>\n",
              "            <tr>\n",
              "                        <th id=\"T_fdc73c8a_4951_11eb_bae7_0242ac1c0002level0_row3\" class=\"row_heading level0 row3\" >907</th>\n",
              "                        <td id=\"T_fdc73c8a_4951_11eb_bae7_0242ac1c0002row3_col0\" class=\"data row3 col0\" >great tasting coffee at a good price </td>\n",
              "                        <td id=\"T_fdc73c8a_4951_11eb_bae7_0242ac1c0002row3_col1\" class=\"data row3 col1\" >['price', 'taste']</td>\n",
              "            </tr>\n",
              "            <tr>\n",
              "                        <th id=\"T_fdc73c8a_4951_11eb_bae7_0242ac1c0002level0_row4\" class=\"row_heading level0 row4\" >1751</th>\n",
              "                        <td id=\"T_fdc73c8a_4951_11eb_bae7_0242ac1c0002row4_col0\" class=\"data row4 col0\" >not enough flavour </td>\n",
              "                        <td id=\"T_fdc73c8a_4951_11eb_bae7_0242ac1c0002row4_col1\" class=\"data row4 col1\" >['taste']</td>\n",
              "            </tr>\n",
              "            <tr>\n",
              "                        <th id=\"T_fdc73c8a_4951_11eb_bae7_0242ac1c0002level0_row5\" class=\"row_heading level0 row5\" >2683</th>\n",
              "                        <td id=\"T_fdc73c8a_4951_11eb_bae7_0242ac1c0002row5_col0\" class=\"data row5 col0\" >others like wine i like coffee. this is truely a taste for all who loves coffee!!! </td>\n",
              "                        <td id=\"T_fdc73c8a_4951_11eb_bae7_0242ac1c0002row5_col1\" class=\"data row5 col1\" >['taste']</td>\n",
              "            </tr>\n",
              "            <tr>\n",
              "                        <th id=\"T_fdc73c8a_4951_11eb_bae7_0242ac1c0002level0_row6\" class=\"row_heading level0 row6\" >6</th>\n",
              "                        <td id=\"T_fdc73c8a_4951_11eb_bae7_0242ac1c0002row6_col0\" class=\"data row6 col0\" >very nice product and nice to have a variety </td>\n",
              "                        <td id=\"T_fdc73c8a_4951_11eb_bae7_0242ac1c0002row6_col1\" class=\"data row6 col1\" >[]</td>\n",
              "            </tr>\n",
              "            <tr>\n",
              "                        <th id=\"T_fdc73c8a_4951_11eb_bae7_0242ac1c0002level0_row7\" class=\"row_heading level0 row7\" >2723</th>\n",
              "                        <td id=\"T_fdc73c8a_4951_11eb_bae7_0242ac1c0002row7_col0\" class=\"data row7 col0\" >i can't choose a favourite between guatemala and columbia :) </td>\n",
              "                        <td id=\"T_fdc73c8a_4951_11eb_bae7_0242ac1c0002row7_col1\" class=\"data row7 col1\" >['competition']</td>\n",
              "            </tr>\n",
              "            <tr>\n",
              "                        <th id=\"T_fdc73c8a_4951_11eb_bae7_0242ac1c0002level0_row8\" class=\"row_heading level0 row8\" >669</th>\n",
              "                        <td id=\"T_fdc73c8a_4951_11eb_bae7_0242ac1c0002row8_col0\" class=\"data row8 col0\" >a little bit slow in machine otherwise it is perfect </td>\n",
              "                        <td id=\"T_fdc73c8a_4951_11eb_bae7_0242ac1c0002row8_col1\" class=\"data row8 col1\" >[]</td>\n",
              "            </tr>\n",
              "            <tr>\n",
              "                        <th id=\"T_fdc73c8a_4951_11eb_bae7_0242ac1c0002level0_row9\" class=\"row_heading level0 row9\" >2578</th>\n",
              "                        <td id=\"T_fdc73c8a_4951_11eb_bae7_0242ac1c0002row9_col0\" class=\"data row9 col0\" >not a fan of the coffee personally but my family loves it! </td>\n",
              "                        <td id=\"T_fdc73c8a_4951_11eb_bae7_0242ac1c0002row9_col1\" class=\"data row9 col1\" >[]</td>\n",
              "            </tr>\n",
              "    </tbody></table>"
            ],
            "text/plain": [
              "<pandas.io.formats.style.Styler at 0x7fcdf9f59be0>"
            ]
          },
          "metadata": {
            "tags": []
          },
          "execution_count": 24
        }
      ]
    },
    {
      "cell_type": "code",
      "metadata": {
        "id": "w2KtAdCq3WNK"
      },
      "source": [
        "from transformers import pipeline\n",
        "classifier = pipeline(\"zero-shot-classification\", model='joeddav/xlm-roberta-large-xnli')\n",
        "sequence = 'très satisfaite . produit de bonne qualité et beaucoup de saveurs délicieux'\n",
        "candidate_labels = targets_fr\n",
        "classifier(sequence, candidate_labels, multi_class=True)"
      ],
      "execution_count": 24,
      "outputs": []
    },
    {
      "cell_type": "code",
      "metadata": {
        "id": "7g3hND_yHNpC"
      },
      "source": [
        ""
      ],
      "execution_count": null,
      "outputs": []
    }
  ]
}